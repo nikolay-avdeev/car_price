{
 "cells": [
  {
   "cell_type": "markdown",
   "metadata": {},
   "source": [
    "# Определение стоимости автомобилей"
   ]
  },
  {
   "cell_type": "markdown",
   "metadata": {},
   "source": [
    "Сервис по продаже автомобилей с пробегом «Не бит, не крашен» разрабатывает приложение для привлечения новых клиентов. В нём можно быстро узнать рыночную стоимость своего автомобиля. В вашем распоряжении исторические данные: технические характеристики, комплектации и цены автомобилей. Вам нужно построить модель для определения стоимости. \n",
    "\n",
    "Заказчику важны:\n",
    "\n",
    "- качество предсказания;\n",
    "- скорость предсказания;\n",
    "- время обучения."
   ]
  },
  {
   "cell_type": "markdown",
   "metadata": {},
   "source": [
    "## Подготовка данных"
   ]
  },
  {
   "cell_type": "code",
   "execution_count": 1,
   "metadata": {},
   "outputs": [
    {
     "name": "stdout",
     "output_type": "stream",
     "text": [
      "Collecting scikit-learn==1.1.3\n",
      "  Downloading scikit_learn-1.1.3-cp39-cp39-manylinux_2_17_x86_64.manylinux2014_x86_64.whl (30.8 MB)\n",
      "\u001b[K     |████████████████████████████████| 30.8 MB 47 kB/s  eta 0:00:01     |████████████████████████████▉   | 27.7 MB 2.5 MB/s eta 0:00:02\n",
      "\u001b[?25hRequirement already satisfied: threadpoolctl>=2.0.0 in /opt/conda/lib/python3.9/site-packages (from scikit-learn==1.1.3) (3.1.0)\n",
      "Requirement already satisfied: numpy>=1.17.3 in /opt/conda/lib/python3.9/site-packages (from scikit-learn==1.1.3) (1.21.1)\n",
      "Requirement already satisfied: scipy>=1.3.2 in /opt/conda/lib/python3.9/site-packages (from scikit-learn==1.1.3) (1.9.1)\n",
      "Requirement already satisfied: joblib>=1.0.0 in /opt/conda/lib/python3.9/site-packages (from scikit-learn==1.1.3) (1.1.0)\n",
      "Installing collected packages: scikit-learn\n",
      "  Attempting uninstall: scikit-learn\n",
      "    Found existing installation: scikit-learn 0.24.1\n",
      "    Uninstalling scikit-learn-0.24.1:\n",
      "      Successfully uninstalled scikit-learn-0.24.1\n",
      "Successfully installed scikit-learn-1.1.3\n"
     ]
    }
   ],
   "source": [
    "!pip install scikit-learn==1.1.3"
   ]
  },
  {
   "cell_type": "code",
   "execution_count": 2,
   "metadata": {},
   "outputs": [],
   "source": [
    "import numpy as np \n",
    "import pandas as pd  \n",
    "import time\n",
    "import warnings\n",
    "\n",
    "from sklearn.ensemble import RandomForestRegressor \n",
    "from sklearn.linear_model import LinearRegression \n",
    "\n",
    "from lightgbm import LGBMRegressor\n",
    "from catboost import CatBoostRegressor\n",
    "\n",
    "from sklearn.model_selection import cross_val_score, GridSearchCV , RandomizedSearchCV, train_test_split \n",
    "from sklearn.preprocessing import OrdinalEncoder, OneHotEncoder, StandardScaler\n",
    "from sklearn.metrics import make_scorer, mean_squared_error \n",
    "from sklearn.compose import make_column_transformer\n",
    "from sklearn.pipeline import make_pipeline\n",
    "\n",
    "warnings.filterwarnings(\"ignore\")\n",
    "\n",
    "RND = 12345"
   ]
  },
  {
   "cell_type": "code",
   "execution_count": 3,
   "metadata": {},
   "outputs": [],
   "source": [
    "data = pd.read_csv('/datasets/autos.csv')"
   ]
  },
  {
   "cell_type": "code",
   "execution_count": 4,
   "metadata": {},
   "outputs": [
    {
     "data": {
      "text/html": [
       "<div>\n",
       "<style scoped>\n",
       "    .dataframe tbody tr th:only-of-type {\n",
       "        vertical-align: middle;\n",
       "    }\n",
       "\n",
       "    .dataframe tbody tr th {\n",
       "        vertical-align: top;\n",
       "    }\n",
       "\n",
       "    .dataframe thead th {\n",
       "        text-align: right;\n",
       "    }\n",
       "</style>\n",
       "<table border=\"1\" class=\"dataframe\">\n",
       "  <thead>\n",
       "    <tr style=\"text-align: right;\">\n",
       "      <th></th>\n",
       "      <th>DateCrawled</th>\n",
       "      <th>Price</th>\n",
       "      <th>VehicleType</th>\n",
       "      <th>RegistrationYear</th>\n",
       "      <th>Gearbox</th>\n",
       "      <th>Power</th>\n",
       "      <th>Model</th>\n",
       "      <th>Kilometer</th>\n",
       "      <th>RegistrationMonth</th>\n",
       "      <th>FuelType</th>\n",
       "      <th>Brand</th>\n",
       "      <th>Repaired</th>\n",
       "      <th>DateCreated</th>\n",
       "      <th>NumberOfPictures</th>\n",
       "      <th>PostalCode</th>\n",
       "      <th>LastSeen</th>\n",
       "    </tr>\n",
       "  </thead>\n",
       "  <tbody>\n",
       "    <tr>\n",
       "      <th>0</th>\n",
       "      <td>2016-03-24 11:52:17</td>\n",
       "      <td>480</td>\n",
       "      <td>NaN</td>\n",
       "      <td>1993</td>\n",
       "      <td>manual</td>\n",
       "      <td>0</td>\n",
       "      <td>golf</td>\n",
       "      <td>150000</td>\n",
       "      <td>0</td>\n",
       "      <td>petrol</td>\n",
       "      <td>volkswagen</td>\n",
       "      <td>NaN</td>\n",
       "      <td>2016-03-24 00:00:00</td>\n",
       "      <td>0</td>\n",
       "      <td>70435</td>\n",
       "      <td>2016-04-07 03:16:57</td>\n",
       "    </tr>\n",
       "    <tr>\n",
       "      <th>1</th>\n",
       "      <td>2016-03-24 10:58:45</td>\n",
       "      <td>18300</td>\n",
       "      <td>coupe</td>\n",
       "      <td>2011</td>\n",
       "      <td>manual</td>\n",
       "      <td>190</td>\n",
       "      <td>NaN</td>\n",
       "      <td>125000</td>\n",
       "      <td>5</td>\n",
       "      <td>gasoline</td>\n",
       "      <td>audi</td>\n",
       "      <td>yes</td>\n",
       "      <td>2016-03-24 00:00:00</td>\n",
       "      <td>0</td>\n",
       "      <td>66954</td>\n",
       "      <td>2016-04-07 01:46:50</td>\n",
       "    </tr>\n",
       "    <tr>\n",
       "      <th>2</th>\n",
       "      <td>2016-03-14 12:52:21</td>\n",
       "      <td>9800</td>\n",
       "      <td>suv</td>\n",
       "      <td>2004</td>\n",
       "      <td>auto</td>\n",
       "      <td>163</td>\n",
       "      <td>grand</td>\n",
       "      <td>125000</td>\n",
       "      <td>8</td>\n",
       "      <td>gasoline</td>\n",
       "      <td>jeep</td>\n",
       "      <td>NaN</td>\n",
       "      <td>2016-03-14 00:00:00</td>\n",
       "      <td>0</td>\n",
       "      <td>90480</td>\n",
       "      <td>2016-04-05 12:47:46</td>\n",
       "    </tr>\n",
       "    <tr>\n",
       "      <th>3</th>\n",
       "      <td>2016-03-17 16:54:04</td>\n",
       "      <td>1500</td>\n",
       "      <td>small</td>\n",
       "      <td>2001</td>\n",
       "      <td>manual</td>\n",
       "      <td>75</td>\n",
       "      <td>golf</td>\n",
       "      <td>150000</td>\n",
       "      <td>6</td>\n",
       "      <td>petrol</td>\n",
       "      <td>volkswagen</td>\n",
       "      <td>no</td>\n",
       "      <td>2016-03-17 00:00:00</td>\n",
       "      <td>0</td>\n",
       "      <td>91074</td>\n",
       "      <td>2016-03-17 17:40:17</td>\n",
       "    </tr>\n",
       "    <tr>\n",
       "      <th>4</th>\n",
       "      <td>2016-03-31 17:25:20</td>\n",
       "      <td>3600</td>\n",
       "      <td>small</td>\n",
       "      <td>2008</td>\n",
       "      <td>manual</td>\n",
       "      <td>69</td>\n",
       "      <td>fabia</td>\n",
       "      <td>90000</td>\n",
       "      <td>7</td>\n",
       "      <td>gasoline</td>\n",
       "      <td>skoda</td>\n",
       "      <td>no</td>\n",
       "      <td>2016-03-31 00:00:00</td>\n",
       "      <td>0</td>\n",
       "      <td>60437</td>\n",
       "      <td>2016-04-06 10:17:21</td>\n",
       "    </tr>\n",
       "  </tbody>\n",
       "</table>\n",
       "</div>"
      ],
      "text/plain": [
       "           DateCrawled  Price VehicleType  RegistrationYear Gearbox  Power  \\\n",
       "0  2016-03-24 11:52:17    480         NaN              1993  manual      0   \n",
       "1  2016-03-24 10:58:45  18300       coupe              2011  manual    190   \n",
       "2  2016-03-14 12:52:21   9800         suv              2004    auto    163   \n",
       "3  2016-03-17 16:54:04   1500       small              2001  manual     75   \n",
       "4  2016-03-31 17:25:20   3600       small              2008  manual     69   \n",
       "\n",
       "   Model  Kilometer  RegistrationMonth  FuelType       Brand Repaired  \\\n",
       "0   golf     150000                  0    petrol  volkswagen      NaN   \n",
       "1    NaN     125000                  5  gasoline        audi      yes   \n",
       "2  grand     125000                  8  gasoline        jeep      NaN   \n",
       "3   golf     150000                  6    petrol  volkswagen       no   \n",
       "4  fabia      90000                  7  gasoline       skoda       no   \n",
       "\n",
       "           DateCreated  NumberOfPictures  PostalCode             LastSeen  \n",
       "0  2016-03-24 00:00:00                 0       70435  2016-04-07 03:16:57  \n",
       "1  2016-03-24 00:00:00                 0       66954  2016-04-07 01:46:50  \n",
       "2  2016-03-14 00:00:00                 0       90480  2016-04-05 12:47:46  \n",
       "3  2016-03-17 00:00:00                 0       91074  2016-03-17 17:40:17  \n",
       "4  2016-03-31 00:00:00                 0       60437  2016-04-06 10:17:21  "
      ]
     },
     "execution_count": 4,
     "metadata": {},
     "output_type": "execute_result"
    }
   ],
   "source": [
    "data.head()"
   ]
  },
  {
   "cell_type": "code",
   "execution_count": 5,
   "metadata": {},
   "outputs": [
    {
     "name": "stdout",
     "output_type": "stream",
     "text": [
      "<class 'pandas.core.frame.DataFrame'>\n",
      "RangeIndex: 354369 entries, 0 to 354368\n",
      "Data columns (total 16 columns):\n",
      " #   Column             Non-Null Count   Dtype \n",
      "---  ------             --------------   ----- \n",
      " 0   DateCrawled        354369 non-null  object\n",
      " 1   Price              354369 non-null  int64 \n",
      " 2   VehicleType        316879 non-null  object\n",
      " 3   RegistrationYear   354369 non-null  int64 \n",
      " 4   Gearbox            334536 non-null  object\n",
      " 5   Power              354369 non-null  int64 \n",
      " 6   Model              334664 non-null  object\n",
      " 7   Kilometer          354369 non-null  int64 \n",
      " 8   RegistrationMonth  354369 non-null  int64 \n",
      " 9   FuelType           321474 non-null  object\n",
      " 10  Brand              354369 non-null  object\n",
      " 11  Repaired           283215 non-null  object\n",
      " 12  DateCreated        354369 non-null  object\n",
      " 13  NumberOfPictures   354369 non-null  int64 \n",
      " 14  PostalCode         354369 non-null  int64 \n",
      " 15  LastSeen           354369 non-null  object\n",
      "dtypes: int64(7), object(9)\n",
      "memory usage: 43.3+ MB\n"
     ]
    }
   ],
   "source": [
    "data.info()"
   ]
  },
  {
   "cell_type": "code",
   "execution_count": 6,
   "metadata": {},
   "outputs": [],
   "source": [
    "def columns(data):\n",
    "    for column in data.columns:\n",
    "        print(column)\n",
    "        print(data[column].unique())"
   ]
  },
  {
   "cell_type": "code",
   "execution_count": 7,
   "metadata": {},
   "outputs": [
    {
     "name": "stdout",
     "output_type": "stream",
     "text": [
      "DateCrawled\n",
      "['2016-03-24 11:52:17' '2016-03-24 10:58:45' '2016-03-14 12:52:21' ...\n",
      " '2016-03-21 09:50:58' '2016-03-14 17:48:27' '2016-03-19 18:57:12']\n",
      "Price\n",
      "[  480 18300  9800 ... 12395 18429 10985]\n",
      "VehicleType\n",
      "[nan 'coupe' 'suv' 'small' 'sedan' 'convertible' 'bus' 'wagon' 'other']\n",
      "RegistrationYear\n",
      "[1993 2011 2004 2001 2008 1995 1980 2014 1998 2005 1910 2016 2007 2009\n",
      " 2002 2018 1997 1990 2017 1981 2003 1994 1991 1984 2006 1999 2012 2010\n",
      " 2000 1992 2013 1996 1985 1989 2015 1982 1976 1983 1973 1111 1969 1971\n",
      " 1987 1986 1988 1970 1965 1945 1925 1974 1979 1955 1978 1972 1968 1977\n",
      " 1961 1960 1966 1975 1963 1964 5000 1954 1958 1967 1959 9999 1956 3200\n",
      " 1000 1941 8888 1500 2200 4100 1962 1929 1957 1940 3000 2066 1949 2019\n",
      " 1937 1951 1800 1953 1234 8000 5300 9000 2900 6000 5900 5911 1933 1400\n",
      " 1950 4000 1948 1952 1200 8500 1932 1255 3700 3800 4800 1942 7000 1935\n",
      " 1936 6500 1923 2290 2500 1930 1001 9450 1944 1943 1934 1938 1688 2800\n",
      " 1253 1928 1919 5555 5600 1600 2222 1039 9996 1300 8455 1931 1915 4500\n",
      " 1920 1602 7800 9229 1947 1927 7100 8200 1946 7500 3500]\n",
      "Gearbox\n",
      "['manual' 'auto' nan]\n",
      "Power\n",
      "[    0   190   163    75    69   102   109    50   125   101   105   140\n",
      "   115   131    60   136   160   231    90   118   193    99   113   218\n",
      "   122   129    70   306    95    61   177    80   170    55   143    64\n",
      "   286   232   150   156    82   155    54   185    87   180    86    84\n",
      "   224   235   200   178   265    77   110   144   120   116   184   126\n",
      "   204    88   194   305   197   179   250    45   313    41   165    98\n",
      "   130   114   211    56   201   213    58   107    83   174   100   220\n",
      "    85    73   192    68    66   299    74    52   147    65   310    71\n",
      "    97   239   203     5   300   103   258   320    63    81   148    44\n",
      "   145   230   280   260   104   188   333   186   117   141    59   132\n",
      "   234   158    39    92    51   135    53   209    43   146    67   106\n",
      "   166   276   344    72   249   237   245   111   326   279    23   138\n",
      "   175    96   226    26    37   301   334   128   133   124    33   219\n",
      "   241   167    94   182   196   238  1398   228   112    48   272   139\n",
      "  1799    40   240    79   256   360   243   375   252   396   340   108\n",
      "   121   345   187   289   222   198   284   450   233   387   152   347\n",
      "   172    57   137   212   476   314    30     7    47   173   290   207\n",
      "   205   171   750    78    91    89   349   325    76   151   350   953\n",
      "    93   142   500   343   199   119   164    16   264   367   208   210\n",
      "    46   435  1001   225   127   176   161   603   307   354    35   206\n",
      "   771   355   273   223   255   123   154   149  7515  1400   268   620\n",
      "   169   400   275    34     2   242  1779   285   162   328  1753   329\n",
      "   134   420   247   168 10317   215    18   330   283    62    10   214\n",
      "   183   254    15   321   322   315   952   600   181   426   599   379\n",
      "   999    22   157    42   195   553     4   309   507   381   271   440\n",
      "   189   401  1111  2729    21   236  1240  1704   521     1  1900   270\n",
      "    24   159   292   808   515  1200   303    29    38  1993    14   216\n",
      "   610   504    49   267   331   363   261   385  1011   253   696 10520\n",
      "   376   227   311    27   217    20  1999    11  1056    25   394    12\n",
      "   298   296  1659   294   551  6920   246    17  1800  1625   368   390\n",
      "   221  1367   259   606   327  2017  1597   266   374   392     9   405\n",
      "    13   262   601   430   295     8   411   900   541  7512   382 10218\n",
      "  7544  1102   287    19   751   297  1090   457   282   602   388     6\n",
      "  1000  5411   335  1360   202  3750   805  1062  1024 11530   364  1796\n",
      "  5000   269   460  1002   288  1780 12012 17932   316  2005  1399   191\n",
      "   278  1300   380   257   449  1256   153  1653   520   560   281 12510\n",
      "     3  1500   386    32  1202  2016  1436  1405   671   274  1288  1055\n",
      " 10912 15016  6226  1115   277  1105   341  1223  2340  8404  1968   338\n",
      "   445  1920   370   517  4400 10710 10522  9010   431  1164 11509   371\n",
      "  1501   428 11635    36   304   348  1703  1910  1995   579 10000   580\n",
      "   408    31  1005   358  1403   489  5575 19211   585   960   365   353\n",
      "   490   352  1801   346   550  3199   800  7508  1312   357  1937   950\n",
      "  4700  1600  3454 19208   251   850   337   700  8011  2331  2789   487\n",
      "   519  2461  6006  3500  5815  6018  1781  1503   612  1596   229  1506\n",
      "  5809 15020  5867  2172  1598 17410  1363   584  1054   851  1339   318\n",
      "   510   525  1700    28  1151   685  6011   317   703  1771 15001   514\n",
      "   362   332   324  6045   530   425   308  6010   475   903   640  2000\n",
      "   248   651  2799 17011   505  1103  1521   351 16051   398  9000  1998\n",
      " 10311   409  1230 17019 12684  8259  1895   901  1317   871   909  2201\n",
      "  1595   776 17700 11011  1199   459  1162  1120 15033  1896   339   361\n",
      "   574  6512   454   650 13616   604   607 16312  1082   336 20000   416\n",
      "   678  6012  1401  1021  1870 13636  1250  9710   323  1158  2009   902\n",
      "  6062  1275   572   244   399  1016   743  1221  2402 16011  1362   544\n",
      "   645   907   702 12512  1986  1003  1432  9013  9011   442  1017  1394\n",
      " 15017 10910  1992   540  2018 11025  1433  1701  2792  1502  1239  1390\n",
      " 14009  1160  1351 11111  1783  9007   923  1149   754  1988   402  2004\n",
      "  5420  1793  1324   356  7511  1299   293 19312  1079  1689   998  1100\n",
      "  9012  1933   508 16311   682  1252  1922  7529   732  2389  2200  1707\n",
      "  1416  8500  1012   485  3000 10110   421  4507  1631  7518   377  1004\n",
      "  2007  2598  1548  1241]\n",
      "Model\n",
      "['golf' nan 'grand' 'fabia' '3er' '2_reihe' 'other' 'c_max' '3_reihe'\n",
      " 'passat' 'navara' 'ka' 'polo' 'twingo' 'a_klasse' 'scirocco' '5er'\n",
      " 'meriva' 'arosa' 'c4' 'civic' 'transporter' 'punto' 'e_klasse' 'clio'\n",
      " 'kadett' 'kangoo' 'corsa' 'one' 'fortwo' '1er' 'b_klasse' 'signum'\n",
      " 'astra' 'a8' 'jetta' 'fiesta' 'c_klasse' 'micra' 'vito' 'sprinter' '156'\n",
      " 'escort' 'forester' 'xc_reihe' 'scenic' 'a4' 'a1' 'insignia' 'combo'\n",
      " 'focus' 'tt' 'a6' 'jazz' 'omega' 'slk' '7er' '80' '147' '100' 'z_reihe'\n",
      " 'sportage' 'sorento' 'v40' 'ibiza' 'mustang' 'eos' 'touran' 'getz' 'a3'\n",
      " 'almera' 'megane' 'lupo' 'r19' 'zafira' 'caddy' 'mondeo' 'cordoba' 'colt'\n",
      " 'impreza' 'vectra' 'berlingo' 'tiguan' 'i_reihe' 'espace' 'sharan'\n",
      " '6_reihe' 'panda' 'up' 'seicento' 'ceed' '5_reihe' 'yeti' 'octavia' 'mii'\n",
      " 'rx_reihe' '6er' 'modus' 'fox' 'matiz' 'beetle' 'c1' 'rio' 'touareg'\n",
      " 'logan' 'spider' 'cuore' 's_max' 'a2' 'galaxy' 'c3' 'viano' 's_klasse'\n",
      " '1_reihe' 'avensis' 'roomster' 'sl' 'kaefer' 'santa' 'cooper' 'leon'\n",
      " '4_reihe' 'a5' '500' 'laguna' 'ptcruiser' 'clk' 'primera' 'x_reihe'\n",
      " 'exeo' '159' 'transit' 'juke' 'qashqai' 'carisma' 'accord' 'corolla'\n",
      " 'lanos' 'phaeton' 'verso' 'swift' 'rav' 'picanto' 'boxster' 'kalos'\n",
      " 'superb' 'stilo' 'alhambra' 'mx_reihe' 'roadster' 'ypsilon' 'cayenne'\n",
      " 'galant' 'justy' '90' 'sirion' 'crossfire' 'agila' 'duster' 'cr_reihe'\n",
      " 'v50' 'c_reihe' 'v_klasse' 'm_klasse' 'yaris' 'c5' 'aygo' 'cc' 'carnival'\n",
      " 'fusion' '911' 'bora' 'forfour' 'm_reihe' 'cl' 'tigra' '300c' 'spark'\n",
      " 'v70' 'kuga' 'x_type' 'ducato' 's_type' 'x_trail' 'toledo' 'altea'\n",
      " 'voyager' 'calibra' 'bravo' 'antara' 'tucson' 'citigo' 'jimny' 'wrangler'\n",
      " 'lybra' 'q7' 'lancer' 'captiva' 'c2' 'discovery' 'freelander' 'sandero'\n",
      " 'note' '900' 'cherokee' 'clubman' 'samara' 'defender' '601' 'cx_reihe'\n",
      " 'legacy' 'pajero' 'auris' 'niva' 's60' 'nubira' 'vivaro' 'g_klasse'\n",
      " 'lodgy' '850' 'range_rover' 'q3' 'serie_2' 'glk' 'charade' 'croma'\n",
      " 'outlander' 'doblo' 'musa' 'move' '9000' 'v60' '145' 'aveo' '200' 'b_max'\n",
      " 'range_rover_sport' 'terios' 'rangerover' 'q5' 'range_rover_evoque'\n",
      " 'materia' 'delta' 'gl' 'kalina' 'amarok' 'elefantino' 'i3' 'kappa'\n",
      " 'serie_3' 'serie_1']\n",
      "Kilometer\n",
      "[150000 125000  90000  40000  30000  70000   5000 100000  60000  20000\n",
      "  80000  50000  10000]\n",
      "RegistrationMonth\n",
      "[ 0  5  8  6  7 10 12 11  2  3  1  4  9]\n",
      "FuelType\n",
      "['petrol' 'gasoline' nan 'lpg' 'other' 'hybrid' 'cng' 'electric']\n",
      "Brand\n",
      "['volkswagen' 'audi' 'jeep' 'skoda' 'bmw' 'peugeot' 'ford' 'mazda'\n",
      " 'nissan' 'renault' 'mercedes_benz' 'opel' 'seat' 'citroen' 'honda' 'fiat'\n",
      " 'mini' 'smart' 'hyundai' 'sonstige_autos' 'alfa_romeo' 'subaru' 'volvo'\n",
      " 'mitsubishi' 'kia' 'suzuki' 'lancia' 'toyota' 'chevrolet' 'dacia'\n",
      " 'daihatsu' 'trabant' 'saab' 'chrysler' 'jaguar' 'daewoo' 'porsche'\n",
      " 'rover' 'land_rover' 'lada']\n",
      "Repaired\n",
      "[nan 'yes' 'no']\n",
      "DateCreated\n",
      "['2016-03-24 00:00:00' '2016-03-14 00:00:00' '2016-03-17 00:00:00'\n",
      " '2016-03-31 00:00:00' '2016-04-04 00:00:00' '2016-04-01 00:00:00'\n",
      " '2016-03-21 00:00:00' '2016-03-26 00:00:00' '2016-04-07 00:00:00'\n",
      " '2016-03-15 00:00:00' '2016-03-11 00:00:00' '2016-03-20 00:00:00'\n",
      " '2016-03-23 00:00:00' '2016-03-27 00:00:00' '2016-03-12 00:00:00'\n",
      " '2016-03-13 00:00:00' '2016-03-18 00:00:00' '2016-03-10 00:00:00'\n",
      " '2016-03-07 00:00:00' '2016-03-09 00:00:00' '2016-03-08 00:00:00'\n",
      " '2016-04-03 00:00:00' '2016-03-29 00:00:00' '2016-03-25 00:00:00'\n",
      " '2016-03-28 00:00:00' '2016-03-30 00:00:00' '2016-03-22 00:00:00'\n",
      " '2016-02-09 00:00:00' '2016-03-05 00:00:00' '2016-04-02 00:00:00'\n",
      " '2016-03-16 00:00:00' '2016-03-19 00:00:00' '2016-04-05 00:00:00'\n",
      " '2016-03-06 00:00:00' '2016-02-12 00:00:00' '2016-03-03 00:00:00'\n",
      " '2016-03-01 00:00:00' '2016-03-04 00:00:00' '2016-04-06 00:00:00'\n",
      " '2016-02-15 00:00:00' '2016-02-24 00:00:00' '2016-02-27 00:00:00'\n",
      " '2015-03-20 00:00:00' '2016-02-28 00:00:00' '2016-02-17 00:00:00'\n",
      " '2016-01-27 00:00:00' '2016-02-20 00:00:00' '2016-02-29 00:00:00'\n",
      " '2016-02-10 00:00:00' '2016-02-23 00:00:00' '2016-02-21 00:00:00'\n",
      " '2015-11-02 00:00:00' '2016-02-19 00:00:00' '2016-02-26 00:00:00'\n",
      " '2016-02-11 00:00:00' '2016-01-10 00:00:00' '2016-02-06 00:00:00'\n",
      " '2016-02-18 00:00:00' '2016-01-29 00:00:00' '2016-03-02 00:00:00'\n",
      " '2015-12-06 00:00:00' '2016-01-24 00:00:00' '2016-01-30 00:00:00'\n",
      " '2016-02-02 00:00:00' '2016-02-16 00:00:00' '2016-02-13 00:00:00'\n",
      " '2016-02-05 00:00:00' '2016-02-22 00:00:00' '2015-11-17 00:00:00'\n",
      " '2014-03-10 00:00:00' '2016-02-07 00:00:00' '2016-01-23 00:00:00'\n",
      " '2016-02-25 00:00:00' '2016-02-14 00:00:00' '2016-01-02 00:00:00'\n",
      " '2015-09-04 00:00:00' '2015-11-12 00:00:00' '2015-12-27 00:00:00'\n",
      " '2015-11-24 00:00:00' '2016-01-20 00:00:00' '2016-02-03 00:00:00'\n",
      " '2015-12-05 00:00:00' '2015-08-07 00:00:00' '2016-01-28 00:00:00'\n",
      " '2016-01-31 00:00:00' '2016-02-08 00:00:00' '2016-01-07 00:00:00'\n",
      " '2016-01-22 00:00:00' '2016-01-18 00:00:00' '2016-01-08 00:00:00'\n",
      " '2015-11-23 00:00:00' '2016-01-13 00:00:00' '2016-01-17 00:00:00'\n",
      " '2016-01-15 00:00:00' '2015-11-08 00:00:00' '2016-01-26 00:00:00'\n",
      " '2016-02-04 00:00:00' '2016-01-25 00:00:00' '2016-01-16 00:00:00'\n",
      " '2015-08-10 00:00:00' '2016-01-03 00:00:00' '2016-01-19 00:00:00'\n",
      " '2015-12-30 00:00:00' '2016-02-01 00:00:00' '2015-12-17 00:00:00'\n",
      " '2015-11-10 00:00:00' '2016-01-06 00:00:00' '2015-09-09 00:00:00'\n",
      " '2015-06-18 00:00:00']\n",
      "NumberOfPictures\n",
      "[0]\n",
      "PostalCode\n",
      "[70435 66954 90480 ... 38528 38325 31096]\n",
      "LastSeen\n",
      "['2016-04-07 03:16:57' '2016-04-07 01:46:50' '2016-04-05 12:47:46' ...\n",
      " '2016-03-19 20:44:43' '2016-03-29 10:17:23' '2016-03-21 10:42:49']\n"
     ]
    }
   ],
   "source": [
    "columns(data)"
   ]
  },
  {
   "cell_type": "markdown",
   "metadata": {},
   "source": [
    "Заменим пропуски на соответствующее значение столбца unknown или other"
   ]
  },
  {
   "cell_type": "code",
   "execution_count": 8,
   "metadata": {},
   "outputs": [],
   "source": [
    "data['Gearbox'] = data['Gearbox'].fillna('unknown')\n",
    "data['Repaired'] = data['Repaired'].fillna('unknown')\n",
    "data['Model'] = data['Model'].fillna('other')\n",
    "data['VehicleType'] = data['VehicleType'].fillna('other')\n",
    "data['FuelType'] = data['FuelType'].fillna('other')"
   ]
  },
  {
   "cell_type": "markdown",
   "metadata": {},
   "source": [
    "Удалим столбцы ненужные нам для обучения модели"
   ]
  },
  {
   "cell_type": "code",
   "execution_count": 9,
   "metadata": {},
   "outputs": [],
   "source": [
    "data = data.drop(['DateCrawled', 'DateCreated', 'NumberOfPictures', 'PostalCode', 'LastSeen'], axis=1)"
   ]
  },
  {
   "cell_type": "code",
   "execution_count": 10,
   "metadata": {},
   "outputs": [
    {
     "data": {
      "text/plain": [
       "27650"
      ]
     },
     "execution_count": 10,
     "metadata": {},
     "output_type": "execute_result"
    }
   ],
   "source": [
    "data.duplicated().sum()"
   ]
  },
  {
   "cell_type": "code",
   "execution_count": 11,
   "metadata": {},
   "outputs": [
    {
     "data": {
      "text/plain": [
       "0"
      ]
     },
     "execution_count": 11,
     "metadata": {},
     "output_type": "execute_result"
    }
   ],
   "source": [
    "data = data.drop_duplicates()\n",
    "data.duplicated().sum()"
   ]
  },
  {
   "cell_type": "markdown",
   "metadata": {},
   "source": [
    "Проверим что пропусков не осталось"
   ]
  },
  {
   "cell_type": "code",
   "execution_count": 12,
   "metadata": {},
   "outputs": [
    {
     "name": "stdout",
     "output_type": "stream",
     "text": [
      "<class 'pandas.core.frame.DataFrame'>\n",
      "Int64Index: 326719 entries, 0 to 354368\n",
      "Data columns (total 11 columns):\n",
      " #   Column             Non-Null Count   Dtype \n",
      "---  ------             --------------   ----- \n",
      " 0   Price              326719 non-null  int64 \n",
      " 1   VehicleType        326719 non-null  object\n",
      " 2   RegistrationYear   326719 non-null  int64 \n",
      " 3   Gearbox            326719 non-null  object\n",
      " 4   Power              326719 non-null  int64 \n",
      " 5   Model              326719 non-null  object\n",
      " 6   Kilometer          326719 non-null  int64 \n",
      " 7   RegistrationMonth  326719 non-null  int64 \n",
      " 8   FuelType           326719 non-null  object\n",
      " 9   Brand              326719 non-null  object\n",
      " 10  Repaired           326719 non-null  object\n",
      "dtypes: int64(5), object(6)\n",
      "memory usage: 29.9+ MB\n"
     ]
    }
   ],
   "source": [
    "data.info()"
   ]
  },
  {
   "cell_type": "markdown",
   "metadata": {},
   "source": [
    "Посмотрим столбец Price"
   ]
  },
  {
   "cell_type": "code",
   "execution_count": 13,
   "metadata": {},
   "outputs": [
    {
     "data": {
      "text/plain": [
       "<AxesSubplot:>"
      ]
     },
     "execution_count": 13,
     "metadata": {},
     "output_type": "execute_result"
    },
    {
     "data": {
      "image/png": "[encoded data removed]",
      "text/plain": [
       "<Figure size 864x648 with 1 Axes>"
      ]
     },
     "metadata": {
      "needs_background": "light"
     },
     "output_type": "display_data"
    }
   ],
   "source": [
    "data['Price'].hist(bins=100, figsize=(12,9))"
   ]
  },
  {
   "cell_type": "code",
   "execution_count": 14,
   "metadata": {},
   "outputs": [
    {
     "data": {
      "text/plain": [
       "200.0"
      ]
     },
     "execution_count": 14,
     "metadata": {},
     "output_type": "execute_result"
    }
   ],
   "source": [
    "data['Price'].quantile(.05)"
   ]
  },
  {
   "cell_type": "markdown",
   "metadata": {},
   "source": [
    "5% квантиль 200 евро, отсечем все цены дешевле 200"
   ]
  },
  {
   "cell_type": "code",
   "execution_count": 15,
   "metadata": {},
   "outputs": [],
   "source": [
    "data = data.query('Price>200')"
   ]
  },
  {
   "cell_type": "markdown",
   "metadata": {},
   "source": [
    "Посмотрим столбец RegistrationYear"
   ]
  },
  {
   "cell_type": "code",
   "execution_count": 16,
   "metadata": {},
   "outputs": [
    {
     "data": {
      "text/plain": [
       "<AxesSubplot:>"
      ]
     },
     "execution_count": 16,
     "metadata": {},
     "output_type": "execute_result"
    },
    {
     "data": {
      "image/png": "[encoded data removed]",
      "text/plain": [
       "<Figure size 864x648 with 1 Axes>"
      ]
     },
     "metadata": {
      "needs_background": "light"
     },
     "output_type": "display_data"
    }
   ],
   "source": [
    "data['RegistrationYear'].hist(bins=30, figsize=(12,9), range=(1950, 2100))"
   ]
  },
  {
   "cell_type": "code",
   "execution_count": 17,
   "metadata": {},
   "outputs": [
    {
     "data": {
      "text/plain": [
       "count    309119.000000\n",
       "mean       2003.980949\n",
       "std          69.369146\n",
       "min        1000.000000\n",
       "25%        1999.000000\n",
       "50%        2003.000000\n",
       "75%        2008.000000\n",
       "max        9999.000000\n",
       "Name: RegistrationYear, dtype: float64"
      ]
     },
     "execution_count": 17,
     "metadata": {},
     "output_type": "execute_result"
    }
   ],
   "source": [
    "data['RegistrationYear'].describe()"
   ]
  },
  {
   "cell_type": "markdown",
   "metadata": {},
   "source": [
    "Отбросим года больше 2016 и меньше 1970"
   ]
  },
  {
   "cell_type": "code",
   "execution_count": 18,
   "metadata": {},
   "outputs": [],
   "source": [
    "data = data.query('1970 < RegistrationYear < 2016')"
   ]
  },
  {
   "cell_type": "code",
   "execution_count": 19,
   "metadata": {},
   "outputs": [
    {
     "data": {
      "text/plain": [
       "count    286835.000000\n",
       "mean       2002.452086\n",
       "std           6.031449\n",
       "min        1971.000000\n",
       "25%        1999.000000\n",
       "50%        2003.000000\n",
       "75%        2007.000000\n",
       "max        2015.000000\n",
       "Name: RegistrationYear, dtype: float64"
      ]
     },
     "execution_count": 19,
     "metadata": {},
     "output_type": "execute_result"
    }
   ],
   "source": [
    "data['RegistrationYear'].describe()"
   ]
  },
  {
   "cell_type": "markdown",
   "metadata": {},
   "source": [
    "Посмотрим столбец Power"
   ]
  },
  {
   "cell_type": "code",
   "execution_count": 20,
   "metadata": {},
   "outputs": [
    {
     "data": {
      "text/plain": [
       "<AxesSubplot:>"
      ]
     },
     "execution_count": 20,
     "metadata": {},
     "output_type": "execute_result"
    },
    {
     "data": {
      "image/png": "[encoded data removed]",
      "text/plain": [
       "<Figure size 864x648 with 1 Axes>"
      ]
     },
     "metadata": {
      "needs_background": "light"
     },
     "output_type": "display_data"
    }
   ],
   "source": [
    "data['Power'].hist(bins=100, figsize=(12,9), range=(0, 500))"
   ]
  },
  {
   "cell_type": "code",
   "execution_count": 21,
   "metadata": {},
   "outputs": [
    {
     "data": {
      "text/plain": [
       "count    286835.000000\n",
       "mean        114.474015\n",
       "std         184.335281\n",
       "min           0.000000\n",
       "25%          75.000000\n",
       "50%         105.000000\n",
       "75%         143.000000\n",
       "max       20000.000000\n",
       "Name: Power, dtype: float64"
      ]
     },
     "execution_count": 21,
     "metadata": {},
     "output_type": "execute_result"
    }
   ],
   "source": [
    "data['Power'].describe()"
   ]
  },
  {
   "cell_type": "markdown",
   "metadata": {},
   "source": [
    "Отбросим машины мощьностью меньше 50 и больше 500"
   ]
  },
  {
   "cell_type": "code",
   "execution_count": 22,
   "metadata": {},
   "outputs": [],
   "source": [
    "data = data.query('49 < Power < 500')"
   ]
  },
  {
   "cell_type": "markdown",
   "metadata": {},
   "source": [
    "## Обучение моделей"
   ]
  },
  {
   "cell_type": "markdown",
   "metadata": {},
   "source": [
    "Отдельное преобразование для RandomForestRegressor"
   ]
  },
  {
   "cell_type": "code",
   "execution_count": 23,
   "metadata": {},
   "outputs": [],
   "source": [
    "features = data.drop('Price', axis=1)\n",
    "target = data['Price']"
   ]
  },
  {
   "cell_type": "code",
   "execution_count": 24,
   "metadata": {},
   "outputs": [],
   "source": [
    "features_train, features_test, target_train, target_test = train_test_split(features, target, test_size=0.25, random_state=RND)"
   ]
  },
  {
   "cell_type": "code",
   "execution_count": 25,
   "metadata": {},
   "outputs": [
    {
     "data": {
      "text/plain": [
       "['VehicleType', 'Gearbox', 'FuelType', 'Brand', 'Repaired']"
      ]
     },
     "execution_count": 25,
     "metadata": {},
     "output_type": "execute_result"
    }
   ],
   "source": [
    "#категориальные признаки для OHE RandomForestRegressor\n",
    "ohe_features_rf = features_train.select_dtypes(include='object').columns.to_list()\n",
    "ohe_features_rf.remove('Model')\n",
    "ohe_features_rf"
   ]
  },
  {
   "cell_type": "code",
   "execution_count": 26,
   "metadata": {},
   "outputs": [
    {
     "data": {
      "text/plain": [
       "['RegistrationYear', 'Power', 'Kilometer', 'RegistrationMonth']"
      ]
     },
     "execution_count": 26,
     "metadata": {},
     "output_type": "execute_result"
    }
   ],
   "source": [
    "num_features = features_train.select_dtypes(exclude='object').columns.to_list()\n",
    "#num_features.remove('Repaired')\n",
    "num_features"
   ]
  },
  {
   "cell_type": "code",
   "execution_count": 27,
   "metadata": {},
   "outputs": [],
   "source": [
    "col_transformer_rf= make_column_transformer(\n",
    "    (OneHotEncoder(drop='first', handle_unknown='error'), ohe_features_rf),\n",
    "    (\n",
    "        OrdinalEncoder(handle_unknown='use_encoded_value', unknown_value=-1), \n",
    "        ['Model']\n",
    "    ),\n",
    "    (\n",
    "        StandardScaler(), \n",
    "        num_features\n",
    "    ),\n",
    "    remainder='passthrough'\n",
    ")"
   ]
  },
  {
   "cell_type": "markdown",
   "metadata": {},
   "source": [
    "Преобразуем категориальные признаки в численные с помощью OHE и OE."
   ]
  },
  {
   "cell_type": "markdown",
   "metadata": {},
   "source": [
    "Отдельное преобразование для LinearRegression"
   ]
  },
  {
   "cell_type": "code",
   "execution_count": 181,
   "metadata": {},
   "outputs": [],
   "source": [
    "features_lr = pd.get_dummies(features, drop_first=True)"
   ]
  },
  {
   "cell_type": "code",
   "execution_count": 182,
   "metadata": {},
   "outputs": [],
   "source": [
    "features_train_lr, features_test_lr, target_train_lr, target_test_lr = train_test_split(features_lr, target, test_size=0.25, random_state=RND)"
   ]
  },
  {
   "cell_type": "code",
   "execution_count": 183,
   "metadata": {},
   "outputs": [
    {
     "data": {
      "text/html": [
       "<div>\n",
       "<style scoped>\n",
       "    .dataframe tbody tr th:only-of-type {\n",
       "        vertical-align: middle;\n",
       "    }\n",
       "\n",
       "    .dataframe tbody tr th {\n",
       "        vertical-align: top;\n",
       "    }\n",
       "\n",
       "    .dataframe thead th {\n",
       "        text-align: right;\n",
       "    }\n",
       "</style>\n",
       "<table border=\"1\" class=\"dataframe\">\n",
       "  <thead>\n",
       "    <tr style=\"text-align: right;\">\n",
       "      <th></th>\n",
       "      <th>RegistrationYear</th>\n",
       "      <th>Power</th>\n",
       "      <th>Kilometer</th>\n",
       "      <th>RegistrationMonth</th>\n",
       "      <th>VehicleType_convertible</th>\n",
       "      <th>VehicleType_coupe</th>\n",
       "      <th>VehicleType_other</th>\n",
       "      <th>VehicleType_sedan</th>\n",
       "      <th>VehicleType_small</th>\n",
       "      <th>VehicleType_suv</th>\n",
       "      <th>...</th>\n",
       "      <th>Brand_smart</th>\n",
       "      <th>Brand_sonstige_autos</th>\n",
       "      <th>Brand_subaru</th>\n",
       "      <th>Brand_suzuki</th>\n",
       "      <th>Brand_toyota</th>\n",
       "      <th>Brand_trabant</th>\n",
       "      <th>Brand_volkswagen</th>\n",
       "      <th>Brand_volvo</th>\n",
       "      <th>Repaired_unknown</th>\n",
       "      <th>Repaired_yes</th>\n",
       "    </tr>\n",
       "  </thead>\n",
       "  <tbody>\n",
       "    <tr>\n",
       "      <th>1</th>\n",
       "      <td>2011</td>\n",
       "      <td>190</td>\n",
       "      <td>125000</td>\n",
       "      <td>5</td>\n",
       "      <td>0</td>\n",
       "      <td>1</td>\n",
       "      <td>0</td>\n",
       "      <td>0</td>\n",
       "      <td>0</td>\n",
       "      <td>0</td>\n",
       "      <td>...</td>\n",
       "      <td>0</td>\n",
       "      <td>0</td>\n",
       "      <td>0</td>\n",
       "      <td>0</td>\n",
       "      <td>0</td>\n",
       "      <td>0</td>\n",
       "      <td>0</td>\n",
       "      <td>0</td>\n",
       "      <td>0</td>\n",
       "      <td>1</td>\n",
       "    </tr>\n",
       "    <tr>\n",
       "      <th>2</th>\n",
       "      <td>2004</td>\n",
       "      <td>163</td>\n",
       "      <td>125000</td>\n",
       "      <td>8</td>\n",
       "      <td>0</td>\n",
       "      <td>0</td>\n",
       "      <td>0</td>\n",
       "      <td>0</td>\n",
       "      <td>0</td>\n",
       "      <td>1</td>\n",
       "      <td>...</td>\n",
       "      <td>0</td>\n",
       "      <td>0</td>\n",
       "      <td>0</td>\n",
       "      <td>0</td>\n",
       "      <td>0</td>\n",
       "      <td>0</td>\n",
       "      <td>0</td>\n",
       "      <td>0</td>\n",
       "      <td>1</td>\n",
       "      <td>0</td>\n",
       "    </tr>\n",
       "    <tr>\n",
       "      <th>3</th>\n",
       "      <td>2001</td>\n",
       "      <td>75</td>\n",
       "      <td>150000</td>\n",
       "      <td>6</td>\n",
       "      <td>0</td>\n",
       "      <td>0</td>\n",
       "      <td>0</td>\n",
       "      <td>0</td>\n",
       "      <td>1</td>\n",
       "      <td>0</td>\n",
       "      <td>...</td>\n",
       "      <td>0</td>\n",
       "      <td>0</td>\n",
       "      <td>0</td>\n",
       "      <td>0</td>\n",
       "      <td>0</td>\n",
       "      <td>0</td>\n",
       "      <td>1</td>\n",
       "      <td>0</td>\n",
       "      <td>0</td>\n",
       "      <td>0</td>\n",
       "    </tr>\n",
       "    <tr>\n",
       "      <th>4</th>\n",
       "      <td>2008</td>\n",
       "      <td>69</td>\n",
       "      <td>90000</td>\n",
       "      <td>7</td>\n",
       "      <td>0</td>\n",
       "      <td>0</td>\n",
       "      <td>0</td>\n",
       "      <td>0</td>\n",
       "      <td>1</td>\n",
       "      <td>0</td>\n",
       "      <td>...</td>\n",
       "      <td>0</td>\n",
       "      <td>0</td>\n",
       "      <td>0</td>\n",
       "      <td>0</td>\n",
       "      <td>0</td>\n",
       "      <td>0</td>\n",
       "      <td>0</td>\n",
       "      <td>0</td>\n",
       "      <td>0</td>\n",
       "      <td>0</td>\n",
       "    </tr>\n",
       "    <tr>\n",
       "      <th>5</th>\n",
       "      <td>1995</td>\n",
       "      <td>102</td>\n",
       "      <td>150000</td>\n",
       "      <td>10</td>\n",
       "      <td>0</td>\n",
       "      <td>0</td>\n",
       "      <td>0</td>\n",
       "      <td>1</td>\n",
       "      <td>0</td>\n",
       "      <td>0</td>\n",
       "      <td>...</td>\n",
       "      <td>0</td>\n",
       "      <td>0</td>\n",
       "      <td>0</td>\n",
       "      <td>0</td>\n",
       "      <td>0</td>\n",
       "      <td>0</td>\n",
       "      <td>0</td>\n",
       "      <td>0</td>\n",
       "      <td>0</td>\n",
       "      <td>1</td>\n",
       "    </tr>\n",
       "  </tbody>\n",
       "</table>\n",
       "<p>5 rows × 308 columns</p>\n",
       "</div>"
      ],
      "text/plain": [
       "   RegistrationYear  Power  Kilometer  RegistrationMonth  \\\n",
       "1              2011    190     125000                  5   \n",
       "2              2004    163     125000                  8   \n",
       "3              2001     75     150000                  6   \n",
       "4              2008     69      90000                  7   \n",
       "5              1995    102     150000                 10   \n",
       "\n",
       "   VehicleType_convertible  VehicleType_coupe  VehicleType_other  \\\n",
       "1                        0                  1                  0   \n",
       "2                        0                  0                  0   \n",
       "3                        0                  0                  0   \n",
       "4                        0                  0                  0   \n",
       "5                        0                  0                  0   \n",
       "\n",
       "   VehicleType_sedan  VehicleType_small  VehicleType_suv  ...  Brand_smart  \\\n",
       "1                  0                  0                0  ...            0   \n",
       "2                  0                  0                1  ...            0   \n",
       "3                  0                  1                0  ...            0   \n",
       "4                  0                  1                0  ...            0   \n",
       "5                  1                  0                0  ...            0   \n",
       "\n",
       "   Brand_sonstige_autos  Brand_subaru  Brand_suzuki  Brand_toyota  \\\n",
       "1                     0             0             0             0   \n",
       "2                     0             0             0             0   \n",
       "3                     0             0             0             0   \n",
       "4                     0             0             0             0   \n",
       "5                     0             0             0             0   \n",
       "\n",
       "   Brand_trabant  Brand_volkswagen  Brand_volvo  Repaired_unknown  \\\n",
       "1              0                 0            0                 0   \n",
       "2              0                 0            0                 1   \n",
       "3              0                 1            0                 0   \n",
       "4              0                 0            0                 0   \n",
       "5              0                 0            0                 0   \n",
       "\n",
       "   Repaired_yes  \n",
       "1             1  \n",
       "2             0  \n",
       "3             0  \n",
       "4             0  \n",
       "5             1  \n",
       "\n",
       "[5 rows x 308 columns]"
      ]
     },
     "execution_count": 183,
     "metadata": {},
     "output_type": "execute_result"
    }
   ],
   "source": [
    "features_lr.head()"
   ]
  },
  {
   "cell_type": "markdown",
   "metadata": {},
   "source": [
    "Отдельное преобразование для CatBoost и LGBM"
   ]
  },
  {
   "cell_type": "code",
   "execution_count": 28,
   "metadata": {},
   "outputs": [],
   "source": [
    "features_train_oe, features_test_oe, target_train_oe, target_test_oe = train_test_split(features, target, test_size=0.25, random_state=RND)"
   ]
  },
  {
   "cell_type": "code",
   "execution_count": 29,
   "metadata": {},
   "outputs": [],
   "source": [
    "encoder = OrdinalEncoder(handle_unknown='use_encoded_value', unknown_value=-1)\n",
    "columns = ['VehicleType', 'Gearbox', 'FuelType', 'Repaired', 'Brand', 'Model']\n",
    "#features_train_oe = features_train.copy()\n",
    "features_train_oe[columns] = encoder.fit_transform(features_train_oe[columns])\n",
    "\n",
    "features_test_oe[columns] = encoder.transform(features_test_oe[columns])"
   ]
  },
  {
   "cell_type": "code",
   "execution_count": 30,
   "metadata": {},
   "outputs": [
    {
     "data": {
      "text/html": [
       "<div>\n",
       "<style scoped>\n",
       "    .dataframe tbody tr th:only-of-type {\n",
       "        vertical-align: middle;\n",
       "    }\n",
       "\n",
       "    .dataframe tbody tr th {\n",
       "        vertical-align: top;\n",
       "    }\n",
       "\n",
       "    .dataframe thead th {\n",
       "        text-align: right;\n",
       "    }\n",
       "</style>\n",
       "<table border=\"1\" class=\"dataframe\">\n",
       "  <thead>\n",
       "    <tr style=\"text-align: right;\">\n",
       "      <th></th>\n",
       "      <th>VehicleType</th>\n",
       "      <th>RegistrationYear</th>\n",
       "      <th>Gearbox</th>\n",
       "      <th>Power</th>\n",
       "      <th>Model</th>\n",
       "      <th>Kilometer</th>\n",
       "      <th>RegistrationMonth</th>\n",
       "      <th>FuelType</th>\n",
       "      <th>Brand</th>\n",
       "      <th>Repaired</th>\n",
       "    </tr>\n",
       "  </thead>\n",
       "  <tbody>\n",
       "    <tr>\n",
       "      <th>41978</th>\n",
       "      <td>5.0</td>\n",
       "      <td>2009</td>\n",
       "      <td>0.0</td>\n",
       "      <td>71</td>\n",
       "      <td>106.0</td>\n",
       "      <td>70000</td>\n",
       "      <td>7</td>\n",
       "      <td>6.0</td>\n",
       "      <td>32.0</td>\n",
       "      <td>0.0</td>\n",
       "    </tr>\n",
       "    <tr>\n",
       "      <th>69835</th>\n",
       "      <td>4.0</td>\n",
       "      <td>2003</td>\n",
       "      <td>1.0</td>\n",
       "      <td>145</td>\n",
       "      <td>154.0</td>\n",
       "      <td>150000</td>\n",
       "      <td>8</td>\n",
       "      <td>6.0</td>\n",
       "      <td>10.0</td>\n",
       "      <td>2.0</td>\n",
       "    </tr>\n",
       "    <tr>\n",
       "      <th>315677</th>\n",
       "      <td>5.0</td>\n",
       "      <td>2002</td>\n",
       "      <td>1.0</td>\n",
       "      <td>75</td>\n",
       "      <td>75.0</td>\n",
       "      <td>150000</td>\n",
       "      <td>1</td>\n",
       "      <td>6.0</td>\n",
       "      <td>27.0</td>\n",
       "      <td>0.0</td>\n",
       "    </tr>\n",
       "    <tr>\n",
       "      <th>310483</th>\n",
       "      <td>1.0</td>\n",
       "      <td>2006</td>\n",
       "      <td>1.0</td>\n",
       "      <td>150</td>\n",
       "      <td>97.0</td>\n",
       "      <td>90000</td>\n",
       "      <td>3</td>\n",
       "      <td>6.0</td>\n",
       "      <td>38.0</td>\n",
       "      <td>0.0</td>\n",
       "    </tr>\n",
       "    <tr>\n",
       "      <th>145377</th>\n",
       "      <td>5.0</td>\n",
       "      <td>2006</td>\n",
       "      <td>1.0</td>\n",
       "      <td>109</td>\n",
       "      <td>8.0</td>\n",
       "      <td>150000</td>\n",
       "      <td>12</td>\n",
       "      <td>2.0</td>\n",
       "      <td>25.0</td>\n",
       "      <td>2.0</td>\n",
       "    </tr>\n",
       "  </tbody>\n",
       "</table>\n",
       "</div>"
      ],
      "text/plain": [
       "        VehicleType  RegistrationYear  Gearbox  Power  Model  Kilometer  \\\n",
       "41978           5.0              2009      0.0     71  106.0      70000   \n",
       "69835           4.0              2003      1.0    145  154.0     150000   \n",
       "315677          5.0              2002      1.0     75   75.0     150000   \n",
       "310483          1.0              2006      1.0    150   97.0      90000   \n",
       "145377          5.0              2006      1.0    109    8.0     150000   \n",
       "\n",
       "        RegistrationMonth  FuelType  Brand  Repaired  \n",
       "41978                   7       6.0   32.0       0.0  \n",
       "69835                   8       6.0   10.0       2.0  \n",
       "315677                  1       6.0   27.0       0.0  \n",
       "310483                  3       6.0   38.0       0.0  \n",
       "145377                 12       2.0   25.0       2.0  "
      ]
     },
     "execution_count": 30,
     "metadata": {},
     "output_type": "execute_result"
    }
   ],
   "source": [
    "features_test_oe.head()"
   ]
  },
  {
   "cell_type": "markdown",
   "metadata": {},
   "source": [
    "Для оценки качества моделей создадим функцию RMSE"
   ]
  },
  {
   "cell_type": "code",
   "execution_count": 33,
   "metadata": {},
   "outputs": [],
   "source": [
    "def RMSE(target, predict):\n",
    "    return (mean_squared_error(target, predict))**0.5\n",
    "   \n",
    "RMSE_score = make_scorer(RMSE, greater_is_better=False)"
   ]
  },
  {
   "cell_type": "markdown",
   "metadata": {},
   "source": [
    "### LinearRegression"
   ]
  },
  {
   "cell_type": "code",
   "execution_count": 194,
   "metadata": {},
   "outputs": [
    {
     "name": "stdout",
     "output_type": "stream",
     "text": [
      "Среднее качество модели линейной регрессии на кросс-валидации: 2449.411700744257\n",
      "CPU times: user 33.3 s, sys: 15 s, total: 48.3 s\n",
      "Wall time: 48.5 s\n"
     ]
    }
   ],
   "source": [
    "%%time\n",
    "start = time.time()\n",
    "model1 = LinearRegression()\n",
    "\n",
    "model1.fit(features_train_lr, target_train)\n",
    "\n",
    "end = time.time()\n",
    "time_model1_fit = end - start\n",
    "\n",
    "regression_cv_score = pd.Series(cross_val_score(model1, features_train_lr, target_train, scoring=RMSE_score, cv=3)).mean()*(-1)\n",
    "print('Среднее качество модели линейной регрессии на кросс-валидации:', regression_cv_score)"
   ]
  },
  {
   "cell_type": "code",
   "execution_count": 195,
   "metadata": {},
   "outputs": [
    {
     "name": "stdout",
     "output_type": "stream",
     "text": [
      "CPU times: user 128 ms, sys: 192 ms, total: 320 ms\n",
      "Wall time: 302 ms\n"
     ]
    }
   ],
   "source": [
    "%%time\n",
    "start = time.time()\n",
    "\n",
    "model1_predict = model1.predict(features_test_lr)\n",
    "\n",
    "end = time.time()\n",
    "time_model1_predict = end - start"
   ]
  },
  {
   "cell_type": "code",
   "execution_count": 196,
   "metadata": {},
   "outputs": [
    {
     "data": {
      "text/plain": [
       "2426.5329434612286"
      ]
     },
     "execution_count": 196,
     "metadata": {},
     "output_type": "execute_result"
    }
   ],
   "source": [
    "RMSE(target_test_lr, model1_predict)"
   ]
  },
  {
   "cell_type": "markdown",
   "metadata": {},
   "source": [
    "### RandomForestRegressor"
   ]
  },
  {
   "cell_type": "code",
   "execution_count": 218,
   "metadata": {},
   "outputs": [
    {
     "name": "stdout",
     "output_type": "stream",
     "text": [
      "CPU times: user 2min 34s, sys: 682 ms, total: 2min 35s\n",
      "Wall time: 2min 35s\n"
     ]
    },
    {
     "data": {
      "text/plain": [
       "39.027475357055664"
      ]
     },
     "execution_count": 218,
     "metadata": {},
     "output_type": "execute_result"
    }
   ],
   "source": [
    "%%time\n",
    "\n",
    "model2 = RandomForestRegressor(random_state=RND)\n",
    "\n",
    "pipline_rf = make_pipeline(col_transformer_rf, model2)\n",
    "\n",
    "#model2_parametrs = { 'n_estimators': range(5, 15, 5),\n",
    "#                     'max_depth': range(1, 6, 2),\n",
    "#                     'min_samples_leaf': range(1,4),\n",
    "#                     'min_samples_split': range(2,6,2) }\n",
    "\n",
    "model2_parametrs = {\n",
    "    #'randomforestregressor__n_estimators': range(50, 251, 50),\n",
    "    'randomforestregressor__max_depth': range(1, 6, 2)#,\n",
    "    #'randomforestregressor__min_samples_split': (2, 3, 4),\n",
    "    #'randomforestregressor__min_samples_leaf': (1, 2, 3, 4)\n",
    "}\n",
    "#model2_grid = GridSearchCV(model2, model2_parametrs, scoring=RMSE_score, cv=3)\n",
    "model2_grid = GridSearchCV(pipline_rf, model2_parametrs, scoring=RMSE_score, cv=3)\n",
    "\n",
    "model2_grid.fit(features_train, target_train)\n",
    "\n",
    "model2_grid.refit_time_"
   ]
  },
  {
   "cell_type": "code",
   "execution_count": 198,
   "metadata": {
    "scrolled": true
   },
   "outputs": [
    {
     "name": "stdout",
     "output_type": "stream",
     "text": [
      "{'randomforestregressor__max_depth': 5}\n",
      "2295.194530543535\n",
      "CPU times: user 510 µs, sys: 18 µs, total: 528 µs\n",
      "Wall time: 422 µs\n"
     ]
    }
   ],
   "source": [
    "%%time\n",
    "\n",
    "model2_params = model2_grid.best_params_\n",
    "#model2_score = model2_grid.score(features_train_oe, target_train_oe) * (-1)\n",
    "\n",
    "model2_score = model2_grid.best_score_ * (-1)\n",
    "\n",
    "print(model2_params)\n",
    "print(model2_score)"
   ]
  },
  {
   "cell_type": "code",
   "execution_count": 199,
   "metadata": {},
   "outputs": [
    {
     "name": "stdout",
     "output_type": "stream",
     "text": [
      "CPU times: user 409 ms, sys: 218 µs, total: 409 ms\n",
      "Wall time: 408 ms\n"
     ]
    }
   ],
   "source": [
    "%%time\n",
    "start = time.time()\n",
    "\n",
    "model2_predict = model2_grid.predict(features_test)\n",
    "\n",
    "end = time.time()\n",
    "time_model2_predict = end - start"
   ]
  },
  {
   "cell_type": "code",
   "execution_count": 200,
   "metadata": {},
   "outputs": [
    {
     "data": {
      "text/plain": [
       "2272.469671207099"
      ]
     },
     "execution_count": 200,
     "metadata": {},
     "output_type": "execute_result"
    }
   ],
   "source": [
    "RMSE(target_test, model2_predict)"
   ]
  },
  {
   "cell_type": "markdown",
   "metadata": {},
   "source": [
    "### CatBoostRegressor"
   ]
  },
  {
   "cell_type": "code",
   "execution_count": 36,
   "metadata": {},
   "outputs": [
    {
     "name": "stdout",
     "output_type": "stream",
     "text": [
      "0:\tlearn: 4132.3253910\ttotal: 72.8ms\tremaining: 7.21s\n",
      "1:\tlearn: 3730.1339890\ttotal: 99.2ms\tremaining: 4.86s\n",
      "2:\tlearn: 3399.3559146\ttotal: 119ms\tremaining: 3.85s\n",
      "3:\tlearn: 3126.9160499\ttotal: 145ms\tremaining: 3.48s\n",
      "4:\tlearn: 2910.6508155\ttotal: 175ms\tremaining: 3.33s\n",
      "5:\tlearn: 2728.3916313\ttotal: 206ms\tremaining: 3.23s\n",
      "6:\tlearn: 2587.3792861\ttotal: 229ms\tremaining: 3.04s\n",
      "7:\tlearn: 2461.3794321\ttotal: 253ms\tremaining: 2.91s\n",
      "8:\tlearn: 2357.9527672\ttotal: 277ms\tremaining: 2.8s\n",
      "9:\tlearn: 2274.2491030\ttotal: 297ms\tremaining: 2.68s\n",
      "10:\tlearn: 2207.7035019\ttotal: 317ms\tremaining: 2.57s\n",
      "11:\tlearn: 2148.4633795\ttotal: 350ms\tremaining: 2.57s\n",
      "12:\tlearn: 2097.1421295\ttotal: 384ms\tremaining: 2.57s\n",
      "13:\tlearn: 2053.4651745\ttotal: 409ms\tremaining: 2.51s\n",
      "14:\tlearn: 2020.9613936\ttotal: 431ms\tremaining: 2.44s\n",
      "15:\tlearn: 1993.2584120\ttotal: 452ms\tremaining: 2.38s\n",
      "16:\tlearn: 1958.9551441\ttotal: 474ms\tremaining: 2.31s\n",
      "17:\tlearn: 1935.6943032\ttotal: 501ms\tremaining: 2.28s\n",
      "18:\tlearn: 1917.5162716\ttotal: 520ms\tremaining: 2.22s\n",
      "19:\tlearn: 1899.8955116\ttotal: 552ms\tremaining: 2.21s\n",
      "20:\tlearn: 1880.6231738\ttotal: 573ms\tremaining: 2.16s\n",
      "21:\tlearn: 1865.7335968\ttotal: 593ms\tremaining: 2.1s\n",
      "22:\tlearn: 1852.6376549\ttotal: 614ms\tremaining: 2.06s\n",
      "23:\tlearn: 1841.6913234\ttotal: 634ms\tremaining: 2.01s\n",
      "24:\tlearn: 1831.6807521\ttotal: 652ms\tremaining: 1.96s\n",
      "25:\tlearn: 1821.8567450\ttotal: 671ms\tremaining: 1.91s\n",
      "26:\tlearn: 1809.6527084\ttotal: 690ms\tremaining: 1.86s\n",
      "27:\tlearn: 1802.7869284\ttotal: 709ms\tremaining: 1.82s\n",
      "28:\tlearn: 1793.3251353\ttotal: 729ms\tremaining: 1.78s\n",
      "29:\tlearn: 1785.4941869\ttotal: 748ms\tremaining: 1.74s\n",
      "30:\tlearn: 1778.6982587\ttotal: 766ms\tremaining: 1.71s\n",
      "31:\tlearn: 1772.8115192\ttotal: 785ms\tremaining: 1.67s\n",
      "32:\tlearn: 1766.4488372\ttotal: 804ms\tremaining: 1.63s\n",
      "33:\tlearn: 1758.9307282\ttotal: 824ms\tremaining: 1.6s\n",
      "34:\tlearn: 1754.0146626\ttotal: 844ms\tremaining: 1.57s\n",
      "35:\tlearn: 1749.3607058\ttotal: 862ms\tremaining: 1.53s\n",
      "36:\tlearn: 1744.1153370\ttotal: 881ms\tremaining: 1.5s\n",
      "37:\tlearn: 1738.8226241\ttotal: 901ms\tremaining: 1.47s\n",
      "38:\tlearn: 1735.1378112\ttotal: 921ms\tremaining: 1.44s\n",
      "39:\tlearn: 1729.7313158\ttotal: 942ms\tremaining: 1.41s\n",
      "40:\tlearn: 1723.6313094\ttotal: 963ms\tremaining: 1.39s\n",
      "41:\tlearn: 1719.8646535\ttotal: 982ms\tremaining: 1.35s\n",
      "42:\tlearn: 1716.0711776\ttotal: 1s\tremaining: 1.33s\n",
      "43:\tlearn: 1712.6272262\ttotal: 1.02s\tremaining: 1.3s\n",
      "44:\tlearn: 1709.7116626\ttotal: 1.04s\tremaining: 1.27s\n",
      "45:\tlearn: 1706.9030953\ttotal: 1.06s\tremaining: 1.25s\n",
      "46:\tlearn: 1702.8793840\ttotal: 1.08s\tremaining: 1.22s\n",
      "47:\tlearn: 1700.1338441\ttotal: 1.11s\tremaining: 1.2s\n",
      "48:\tlearn: 1697.1149515\ttotal: 1.13s\tremaining: 1.17s\n",
      "49:\tlearn: 1694.8203144\ttotal: 1.15s\tremaining: 1.15s\n",
      "50:\tlearn: 1691.4888522\ttotal: 1.17s\tremaining: 1.12s\n",
      "51:\tlearn: 1688.6848799\ttotal: 1.19s\tremaining: 1.1s\n",
      "52:\tlearn: 1685.6671276\ttotal: 1.21s\tremaining: 1.07s\n",
      "53:\tlearn: 1681.9970511\ttotal: 1.23s\tremaining: 1.05s\n",
      "54:\tlearn: 1679.5310925\ttotal: 1.25s\tremaining: 1.02s\n",
      "55:\tlearn: 1676.8981027\ttotal: 1.27s\tremaining: 1s\n",
      "56:\tlearn: 1674.3131943\ttotal: 1.29s\tremaining: 976ms\n",
      "57:\tlearn: 1671.2747388\ttotal: 1.31s\tremaining: 952ms\n",
      "58:\tlearn: 1669.5873713\ttotal: 1.33s\tremaining: 927ms\n",
      "59:\tlearn: 1667.7713431\ttotal: 1.35s\tremaining: 902ms\n",
      "60:\tlearn: 1665.6892912\ttotal: 1.37s\tremaining: 878ms\n",
      "61:\tlearn: 1663.4039947\ttotal: 1.39s\tremaining: 854ms\n",
      "62:\tlearn: 1661.4042190\ttotal: 1.42s\tremaining: 831ms\n",
      "63:\tlearn: 1658.2354075\ttotal: 1.44s\tremaining: 810ms\n",
      "64:\tlearn: 1656.9129761\ttotal: 1.46s\tremaining: 785ms\n",
      "65:\tlearn: 1654.2808077\ttotal: 1.48s\tremaining: 761ms\n",
      "66:\tlearn: 1651.6548539\ttotal: 1.5s\tremaining: 738ms\n",
      "67:\tlearn: 1649.0154578\ttotal: 1.52s\tremaining: 716ms\n",
      "68:\tlearn: 1646.8535829\ttotal: 1.54s\tremaining: 692ms\n",
      "69:\tlearn: 1645.7246137\ttotal: 1.56s\tremaining: 669ms\n",
      "70:\tlearn: 1644.4243142\ttotal: 1.58s\tremaining: 645ms\n",
      "71:\tlearn: 1641.6448559\ttotal: 1.6s\tremaining: 622ms\n",
      "72:\tlearn: 1639.8674273\ttotal: 1.62s\tremaining: 600ms\n",
      "73:\tlearn: 1638.4725969\ttotal: 1.64s\tremaining: 576ms\n",
      "74:\tlearn: 1636.7799954\ttotal: 1.66s\tremaining: 554ms\n",
      "75:\tlearn: 1634.4688429\ttotal: 1.68s\tremaining: 531ms\n",
      "76:\tlearn: 1632.7748119\ttotal: 1.7s\tremaining: 509ms\n",
      "77:\tlearn: 1631.2884913\ttotal: 1.72s\tremaining: 486ms\n",
      "78:\tlearn: 1628.7023285\ttotal: 1.74s\tremaining: 463ms\n",
      "79:\tlearn: 1627.1719770\ttotal: 1.76s\tremaining: 441ms\n",
      "80:\tlearn: 1625.3087798\ttotal: 1.78s\tremaining: 418ms\n",
      "81:\tlearn: 1622.7607258\ttotal: 1.8s\tremaining: 396ms\n",
      "82:\tlearn: 1621.2692425\ttotal: 1.82s\tremaining: 374ms\n",
      "83:\tlearn: 1619.3332548\ttotal: 1.84s\tremaining: 351ms\n",
      "84:\tlearn: 1617.4762446\ttotal: 1.86s\tremaining: 329ms\n",
      "85:\tlearn: 1615.8374244\ttotal: 1.88s\tremaining: 307ms\n",
      "86:\tlearn: 1614.7024295\ttotal: 1.91s\tremaining: 285ms\n",
      "87:\tlearn: 1612.9875580\ttotal: 1.93s\tremaining: 263ms\n",
      "88:\tlearn: 1611.7394871\ttotal: 1.95s\tremaining: 241ms\n",
      "89:\tlearn: 1610.3739911\ttotal: 1.97s\tremaining: 218ms\n",
      "90:\tlearn: 1609.2245211\ttotal: 1.99s\tremaining: 197ms\n",
      "91:\tlearn: 1607.8328846\ttotal: 2.01s\tremaining: 175ms\n",
      "92:\tlearn: 1606.7885394\ttotal: 2.04s\tremaining: 153ms\n",
      "93:\tlearn: 1605.6624670\ttotal: 2.05s\tremaining: 131ms\n",
      "94:\tlearn: 1604.5113740\ttotal: 2.07s\tremaining: 109ms\n",
      "95:\tlearn: 1603.5180070\ttotal: 2.09s\tremaining: 87.1ms\n",
      "96:\tlearn: 1601.9025901\ttotal: 2.11s\tremaining: 65.3ms\n",
      "97:\tlearn: 1600.7661548\ttotal: 2.13s\tremaining: 43.5ms\n",
      "98:\tlearn: 1599.6004568\ttotal: 2.15s\tremaining: 21.7ms\n",
      "99:\tlearn: 1598.5830639\ttotal: 2.17s\tremaining: 0us\n",
      "0:\tlearn: 4138.4567916\ttotal: 31.7ms\tremaining: 3.14s\n",
      "1:\tlearn: 3735.8691099\ttotal: 64.7ms\tremaining: 3.17s\n",
      "2:\tlearn: 3404.5498207\ttotal: 86.7ms\tremaining: 2.8s\n",
      "3:\tlearn: 3131.6210600\ttotal: 109ms\tremaining: 2.61s\n",
      "4:\tlearn: 2913.8769156\ttotal: 138ms\tremaining: 2.62s\n",
      "5:\tlearn: 2730.6910227\ttotal: 160ms\tremaining: 2.51s\n",
      "6:\tlearn: 2588.4454354\ttotal: 182ms\tremaining: 2.42s\n",
      "7:\tlearn: 2463.2319170\ttotal: 204ms\tremaining: 2.34s\n",
      "8:\tlearn: 2356.0285166\ttotal: 231ms\tremaining: 2.34s\n",
      "9:\tlearn: 2275.3303870\ttotal: 252ms\tremaining: 2.27s\n",
      "10:\tlearn: 2208.5387504\ttotal: 273ms\tremaining: 2.21s\n",
      "11:\tlearn: 2149.0761352\ttotal: 293ms\tremaining: 2.15s\n",
      "12:\tlearn: 2091.1169996\ttotal: 322ms\tremaining: 2.15s\n",
      "13:\tlearn: 2051.3863471\ttotal: 344ms\tremaining: 2.11s\n",
      "14:\tlearn: 2020.2940222\ttotal: 365ms\tremaining: 2.06s\n",
      "15:\tlearn: 1981.6343957\ttotal: 385ms\tremaining: 2.02s\n",
      "16:\tlearn: 1956.3460790\ttotal: 410ms\tremaining: 2s\n",
      "17:\tlearn: 1926.8008592\ttotal: 433ms\tremaining: 1.97s\n",
      "18:\tlearn: 1908.1172500\ttotal: 451ms\tremaining: 1.92s\n",
      "19:\tlearn: 1890.5855533\ttotal: 468ms\tremaining: 1.87s\n",
      "20:\tlearn: 1876.0681095\ttotal: 487ms\tremaining: 1.83s\n",
      "21:\tlearn: 1862.5212115\ttotal: 507ms\tremaining: 1.8s\n",
      "22:\tlearn: 1846.3737183\ttotal: 528ms\tremaining: 1.77s\n",
      "23:\tlearn: 1836.2906519\ttotal: 559ms\tremaining: 1.77s\n",
      "24:\tlearn: 1826.9435378\ttotal: 583ms\tremaining: 1.75s\n",
      "25:\tlearn: 1819.2178692\ttotal: 603ms\tremaining: 1.72s\n",
      "26:\tlearn: 1810.4768584\ttotal: 622ms\tremaining: 1.68s\n",
      "27:\tlearn: 1801.0099473\ttotal: 643ms\tremaining: 1.65s\n",
      "28:\tlearn: 1791.7863627\ttotal: 664ms\tremaining: 1.62s\n",
      "29:\tlearn: 1784.9574508\ttotal: 682ms\tremaining: 1.59s\n",
      "30:\tlearn: 1779.4294632\ttotal: 702ms\tremaining: 1.56s\n",
      "31:\tlearn: 1773.3542506\ttotal: 722ms\tremaining: 1.53s\n",
      "32:\tlearn: 1765.3928944\ttotal: 743ms\tremaining: 1.51s\n",
      "33:\tlearn: 1759.5278793\ttotal: 762ms\tremaining: 1.48s\n",
      "34:\tlearn: 1755.4254092\ttotal: 787ms\tremaining: 1.46s\n",
      "35:\tlearn: 1751.6325408\ttotal: 809ms\tremaining: 1.44s\n",
      "36:\tlearn: 1747.2377938\ttotal: 830ms\tremaining: 1.41s\n",
      "37:\tlearn: 1740.8212591\ttotal: 852ms\tremaining: 1.39s\n",
      "38:\tlearn: 1736.0110411\ttotal: 874ms\tremaining: 1.37s\n",
      "39:\tlearn: 1733.2372841\ttotal: 891ms\tremaining: 1.34s\n",
      "40:\tlearn: 1727.6538792\ttotal: 911ms\tremaining: 1.31s\n",
      "41:\tlearn: 1722.6270169\ttotal: 932ms\tremaining: 1.29s\n",
      "42:\tlearn: 1719.0046256\ttotal: 953ms\tremaining: 1.26s\n",
      "43:\tlearn: 1715.9442881\ttotal: 974ms\tremaining: 1.24s\n",
      "44:\tlearn: 1712.1878213\ttotal: 1s\tremaining: 1.23s\n",
      "45:\tlearn: 1707.2323511\ttotal: 1.03s\tremaining: 1.21s\n",
      "46:\tlearn: 1705.2094352\ttotal: 1.05s\tremaining: 1.19s\n",
      "47:\tlearn: 1702.3181605\ttotal: 1.07s\tremaining: 1.16s\n",
      "48:\tlearn: 1699.2434685\ttotal: 1.09s\tremaining: 1.14s\n",
      "49:\tlearn: 1696.6579168\ttotal: 1.11s\tremaining: 1.11s\n",
      "50:\tlearn: 1692.8467867\ttotal: 1.13s\tremaining: 1.09s\n",
      "51:\tlearn: 1689.8418831\ttotal: 1.15s\tremaining: 1.06s\n",
      "52:\tlearn: 1687.5170143\ttotal: 1.18s\tremaining: 1.04s\n",
      "53:\tlearn: 1684.2467209\ttotal: 1.21s\tremaining: 1.03s\n",
      "54:\tlearn: 1682.1078003\ttotal: 1.24s\tremaining: 1.01s\n",
      "55:\tlearn: 1679.1167427\ttotal: 1.27s\tremaining: 999ms\n",
      "56:\tlearn: 1677.2540245\ttotal: 1.29s\tremaining: 973ms\n",
      "57:\tlearn: 1673.4649270\ttotal: 1.31s\tremaining: 950ms\n",
      "58:\tlearn: 1671.1372640\ttotal: 1.33s\tremaining: 925ms\n",
      "59:\tlearn: 1669.1085798\ttotal: 1.35s\tremaining: 900ms\n",
      "60:\tlearn: 1666.7514110\ttotal: 1.37s\tremaining: 876ms\n",
      "61:\tlearn: 1665.2576954\ttotal: 1.39s\tremaining: 851ms\n",
      "62:\tlearn: 1662.2070165\ttotal: 1.41s\tremaining: 828ms\n",
      "63:\tlearn: 1660.7112679\ttotal: 1.43s\tremaining: 804ms\n",
      "64:\tlearn: 1658.6605637\ttotal: 1.45s\tremaining: 780ms\n",
      "65:\tlearn: 1656.6982645\ttotal: 1.47s\tremaining: 756ms\n",
      "66:\tlearn: 1655.0937462\ttotal: 1.49s\tremaining: 732ms\n",
      "67:\tlearn: 1652.3856115\ttotal: 1.51s\tremaining: 709ms\n",
      "68:\tlearn: 1650.1596924\ttotal: 1.53s\tremaining: 686ms\n",
      "69:\tlearn: 1647.6400104\ttotal: 1.55s\tremaining: 663ms\n",
      "70:\tlearn: 1646.0419397\ttotal: 1.57s\tremaining: 640ms\n",
      "71:\tlearn: 1644.3827698\ttotal: 1.58s\tremaining: 617ms\n",
      "72:\tlearn: 1642.5620374\ttotal: 1.61s\tremaining: 594ms\n",
      "73:\tlearn: 1641.0142201\ttotal: 1.63s\tremaining: 572ms\n",
      "74:\tlearn: 1637.9278525\ttotal: 1.65s\tremaining: 551ms\n",
      "75:\tlearn: 1636.2747017\ttotal: 1.68s\tremaining: 531ms\n",
      "76:\tlearn: 1634.3326939\ttotal: 1.71s\tremaining: 512ms\n",
      "77:\tlearn: 1632.3508682\ttotal: 1.74s\tremaining: 491ms\n",
      "78:\tlearn: 1631.2238336\ttotal: 1.77s\tremaining: 471ms\n",
      "79:\tlearn: 1628.1095476\ttotal: 1.81s\tremaining: 452ms\n",
      "80:\tlearn: 1626.2505621\ttotal: 1.84s\tremaining: 432ms\n",
      "81:\tlearn: 1624.3861007\ttotal: 1.87s\tremaining: 411ms\n",
      "82:\tlearn: 1622.7267724\ttotal: 1.9s\tremaining: 390ms\n",
      "83:\tlearn: 1621.3415063\ttotal: 1.93s\tremaining: 367ms\n",
      "84:\tlearn: 1619.0821888\ttotal: 1.95s\tremaining: 344ms\n",
      "85:\tlearn: 1617.1938489\ttotal: 1.97s\tremaining: 321ms\n",
      "86:\tlearn: 1615.6519694\ttotal: 1.99s\tremaining: 297ms\n",
      "87:\tlearn: 1613.9177541\ttotal: 2.01s\tremaining: 274ms\n",
      "88:\tlearn: 1612.8038433\ttotal: 2.03s\tremaining: 251ms\n",
      "89:\tlearn: 1611.4844263\ttotal: 2.05s\tremaining: 228ms\n",
      "90:\tlearn: 1609.7511801\ttotal: 2.07s\tremaining: 205ms\n",
      "91:\tlearn: 1608.2222007\ttotal: 2.09s\tremaining: 182ms\n",
      "92:\tlearn: 1607.2450373\ttotal: 2.11s\tremaining: 159ms\n",
      "93:\tlearn: 1605.9457862\ttotal: 2.13s\tremaining: 136ms\n",
      "94:\tlearn: 1604.2617929\ttotal: 2.15s\tremaining: 113ms\n",
      "95:\tlearn: 1603.4120840\ttotal: 2.17s\tremaining: 90.5ms\n",
      "96:\tlearn: 1602.0573389\ttotal: 2.19s\tremaining: 67.9ms\n",
      "97:\tlearn: 1600.6826690\ttotal: 2.21s\tremaining: 45.2ms\n",
      "98:\tlearn: 1599.6981856\ttotal: 2.23s\tremaining: 22.6ms\n",
      "99:\tlearn: 1598.3293775\ttotal: 2.26s\tremaining: 0us\n",
      "0:\tlearn: 4134.8506679\ttotal: 21.6ms\tremaining: 2.13s\n",
      "1:\tlearn: 3727.7958296\ttotal: 41.4ms\tremaining: 2.03s\n",
      "2:\tlearn: 3400.0640237\ttotal: 62.2ms\tremaining: 2.01s\n",
      "3:\tlearn: 3129.0834333\ttotal: 83.5ms\tremaining: 2s\n",
      "4:\tlearn: 2913.2261031\ttotal: 104ms\tremaining: 1.98s\n",
      "5:\tlearn: 2736.4174573\ttotal: 125ms\tremaining: 1.96s\n",
      "6:\tlearn: 2585.2150345\ttotal: 148ms\tremaining: 1.97s\n",
      "7:\tlearn: 2460.0131961\ttotal: 180ms\tremaining: 2.07s\n",
      "8:\tlearn: 2361.9354740\ttotal: 205ms\tremaining: 2.07s\n",
      "9:\tlearn: 2278.0646489\ttotal: 225ms\tremaining: 2.03s\n",
      "10:\tlearn: 2213.5119821\ttotal: 244ms\tremaining: 1.98s\n",
      "11:\tlearn: 2159.1504634\ttotal: 264ms\tremaining: 1.94s\n",
      "12:\tlearn: 2107.4165020\ttotal: 285ms\tremaining: 1.9s\n",
      "13:\tlearn: 2054.5863640\ttotal: 308ms\tremaining: 1.89s\n",
      "14:\tlearn: 2023.3373797\ttotal: 337ms\tremaining: 1.91s\n",
      "15:\tlearn: 1996.6442909\ttotal: 356ms\tremaining: 1.87s\n",
      "16:\tlearn: 1959.1479186\ttotal: 376ms\tremaining: 1.84s\n",
      "17:\tlearn: 1937.9262034\ttotal: 395ms\tremaining: 1.8s\n",
      "18:\tlearn: 1910.3291968\ttotal: 415ms\tremaining: 1.77s\n",
      "19:\tlearn: 1892.8775690\ttotal: 434ms\tremaining: 1.74s\n",
      "20:\tlearn: 1878.3248118\ttotal: 455ms\tremaining: 1.71s\n",
      "21:\tlearn: 1863.0906635\ttotal: 479ms\tremaining: 1.7s\n",
      "22:\tlearn: 1848.3601878\ttotal: 498ms\tremaining: 1.67s\n",
      "23:\tlearn: 1837.8839140\ttotal: 517ms\tremaining: 1.64s\n",
      "24:\tlearn: 1829.2280274\ttotal: 537ms\tremaining: 1.61s\n",
      "25:\tlearn: 1819.1358220\ttotal: 557ms\tremaining: 1.58s\n",
      "26:\tlearn: 1809.8711641\ttotal: 579ms\tremaining: 1.56s\n",
      "27:\tlearn: 1802.9552567\ttotal: 598ms\tremaining: 1.54s\n",
      "28:\tlearn: 1796.5199476\ttotal: 616ms\tremaining: 1.51s\n",
      "29:\tlearn: 1788.2567372\ttotal: 636ms\tremaining: 1.48s\n",
      "30:\tlearn: 1781.6857835\ttotal: 655ms\tremaining: 1.46s\n",
      "31:\tlearn: 1774.8717838\ttotal: 674ms\tremaining: 1.43s\n",
      "32:\tlearn: 1768.8509470\ttotal: 695ms\tremaining: 1.41s\n",
      "33:\tlearn: 1762.9617010\ttotal: 714ms\tremaining: 1.39s\n",
      "34:\tlearn: 1758.8890229\ttotal: 736ms\tremaining: 1.37s\n",
      "35:\tlearn: 1754.8317607\ttotal: 757ms\tremaining: 1.34s\n",
      "36:\tlearn: 1751.4718895\ttotal: 781ms\tremaining: 1.33s\n",
      "37:\tlearn: 1746.3537491\ttotal: 814ms\tremaining: 1.33s\n",
      "38:\tlearn: 1740.7845861\ttotal: 845ms\tremaining: 1.32s\n",
      "39:\tlearn: 1736.8325940\ttotal: 873ms\tremaining: 1.31s\n",
      "40:\tlearn: 1733.9240144\ttotal: 891ms\tremaining: 1.28s\n",
      "41:\tlearn: 1729.5319141\ttotal: 910ms\tremaining: 1.26s\n",
      "42:\tlearn: 1726.7935269\ttotal: 934ms\tremaining: 1.24s\n",
      "43:\tlearn: 1723.4783758\ttotal: 960ms\tremaining: 1.22s\n",
      "44:\tlearn: 1720.5658994\ttotal: 984ms\tremaining: 1.2s\n",
      "45:\tlearn: 1717.2931164\ttotal: 1s\tremaining: 1.18s\n",
      "46:\tlearn: 1712.4342049\ttotal: 1.03s\tremaining: 1.16s\n",
      "47:\tlearn: 1709.2765741\ttotal: 1.05s\tremaining: 1.14s\n",
      "48:\tlearn: 1706.1093682\ttotal: 1.07s\tremaining: 1.11s\n",
      "49:\tlearn: 1703.5678289\ttotal: 1.09s\tremaining: 1.09s\n",
      "50:\tlearn: 1699.2869055\ttotal: 1.11s\tremaining: 1.06s\n",
      "51:\tlearn: 1696.6813970\ttotal: 1.13s\tremaining: 1.04s\n",
      "52:\tlearn: 1694.3680805\ttotal: 1.15s\tremaining: 1.02s\n",
      "53:\tlearn: 1690.9688830\ttotal: 1.17s\tremaining: 994ms\n",
      "54:\tlearn: 1688.0369653\ttotal: 1.19s\tremaining: 971ms\n",
      "55:\tlearn: 1684.7986298\ttotal: 1.21s\tremaining: 948ms\n",
      "56:\tlearn: 1682.5389598\ttotal: 1.23s\tremaining: 925ms\n",
      "57:\tlearn: 1679.9753760\ttotal: 1.25s\tremaining: 903ms\n",
      "58:\tlearn: 1678.0823109\ttotal: 1.27s\tremaining: 880ms\n",
      "59:\tlearn: 1674.1176558\ttotal: 1.29s\tremaining: 858ms\n",
      "60:\tlearn: 1671.9042326\ttotal: 1.31s\tremaining: 837ms\n",
      "61:\tlearn: 1670.1314955\ttotal: 1.33s\tremaining: 816ms\n",
      "62:\tlearn: 1667.7020047\ttotal: 1.35s\tremaining: 793ms\n",
      "63:\tlearn: 1664.9789933\ttotal: 1.37s\tremaining: 771ms\n",
      "64:\tlearn: 1662.2165298\ttotal: 1.39s\tremaining: 748ms\n",
      "65:\tlearn: 1659.8713683\ttotal: 1.41s\tremaining: 726ms\n",
      "66:\tlearn: 1658.5543147\ttotal: 1.43s\tremaining: 704ms\n",
      "67:\tlearn: 1656.2803052\ttotal: 1.45s\tremaining: 682ms\n",
      "68:\tlearn: 1654.7689722\ttotal: 1.47s\tremaining: 660ms\n",
      "69:\tlearn: 1653.0430914\ttotal: 1.49s\tremaining: 639ms\n",
      "70:\tlearn: 1651.2676949\ttotal: 1.51s\tremaining: 618ms\n",
      "71:\tlearn: 1649.8518560\ttotal: 1.53s\tremaining: 595ms\n",
      "72:\tlearn: 1648.6468327\ttotal: 1.55s\tremaining: 573ms\n",
      "73:\tlearn: 1647.6738998\ttotal: 1.57s\tremaining: 551ms\n",
      "74:\tlearn: 1645.4410950\ttotal: 1.59s\tremaining: 529ms\n",
      "75:\tlearn: 1643.3930898\ttotal: 1.61s\tremaining: 508ms\n",
      "76:\tlearn: 1640.9722700\ttotal: 1.63s\tremaining: 487ms\n",
      "77:\tlearn: 1638.0421987\ttotal: 1.65s\tremaining: 466ms\n",
      "78:\tlearn: 1636.1344838\ttotal: 1.67s\tremaining: 445ms\n",
      "79:\tlearn: 1633.9312987\ttotal: 1.69s\tremaining: 423ms\n",
      "80:\tlearn: 1631.1268247\ttotal: 1.72s\tremaining: 403ms\n",
      "81:\tlearn: 1628.7887803\ttotal: 1.74s\tremaining: 381ms\n",
      "82:\tlearn: 1626.8154618\ttotal: 1.76s\tremaining: 360ms\n",
      "83:\tlearn: 1625.2524542\ttotal: 1.77s\tremaining: 338ms\n",
      "84:\tlearn: 1623.8997827\ttotal: 1.79s\tremaining: 317ms\n",
      "85:\tlearn: 1622.0797637\ttotal: 1.81s\tremaining: 295ms\n",
      "86:\tlearn: 1620.2593870\ttotal: 1.83s\tremaining: 274ms\n",
      "87:\tlearn: 1617.8986526\ttotal: 1.85s\tremaining: 253ms\n",
      "88:\tlearn: 1616.6982553\ttotal: 1.87s\tremaining: 232ms\n",
      "89:\tlearn: 1614.9973745\ttotal: 1.89s\tremaining: 210ms\n",
      "90:\tlearn: 1612.7576977\ttotal: 1.91s\tremaining: 189ms\n",
      "91:\tlearn: 1611.7958217\ttotal: 1.93s\tremaining: 168ms\n",
      "92:\tlearn: 1610.6962869\ttotal: 1.95s\tremaining: 147ms\n",
      "93:\tlearn: 1609.6819757\ttotal: 1.97s\tremaining: 126ms\n",
      "94:\tlearn: 1607.9597981\ttotal: 1.99s\tremaining: 105ms\n",
      "95:\tlearn: 1605.8158372\ttotal: 2.01s\tremaining: 83.7ms\n",
      "96:\tlearn: 1604.2037268\ttotal: 2.03s\tremaining: 62.7ms\n",
      "97:\tlearn: 1603.0460370\ttotal: 2.05s\tremaining: 41.8ms\n",
      "98:\tlearn: 1601.5640513\ttotal: 2.06s\tremaining: 20.9ms\n",
      "99:\tlearn: 1600.2514336\ttotal: 2.08s\tremaining: 0us\n",
      "0:\tlearn: 4121.9949851\ttotal: 41.5ms\tremaining: 4.11s\n",
      "1:\tlearn: 3705.5456586\ttotal: 79.6ms\tremaining: 3.9s\n",
      "2:\tlearn: 3364.9876104\ttotal: 118ms\tremaining: 3.83s\n",
      "3:\tlearn: 3078.9276065\ttotal: 163ms\tremaining: 3.92s\n",
      "4:\tlearn: 2853.9106165\ttotal: 211ms\tremaining: 4.01s\n",
      "5:\tlearn: 2662.9837878\ttotal: 250ms\tremaining: 3.92s\n",
      "6:\tlearn: 2511.5404355\ttotal: 288ms\tremaining: 3.83s\n",
      "7:\tlearn: 2385.9806931\ttotal: 325ms\tremaining: 3.73s\n",
      "8:\tlearn: 2276.9122422\ttotal: 360ms\tremaining: 3.64s\n",
      "9:\tlearn: 2193.9331693\ttotal: 394ms\tremaining: 3.54s\n",
      "10:\tlearn: 2124.0701029\ttotal: 432ms\tremaining: 3.49s\n",
      "11:\tlearn: 2070.7190522\ttotal: 469ms\tremaining: 3.44s\n",
      "12:\tlearn: 2009.2209368\ttotal: 505ms\tremaining: 3.38s\n",
      "13:\tlearn: 1966.1005822\ttotal: 540ms\tremaining: 3.32s\n",
      "14:\tlearn: 1929.1154597\ttotal: 576ms\tremaining: 3.26s\n",
      "15:\tlearn: 1902.7292203\ttotal: 610ms\tremaining: 3.2s\n",
      "16:\tlearn: 1878.1232259\ttotal: 645ms\tremaining: 3.15s\n",
      "17:\tlearn: 1849.9513829\ttotal: 680ms\tremaining: 3.1s\n",
      "18:\tlearn: 1831.9113834\ttotal: 717ms\tremaining: 3.06s\n",
      "19:\tlearn: 1812.7007645\ttotal: 752ms\tremaining: 3.01s\n",
      "20:\tlearn: 1800.5318858\ttotal: 801ms\tremaining: 3.01s\n",
      "21:\tlearn: 1785.8393438\ttotal: 863ms\tremaining: 3.06s\n",
      "22:\tlearn: 1774.3265339\ttotal: 901ms\tremaining: 3.02s\n",
      "23:\tlearn: 1765.2131272\ttotal: 938ms\tremaining: 2.97s\n",
      "24:\tlearn: 1757.6993880\ttotal: 974ms\tremaining: 2.92s\n",
      "25:\tlearn: 1747.0043513\ttotal: 1.02s\tremaining: 2.9s\n",
      "26:\tlearn: 1739.6912276\ttotal: 1.07s\tremaining: 2.9s\n",
      "27:\tlearn: 1732.8922232\ttotal: 1.11s\tremaining: 2.86s\n",
      "28:\tlearn: 1726.3359177\ttotal: 1.16s\tremaining: 2.83s\n",
      "29:\tlearn: 1718.7059573\ttotal: 1.19s\tremaining: 2.78s\n",
      "30:\tlearn: 1712.9093499\ttotal: 1.23s\tremaining: 2.73s\n",
      "31:\tlearn: 1707.9404716\ttotal: 1.27s\tremaining: 2.7s\n",
      "32:\tlearn: 1704.5160278\ttotal: 1.3s\tremaining: 2.65s\n",
      "33:\tlearn: 1699.4023364\ttotal: 1.34s\tremaining: 2.6s\n",
      "34:\tlearn: 1692.7494708\ttotal: 1.37s\tremaining: 2.55s\n",
      "35:\tlearn: 1688.7677249\ttotal: 1.41s\tremaining: 2.51s\n",
      "36:\tlearn: 1684.3514599\ttotal: 1.45s\tremaining: 2.47s\n",
      "37:\tlearn: 1681.5165333\ttotal: 1.49s\tremaining: 2.42s\n",
      "38:\tlearn: 1675.9009114\ttotal: 1.52s\tremaining: 2.38s\n",
      "39:\tlearn: 1672.0390025\ttotal: 1.56s\tremaining: 2.34s\n",
      "40:\tlearn: 1668.4674207\ttotal: 1.6s\tremaining: 2.3s\n",
      "41:\tlearn: 1665.3502454\ttotal: 1.64s\tremaining: 2.27s\n",
      "42:\tlearn: 1660.8705124\ttotal: 1.68s\tremaining: 2.22s\n",
      "43:\tlearn: 1657.7123201\ttotal: 1.72s\tremaining: 2.18s\n",
      "44:\tlearn: 1653.5067105\ttotal: 1.75s\tremaining: 2.14s\n",
      "45:\tlearn: 1649.4808678\ttotal: 1.79s\tremaining: 2.1s\n",
      "46:\tlearn: 1646.1931299\ttotal: 1.83s\tremaining: 2.06s\n",
      "47:\tlearn: 1643.5430940\ttotal: 1.86s\tremaining: 2.02s\n",
      "48:\tlearn: 1639.7730715\ttotal: 1.9s\tremaining: 1.98s\n",
      "49:\tlearn: 1636.5204821\ttotal: 1.94s\tremaining: 1.94s\n",
      "50:\tlearn: 1634.3472717\ttotal: 1.98s\tremaining: 1.9s\n",
      "51:\tlearn: 1630.9491643\ttotal: 2.03s\tremaining: 1.87s\n",
      "52:\tlearn: 1627.9558904\ttotal: 2.06s\tremaining: 1.83s\n",
      "53:\tlearn: 1625.3547343\ttotal: 2.1s\tremaining: 1.79s\n",
      "54:\tlearn: 1623.0451368\ttotal: 2.14s\tremaining: 1.75s\n",
      "55:\tlearn: 1620.7345513\ttotal: 2.17s\tremaining: 1.71s\n",
      "56:\tlearn: 1617.2899141\ttotal: 2.21s\tremaining: 1.67s\n",
      "57:\tlearn: 1614.8237029\ttotal: 2.25s\tremaining: 1.63s\n",
      "58:\tlearn: 1612.3258148\ttotal: 2.29s\tremaining: 1.59s\n",
      "59:\tlearn: 1609.8292251\ttotal: 2.34s\tremaining: 1.56s\n",
      "60:\tlearn: 1607.2132016\ttotal: 2.38s\tremaining: 1.52s\n",
      "61:\tlearn: 1605.0707203\ttotal: 2.41s\tremaining: 1.48s\n",
      "62:\tlearn: 1603.3858928\ttotal: 2.45s\tremaining: 1.44s\n",
      "63:\tlearn: 1600.9136454\ttotal: 2.51s\tremaining: 1.41s\n",
      "64:\tlearn: 1598.8288914\ttotal: 2.55s\tremaining: 1.37s\n",
      "65:\tlearn: 1597.3433072\ttotal: 2.58s\tremaining: 1.33s\n",
      "66:\tlearn: 1594.8497817\ttotal: 2.62s\tremaining: 1.29s\n",
      "67:\tlearn: 1593.6938763\ttotal: 2.65s\tremaining: 1.25s\n",
      "68:\tlearn: 1590.8442174\ttotal: 2.69s\tremaining: 1.21s\n",
      "69:\tlearn: 1588.4976931\ttotal: 2.73s\tremaining: 1.17s\n",
      "70:\tlearn: 1586.9352281\ttotal: 2.78s\tremaining: 1.14s\n",
      "71:\tlearn: 1585.4481126\ttotal: 2.82s\tremaining: 1.1s\n",
      "72:\tlearn: 1583.7565367\ttotal: 2.85s\tremaining: 1.06s\n",
      "73:\tlearn: 1581.4129230\ttotal: 2.89s\tremaining: 1.02s\n",
      "74:\tlearn: 1579.8049035\ttotal: 2.93s\tremaining: 976ms\n",
      "75:\tlearn: 1577.3646883\ttotal: 2.96s\tremaining: 936ms\n",
      "76:\tlearn: 1574.9493794\ttotal: 3s\tremaining: 895ms\n",
      "77:\tlearn: 1573.4025450\ttotal: 3.03s\tremaining: 855ms\n",
      "78:\tlearn: 1571.0594181\ttotal: 3.07s\tremaining: 817ms\n",
      "79:\tlearn: 1569.4976315\ttotal: 3.12s\tremaining: 780ms\n",
      "80:\tlearn: 1567.5577177\ttotal: 3.15s\tremaining: 740ms\n",
      "81:\tlearn: 1566.1627256\ttotal: 3.19s\tremaining: 700ms\n",
      "82:\tlearn: 1565.3545983\ttotal: 3.22s\tremaining: 660ms\n",
      "83:\tlearn: 1563.3090421\ttotal: 3.25s\tremaining: 620ms\n",
      "84:\tlearn: 1561.7558995\ttotal: 3.29s\tremaining: 580ms\n",
      "85:\tlearn: 1560.3667880\ttotal: 3.33s\tremaining: 541ms\n",
      "86:\tlearn: 1558.1871916\ttotal: 3.36s\tremaining: 503ms\n",
      "87:\tlearn: 1555.8959015\ttotal: 3.4s\tremaining: 463ms\n",
      "88:\tlearn: 1554.3560077\ttotal: 3.43s\tremaining: 424ms\n",
      "89:\tlearn: 1552.8927440\ttotal: 3.46s\tremaining: 385ms\n",
      "90:\tlearn: 1551.7249642\ttotal: 3.5s\tremaining: 346ms\n",
      "91:\tlearn: 1550.1700420\ttotal: 3.54s\tremaining: 307ms\n",
      "92:\tlearn: 1548.8322730\ttotal: 3.58s\tremaining: 269ms\n",
      "93:\tlearn: 1547.6443688\ttotal: 3.61s\tremaining: 231ms\n",
      "94:\tlearn: 1546.2656296\ttotal: 3.65s\tremaining: 192ms\n",
      "95:\tlearn: 1544.9101183\ttotal: 3.68s\tremaining: 154ms\n",
      "96:\tlearn: 1542.2634678\ttotal: 3.72s\tremaining: 115ms\n",
      "97:\tlearn: 1540.8891484\ttotal: 3.76s\tremaining: 76.7ms\n",
      "98:\tlearn: 1539.2335720\ttotal: 3.79s\tremaining: 38.3ms\n",
      "99:\tlearn: 1537.2159807\ttotal: 3.83s\tremaining: 0us\n",
      "0:\tlearn: 4127.8433492\ttotal: 48.6ms\tremaining: 4.81s\n",
      "1:\tlearn: 3711.4918721\ttotal: 86.7ms\tremaining: 4.25s\n",
      "2:\tlearn: 3366.7731265\ttotal: 122ms\tremaining: 3.95s\n",
      "3:\tlearn: 3080.4075879\ttotal: 157ms\tremaining: 3.77s\n",
      "4:\tlearn: 2848.5225627\ttotal: 193ms\tremaining: 3.67s\n",
      "5:\tlearn: 2655.0742965\ttotal: 227ms\tremaining: 3.55s\n",
      "6:\tlearn: 2499.9250537\ttotal: 262ms\tremaining: 3.48s\n",
      "7:\tlearn: 2374.7896559\ttotal: 297ms\tremaining: 3.41s\n",
      "8:\tlearn: 2269.3794614\ttotal: 332ms\tremaining: 3.35s\n",
      "9:\tlearn: 2187.2211404\ttotal: 368ms\tremaining: 3.31s\n",
      "10:\tlearn: 2114.9093610\ttotal: 406ms\tremaining: 3.29s\n",
      "11:\tlearn: 2060.4199539\ttotal: 444ms\tremaining: 3.25s\n",
      "12:\tlearn: 2011.2914186\ttotal: 480ms\tremaining: 3.21s\n",
      "13:\tlearn: 1961.9522156\ttotal: 517ms\tremaining: 3.18s\n",
      "14:\tlearn: 1919.6535260\ttotal: 553ms\tremaining: 3.13s\n",
      "15:\tlearn: 1891.0009573\ttotal: 589ms\tremaining: 3.09s\n",
      "16:\tlearn: 1868.8646902\ttotal: 628ms\tremaining: 3.06s\n",
      "17:\tlearn: 1847.1174088\ttotal: 663ms\tremaining: 3.02s\n",
      "18:\tlearn: 1828.7382567\ttotal: 700ms\tremaining: 2.98s\n",
      "19:\tlearn: 1814.6757554\ttotal: 734ms\tremaining: 2.94s\n",
      "20:\tlearn: 1795.1212900\ttotal: 767ms\tremaining: 2.88s\n",
      "21:\tlearn: 1782.8251112\ttotal: 803ms\tremaining: 2.85s\n",
      "22:\tlearn: 1766.6433108\ttotal: 837ms\tremaining: 2.8s\n",
      "23:\tlearn: 1758.2398557\ttotal: 872ms\tremaining: 2.76s\n",
      "24:\tlearn: 1749.8789143\ttotal: 912ms\tremaining: 2.73s\n",
      "25:\tlearn: 1740.1660577\ttotal: 949ms\tremaining: 2.7s\n",
      "26:\tlearn: 1732.7567158\ttotal: 988ms\tremaining: 2.67s\n",
      "27:\tlearn: 1725.7762041\ttotal: 1.02s\tremaining: 2.63s\n",
      "28:\tlearn: 1719.0726394\ttotal: 1.06s\tremaining: 2.59s\n",
      "29:\tlearn: 1713.3084979\ttotal: 1.1s\tremaining: 2.56s\n",
      "30:\tlearn: 1708.1882902\ttotal: 1.13s\tremaining: 2.52s\n",
      "31:\tlearn: 1700.9642586\ttotal: 1.17s\tremaining: 2.48s\n",
      "32:\tlearn: 1695.9799085\ttotal: 1.2s\tremaining: 2.44s\n",
      "33:\tlearn: 1691.2997777\ttotal: 1.24s\tremaining: 2.4s\n",
      "34:\tlearn: 1685.8352923\ttotal: 1.27s\tremaining: 2.36s\n",
      "35:\tlearn: 1682.1166366\ttotal: 1.31s\tremaining: 2.33s\n",
      "36:\tlearn: 1677.8854388\ttotal: 1.34s\tremaining: 2.28s\n",
      "37:\tlearn: 1672.8511923\ttotal: 1.38s\tremaining: 2.25s\n",
      "38:\tlearn: 1667.9920340\ttotal: 1.41s\tremaining: 2.21s\n",
      "39:\tlearn: 1665.0440588\ttotal: 1.45s\tremaining: 2.17s\n",
      "40:\tlearn: 1660.7752389\ttotal: 1.48s\tremaining: 2.14s\n",
      "41:\tlearn: 1658.5228518\ttotal: 1.52s\tremaining: 2.1s\n",
      "42:\tlearn: 1653.5119815\ttotal: 1.56s\tremaining: 2.06s\n",
      "43:\tlearn: 1650.7597937\ttotal: 1.61s\tremaining: 2.04s\n",
      "44:\tlearn: 1648.2228064\ttotal: 1.65s\tremaining: 2.01s\n",
      "45:\tlearn: 1645.0403942\ttotal: 1.7s\tremaining: 1.99s\n",
      "46:\tlearn: 1641.2145834\ttotal: 1.74s\tremaining: 1.96s\n",
      "47:\tlearn: 1638.3508710\ttotal: 1.78s\tremaining: 1.93s\n",
      "48:\tlearn: 1635.7194550\ttotal: 1.82s\tremaining: 1.9s\n",
      "49:\tlearn: 1633.2583841\ttotal: 1.86s\tremaining: 1.86s\n",
      "50:\tlearn: 1630.2372848\ttotal: 1.9s\tremaining: 1.82s\n",
      "51:\tlearn: 1627.6989803\ttotal: 1.93s\tremaining: 1.78s\n",
      "52:\tlearn: 1624.7279017\ttotal: 1.97s\tremaining: 1.74s\n",
      "53:\tlearn: 1621.3541608\ttotal: 2s\tremaining: 1.71s\n",
      "54:\tlearn: 1619.1356806\ttotal: 2.04s\tremaining: 1.67s\n",
      "55:\tlearn: 1616.2511232\ttotal: 2.07s\tremaining: 1.63s\n",
      "56:\tlearn: 1613.5700069\ttotal: 2.11s\tremaining: 1.59s\n",
      "57:\tlearn: 1610.9338280\ttotal: 2.14s\tremaining: 1.55s\n",
      "58:\tlearn: 1608.5494691\ttotal: 2.18s\tremaining: 1.51s\n",
      "59:\tlearn: 1606.9261512\ttotal: 2.21s\tremaining: 1.48s\n",
      "60:\tlearn: 1604.9884786\ttotal: 2.25s\tremaining: 1.44s\n",
      "61:\tlearn: 1601.6795237\ttotal: 2.29s\tremaining: 1.4s\n",
      "62:\tlearn: 1599.7732397\ttotal: 2.32s\tremaining: 1.36s\n",
      "63:\tlearn: 1597.7417497\ttotal: 2.35s\tremaining: 1.32s\n",
      "64:\tlearn: 1595.9328136\ttotal: 2.39s\tremaining: 1.29s\n",
      "65:\tlearn: 1593.4767151\ttotal: 2.43s\tremaining: 1.25s\n",
      "66:\tlearn: 1591.4578383\ttotal: 2.46s\tremaining: 1.21s\n",
      "67:\tlearn: 1590.0037206\ttotal: 2.5s\tremaining: 1.18s\n",
      "68:\tlearn: 1586.9679244\ttotal: 2.53s\tremaining: 1.14s\n",
      "69:\tlearn: 1584.8035246\ttotal: 2.57s\tremaining: 1.1s\n",
      "70:\tlearn: 1583.1034067\ttotal: 2.61s\tremaining: 1.06s\n",
      "71:\tlearn: 1580.5725089\ttotal: 2.64s\tremaining: 1.03s\n",
      "72:\tlearn: 1578.4563214\ttotal: 2.68s\tremaining: 992ms\n",
      "73:\tlearn: 1576.8592588\ttotal: 2.71s\tremaining: 954ms\n",
      "74:\tlearn: 1574.9460615\ttotal: 2.75s\tremaining: 915ms\n",
      "75:\tlearn: 1574.1842802\ttotal: 2.78s\tremaining: 879ms\n",
      "76:\tlearn: 1572.0739128\ttotal: 2.82s\tremaining: 842ms\n",
      "77:\tlearn: 1570.6702021\ttotal: 2.85s\tremaining: 805ms\n",
      "78:\tlearn: 1567.8816018\ttotal: 2.89s\tremaining: 768ms\n",
      "79:\tlearn: 1566.1890280\ttotal: 2.92s\tremaining: 731ms\n",
      "80:\tlearn: 1564.8553081\ttotal: 2.96s\tremaining: 695ms\n",
      "81:\tlearn: 1562.8234261\ttotal: 3s\tremaining: 658ms\n",
      "82:\tlearn: 1561.3244173\ttotal: 3.03s\tremaining: 621ms\n",
      "83:\tlearn: 1559.7597068\ttotal: 3.07s\tremaining: 584ms\n",
      "84:\tlearn: 1558.2242828\ttotal: 3.1s\tremaining: 548ms\n",
      "85:\tlearn: 1556.8361891\ttotal: 3.14s\tremaining: 511ms\n",
      "86:\tlearn: 1555.0508781\ttotal: 3.18s\tremaining: 475ms\n",
      "87:\tlearn: 1553.7351246\ttotal: 3.21s\tremaining: 438ms\n",
      "88:\tlearn: 1551.6924154\ttotal: 3.24s\tremaining: 401ms\n",
      "89:\tlearn: 1550.5472092\ttotal: 3.28s\tremaining: 364ms\n",
      "90:\tlearn: 1549.1003382\ttotal: 3.31s\tremaining: 328ms\n",
      "91:\tlearn: 1548.1404660\ttotal: 3.35s\tremaining: 292ms\n",
      "92:\tlearn: 1546.1392472\ttotal: 3.39s\tremaining: 255ms\n",
      "93:\tlearn: 1545.3061204\ttotal: 3.43s\tremaining: 219ms\n",
      "94:\tlearn: 1543.8733670\ttotal: 3.47s\tremaining: 183ms\n",
      "95:\tlearn: 1541.9911566\ttotal: 3.51s\tremaining: 146ms\n",
      "96:\tlearn: 1540.5556748\ttotal: 3.55s\tremaining: 110ms\n",
      "97:\tlearn: 1538.7308570\ttotal: 3.58s\tremaining: 73.2ms\n",
      "98:\tlearn: 1537.3635825\ttotal: 3.62s\tremaining: 36.6ms\n",
      "99:\tlearn: 1536.0216069\ttotal: 3.66s\tremaining: 0us\n",
      "0:\tlearn: 4123.3602870\ttotal: 38.8ms\tremaining: 3.84s\n",
      "1:\tlearn: 3709.8935180\ttotal: 74ms\tremaining: 3.62s\n",
      "2:\tlearn: 3371.9167519\ttotal: 109ms\tremaining: 3.52s\n",
      "3:\tlearn: 3081.2531193\ttotal: 150ms\tremaining: 3.6s\n",
      "4:\tlearn: 2851.2310890\ttotal: 185ms\tremaining: 3.52s\n",
      "5:\tlearn: 2658.3080052\ttotal: 220ms\tremaining: 3.44s\n",
      "6:\tlearn: 2506.8917812\ttotal: 255ms\tremaining: 3.39s\n",
      "7:\tlearn: 2383.2340355\ttotal: 289ms\tremaining: 3.32s\n",
      "8:\tlearn: 2279.1262126\ttotal: 326ms\tremaining: 3.29s\n",
      "9:\tlearn: 2195.7635277\ttotal: 360ms\tremaining: 3.24s\n",
      "10:\tlearn: 2113.7069828\ttotal: 393ms\tremaining: 3.18s\n",
      "11:\tlearn: 2056.9743049\ttotal: 433ms\tremaining: 3.17s\n",
      "12:\tlearn: 2011.1054326\ttotal: 468ms\tremaining: 3.13s\n",
      "13:\tlearn: 1962.0195221\ttotal: 502ms\tremaining: 3.08s\n",
      "14:\tlearn: 1929.6849609\ttotal: 543ms\tremaining: 3.08s\n",
      "15:\tlearn: 1901.7024618\ttotal: 580ms\tremaining: 3.04s\n",
      "16:\tlearn: 1878.3977510\ttotal: 617ms\tremaining: 3.01s\n",
      "17:\tlearn: 1856.3613957\ttotal: 652ms\tremaining: 2.97s\n",
      "18:\tlearn: 1836.5746428\ttotal: 688ms\tremaining: 2.93s\n",
      "19:\tlearn: 1822.1223432\ttotal: 728ms\tremaining: 2.91s\n",
      "20:\tlearn: 1806.3934250\ttotal: 767ms\tremaining: 2.88s\n",
      "21:\tlearn: 1789.3672160\ttotal: 802ms\tremaining: 2.84s\n",
      "22:\tlearn: 1776.4595653\ttotal: 840ms\tremaining: 2.81s\n",
      "23:\tlearn: 1767.6042196\ttotal: 877ms\tremaining: 2.78s\n",
      "24:\tlearn: 1756.6037703\ttotal: 919ms\tremaining: 2.76s\n",
      "25:\tlearn: 1748.9075381\ttotal: 955ms\tremaining: 2.72s\n",
      "26:\tlearn: 1738.6385331\ttotal: 990ms\tremaining: 2.68s\n",
      "27:\tlearn: 1731.6723347\ttotal: 1.03s\tremaining: 2.65s\n",
      "28:\tlearn: 1726.2466370\ttotal: 1.07s\tremaining: 2.61s\n",
      "29:\tlearn: 1720.4420578\ttotal: 1.1s\tremaining: 2.58s\n",
      "30:\tlearn: 1714.0314642\ttotal: 1.14s\tremaining: 2.54s\n",
      "31:\tlearn: 1706.0887304\ttotal: 1.17s\tremaining: 2.5s\n",
      "32:\tlearn: 1699.4450544\ttotal: 1.22s\tremaining: 2.47s\n",
      "33:\tlearn: 1695.0770543\ttotal: 1.25s\tremaining: 2.43s\n",
      "34:\tlearn: 1689.4591763\ttotal: 1.29s\tremaining: 2.39s\n",
      "35:\tlearn: 1685.3362853\ttotal: 1.32s\tremaining: 2.35s\n",
      "36:\tlearn: 1681.7482420\ttotal: 1.36s\tremaining: 2.31s\n",
      "37:\tlearn: 1677.6940753\ttotal: 1.39s\tremaining: 2.27s\n",
      "38:\tlearn: 1673.8438416\ttotal: 1.43s\tremaining: 2.23s\n",
      "39:\tlearn: 1670.7334096\ttotal: 1.46s\tremaining: 2.19s\n",
      "40:\tlearn: 1667.3880547\ttotal: 1.5s\tremaining: 2.16s\n",
      "41:\tlearn: 1663.7143271\ttotal: 1.53s\tremaining: 2.12s\n",
      "42:\tlearn: 1659.6694904\ttotal: 1.57s\tremaining: 2.08s\n",
      "43:\tlearn: 1657.2552680\ttotal: 1.61s\tremaining: 2.05s\n",
      "44:\tlearn: 1654.9734968\ttotal: 1.65s\tremaining: 2.01s\n",
      "45:\tlearn: 1650.6680280\ttotal: 1.68s\tremaining: 1.98s\n",
      "46:\tlearn: 1647.8588223\ttotal: 1.72s\tremaining: 1.94s\n",
      "47:\tlearn: 1644.8278815\ttotal: 1.76s\tremaining: 1.91s\n",
      "48:\tlearn: 1641.6837816\ttotal: 1.8s\tremaining: 1.87s\n",
      "49:\tlearn: 1639.6409607\ttotal: 1.84s\tremaining: 1.84s\n",
      "50:\tlearn: 1637.6022217\ttotal: 1.88s\tremaining: 1.8s\n",
      "51:\tlearn: 1633.9892822\ttotal: 1.91s\tremaining: 1.77s\n",
      "52:\tlearn: 1630.2558901\ttotal: 1.95s\tremaining: 1.73s\n",
      "53:\tlearn: 1626.5465178\ttotal: 1.99s\tremaining: 1.69s\n",
      "54:\tlearn: 1624.5607676\ttotal: 2.02s\tremaining: 1.65s\n",
      "55:\tlearn: 1622.0123320\ttotal: 2.06s\tremaining: 1.62s\n",
      "56:\tlearn: 1619.4633497\ttotal: 2.1s\tremaining: 1.58s\n",
      "57:\tlearn: 1617.1466083\ttotal: 2.13s\tremaining: 1.54s\n",
      "58:\tlearn: 1614.4647366\ttotal: 2.17s\tremaining: 1.51s\n",
      "59:\tlearn: 1613.2643553\ttotal: 2.21s\tremaining: 1.47s\n",
      "60:\tlearn: 1611.4261267\ttotal: 2.25s\tremaining: 1.44s\n",
      "61:\tlearn: 1608.7323339\ttotal: 2.29s\tremaining: 1.41s\n",
      "62:\tlearn: 1607.1040241\ttotal: 2.34s\tremaining: 1.37s\n",
      "63:\tlearn: 1604.8780294\ttotal: 2.37s\tremaining: 1.33s\n",
      "64:\tlearn: 1602.3312179\ttotal: 2.41s\tremaining: 1.3s\n",
      "65:\tlearn: 1600.4448576\ttotal: 2.44s\tremaining: 1.26s\n",
      "66:\tlearn: 1598.1287571\ttotal: 2.48s\tremaining: 1.22s\n",
      "67:\tlearn: 1596.9115250\ttotal: 2.52s\tremaining: 1.19s\n",
      "68:\tlearn: 1594.7857646\ttotal: 2.56s\tremaining: 1.15s\n",
      "69:\tlearn: 1592.6484466\ttotal: 2.59s\tremaining: 1.11s\n",
      "70:\tlearn: 1589.9840247\ttotal: 2.63s\tremaining: 1.07s\n",
      "71:\tlearn: 1587.8812167\ttotal: 2.66s\tremaining: 1.03s\n",
      "72:\tlearn: 1586.9850020\ttotal: 2.7s\tremaining: 998ms\n",
      "73:\tlearn: 1585.2419427\ttotal: 2.73s\tremaining: 961ms\n",
      "74:\tlearn: 1583.9953276\ttotal: 2.77s\tremaining: 924ms\n",
      "75:\tlearn: 1581.9212047\ttotal: 2.81s\tremaining: 888ms\n",
      "76:\tlearn: 1580.0592414\ttotal: 2.85s\tremaining: 850ms\n",
      "77:\tlearn: 1578.0642603\ttotal: 2.88s\tremaining: 812ms\n",
      "78:\tlearn: 1575.6293025\ttotal: 2.92s\tremaining: 776ms\n",
      "79:\tlearn: 1573.7418627\ttotal: 2.95s\tremaining: 738ms\n",
      "80:\tlearn: 1572.0696590\ttotal: 2.99s\tremaining: 702ms\n",
      "81:\tlearn: 1569.8832194\ttotal: 3.02s\tremaining: 664ms\n",
      "82:\tlearn: 1567.5479162\ttotal: 3.06s\tremaining: 627ms\n",
      "83:\tlearn: 1565.7652720\ttotal: 3.1s\tremaining: 590ms\n",
      "84:\tlearn: 1564.2434949\ttotal: 3.13s\tremaining: 553ms\n",
      "85:\tlearn: 1562.6433600\ttotal: 3.17s\tremaining: 516ms\n",
      "86:\tlearn: 1560.9261495\ttotal: 3.21s\tremaining: 480ms\n",
      "87:\tlearn: 1559.5752619\ttotal: 3.25s\tremaining: 443ms\n",
      "88:\tlearn: 1557.8305380\ttotal: 3.28s\tremaining: 406ms\n",
      "89:\tlearn: 1556.4875392\ttotal: 3.32s\tremaining: 369ms\n",
      "90:\tlearn: 1554.3346519\ttotal: 3.35s\tremaining: 332ms\n",
      "91:\tlearn: 1552.2567234\ttotal: 3.39s\tremaining: 295ms\n",
      "92:\tlearn: 1551.1913853\ttotal: 3.42s\tremaining: 258ms\n",
      "93:\tlearn: 1549.2058932\ttotal: 3.46s\tremaining: 221ms\n",
      "94:\tlearn: 1547.8909498\ttotal: 3.5s\tremaining: 184ms\n",
      "95:\tlearn: 1546.4181965\ttotal: 3.53s\tremaining: 147ms\n",
      "96:\tlearn: 1544.8970279\ttotal: 3.57s\tremaining: 110ms\n",
      "97:\tlearn: 1544.0253012\ttotal: 3.61s\tremaining: 73.6ms\n",
      "98:\tlearn: 1542.7354585\ttotal: 3.64s\tremaining: 36.8ms\n",
      "99:\tlearn: 1541.2992829\ttotal: 3.68s\tremaining: 0us\n",
      "0:\tlearn: 4110.4029819\ttotal: 71.2ms\tremaining: 7.05s\n",
      "1:\tlearn: 3688.9929714\ttotal: 134ms\tremaining: 6.57s\n",
      "2:\tlearn: 3335.0027352\ttotal: 201ms\tremaining: 6.51s\n",
      "3:\tlearn: 3042.3558637\ttotal: 271ms\tremaining: 6.51s\n",
      "4:\tlearn: 2807.1532244\ttotal: 334ms\tremaining: 6.35s\n",
      "5:\tlearn: 2617.0867427\ttotal: 408ms\tremaining: 6.39s\n",
      "6:\tlearn: 2446.5624160\ttotal: 486ms\tremaining: 6.46s\n",
      "7:\tlearn: 2319.4180584\ttotal: 571ms\tremaining: 6.57s\n",
      "8:\tlearn: 2208.1041903\ttotal: 639ms\tremaining: 6.46s\n",
      "9:\tlearn: 2118.0397470\ttotal: 722ms\tremaining: 6.5s\n",
      "10:\tlearn: 2049.2884268\ttotal: 808ms\tremaining: 6.53s\n",
      "11:\tlearn: 1986.6563747\ttotal: 881ms\tremaining: 6.46s\n",
      "12:\tlearn: 1935.2919817\ttotal: 945ms\tremaining: 6.32s\n",
      "13:\tlearn: 1897.2457560\ttotal: 1.02s\tremaining: 6.24s\n",
      "14:\tlearn: 1857.0865357\ttotal: 1.09s\tremaining: 6.16s\n",
      "15:\tlearn: 1830.1607083\ttotal: 1.17s\tremaining: 6.12s\n",
      "16:\tlearn: 1804.1433529\ttotal: 1.29s\tremaining: 6.29s\n",
      "17:\tlearn: 1784.8067073\ttotal: 1.38s\tremaining: 6.29s\n",
      "18:\tlearn: 1767.2747754\ttotal: 1.49s\tremaining: 6.36s\n",
      "19:\tlearn: 1748.8344788\ttotal: 1.57s\tremaining: 6.3s\n",
      "20:\tlearn: 1735.6766768\ttotal: 1.67s\tremaining: 6.28s\n",
      "21:\tlearn: 1719.9474715\ttotal: 1.74s\tremaining: 6.18s\n",
      "22:\tlearn: 1710.1616052\ttotal: 1.8s\tremaining: 6.04s\n",
      "23:\tlearn: 1700.1889431\ttotal: 1.88s\tremaining: 5.94s\n",
      "24:\tlearn: 1691.2254821\ttotal: 1.95s\tremaining: 5.85s\n",
      "25:\tlearn: 1683.5238431\ttotal: 2.01s\tremaining: 5.73s\n",
      "26:\tlearn: 1676.1180987\ttotal: 2.09s\tremaining: 5.65s\n",
      "27:\tlearn: 1666.6212792\ttotal: 2.17s\tremaining: 5.58s\n",
      "28:\tlearn: 1659.9553348\ttotal: 2.24s\tremaining: 5.49s\n",
      "29:\tlearn: 1653.7742592\ttotal: 2.31s\tremaining: 5.4s\n",
      "30:\tlearn: 1647.8637772\ttotal: 2.39s\tremaining: 5.32s\n",
      "31:\tlearn: 1643.3522687\ttotal: 2.47s\tremaining: 5.24s\n",
      "32:\tlearn: 1638.5523224\ttotal: 2.54s\tremaining: 5.16s\n",
      "33:\tlearn: 1633.0176915\ttotal: 2.62s\tremaining: 5.08s\n",
      "34:\tlearn: 1629.5063103\ttotal: 2.69s\tremaining: 5s\n",
      "35:\tlearn: 1624.7467526\ttotal: 2.77s\tremaining: 4.92s\n",
      "36:\tlearn: 1620.7923639\ttotal: 2.83s\tremaining: 4.83s\n",
      "37:\tlearn: 1615.9453377\ttotal: 2.9s\tremaining: 4.74s\n",
      "38:\tlearn: 1611.6570599\ttotal: 2.98s\tremaining: 4.66s\n",
      "39:\tlearn: 1609.2345036\ttotal: 3.06s\tremaining: 4.6s\n",
      "40:\tlearn: 1605.0646647\ttotal: 3.16s\tremaining: 4.54s\n",
      "41:\tlearn: 1601.8410712\ttotal: 3.23s\tremaining: 4.46s\n",
      "42:\tlearn: 1598.4721677\ttotal: 3.3s\tremaining: 4.38s\n",
      "43:\tlearn: 1594.1579033\ttotal: 3.38s\tremaining: 4.3s\n",
      "44:\tlearn: 1590.7421455\ttotal: 3.46s\tremaining: 4.23s\n",
      "45:\tlearn: 1587.3890824\ttotal: 3.54s\tremaining: 4.15s\n",
      "46:\tlearn: 1585.1617405\ttotal: 3.6s\tremaining: 4.06s\n",
      "47:\tlearn: 1582.0227054\ttotal: 3.67s\tremaining: 3.98s\n",
      "48:\tlearn: 1578.8900376\ttotal: 3.74s\tremaining: 3.9s\n",
      "49:\tlearn: 1575.5856291\ttotal: 3.81s\tremaining: 3.81s\n",
      "50:\tlearn: 1573.6652260\ttotal: 3.88s\tremaining: 3.73s\n",
      "51:\tlearn: 1570.2601812\ttotal: 3.97s\tremaining: 3.66s\n",
      "52:\tlearn: 1567.8165507\ttotal: 4.05s\tremaining: 3.59s\n",
      "53:\tlearn: 1565.8797662\ttotal: 4.11s\tremaining: 3.5s\n",
      "54:\tlearn: 1562.7157880\ttotal: 4.19s\tremaining: 3.43s\n",
      "55:\tlearn: 1561.0152193\ttotal: 4.26s\tremaining: 3.35s\n",
      "56:\tlearn: 1559.3448245\ttotal: 4.33s\tremaining: 3.26s\n",
      "57:\tlearn: 1556.7506567\ttotal: 4.39s\tremaining: 3.18s\n",
      "58:\tlearn: 1554.8417206\ttotal: 4.47s\tremaining: 3.1s\n",
      "59:\tlearn: 1551.1352008\ttotal: 4.54s\tremaining: 3.02s\n",
      "60:\tlearn: 1548.3222261\ttotal: 4.6s\tremaining: 2.94s\n",
      "61:\tlearn: 1547.0450287\ttotal: 4.68s\tremaining: 2.87s\n",
      "62:\tlearn: 1545.2810016\ttotal: 4.75s\tremaining: 2.79s\n",
      "63:\tlearn: 1543.4087165\ttotal: 4.82s\tremaining: 2.71s\n",
      "64:\tlearn: 1540.9162382\ttotal: 4.88s\tremaining: 2.63s\n",
      "65:\tlearn: 1538.3297109\ttotal: 4.95s\tremaining: 2.55s\n",
      "66:\tlearn: 1536.2021096\ttotal: 5.03s\tremaining: 2.48s\n",
      "67:\tlearn: 1534.0130323\ttotal: 5.1s\tremaining: 2.4s\n",
      "68:\tlearn: 1531.7455214\ttotal: 5.17s\tremaining: 2.32s\n",
      "69:\tlearn: 1529.6722992\ttotal: 5.24s\tremaining: 2.25s\n",
      "70:\tlearn: 1528.4836289\ttotal: 5.31s\tremaining: 2.17s\n",
      "71:\tlearn: 1527.4000243\ttotal: 5.38s\tremaining: 2.09s\n",
      "72:\tlearn: 1525.4868449\ttotal: 5.45s\tremaining: 2.02s\n",
      "73:\tlearn: 1522.1986523\ttotal: 5.52s\tremaining: 1.94s\n",
      "74:\tlearn: 1519.7980921\ttotal: 5.59s\tremaining: 1.86s\n",
      "75:\tlearn: 1518.5243365\ttotal: 5.66s\tremaining: 1.79s\n",
      "76:\tlearn: 1516.2531812\ttotal: 5.74s\tremaining: 1.71s\n",
      "77:\tlearn: 1514.0843086\ttotal: 5.81s\tremaining: 1.64s\n",
      "78:\tlearn: 1512.4861206\ttotal: 5.87s\tremaining: 1.56s\n",
      "79:\tlearn: 1510.5866929\ttotal: 5.96s\tremaining: 1.49s\n",
      "80:\tlearn: 1508.7329033\ttotal: 6.03s\tremaining: 1.42s\n",
      "81:\tlearn: 1506.5482890\ttotal: 6.11s\tremaining: 1.34s\n",
      "82:\tlearn: 1504.3522350\ttotal: 6.18s\tremaining: 1.27s\n",
      "83:\tlearn: 1502.4168426\ttotal: 6.26s\tremaining: 1.19s\n",
      "84:\tlearn: 1501.2238333\ttotal: 6.33s\tremaining: 1.12s\n",
      "85:\tlearn: 1499.0568630\ttotal: 6.4s\tremaining: 1.04s\n",
      "86:\tlearn: 1497.1271111\ttotal: 6.47s\tremaining: 967ms\n",
      "87:\tlearn: 1495.5052635\ttotal: 6.55s\tremaining: 893ms\n",
      "88:\tlearn: 1493.9514391\ttotal: 6.64s\tremaining: 821ms\n",
      "89:\tlearn: 1492.5735057\ttotal: 6.75s\tremaining: 750ms\n",
      "90:\tlearn: 1490.6671180\ttotal: 6.85s\tremaining: 678ms\n",
      "91:\tlearn: 1489.3542602\ttotal: 6.92s\tremaining: 602ms\n",
      "92:\tlearn: 1487.0975726\ttotal: 7s\tremaining: 527ms\n",
      "93:\tlearn: 1485.6262303\ttotal: 7.07s\tremaining: 451ms\n",
      "94:\tlearn: 1484.2767131\ttotal: 7.14s\tremaining: 376ms\n",
      "95:\tlearn: 1483.0984626\ttotal: 7.21s\tremaining: 300ms\n",
      "96:\tlearn: 1481.5450059\ttotal: 7.28s\tremaining: 225ms\n",
      "97:\tlearn: 1479.2324913\ttotal: 7.35s\tremaining: 150ms\n",
      "98:\tlearn: 1476.8972465\ttotal: 7.42s\tremaining: 75ms\n",
      "99:\tlearn: 1475.6649476\ttotal: 7.5s\tremaining: 0us\n",
      "0:\tlearn: 4115.4362773\ttotal: 71ms\tremaining: 7.03s\n",
      "1:\tlearn: 3687.9153864\ttotal: 135ms\tremaining: 6.62s\n",
      "2:\tlearn: 3334.4163377\ttotal: 202ms\tremaining: 6.54s\n",
      "3:\tlearn: 3050.9524954\ttotal: 272ms\tremaining: 6.53s\n",
      "4:\tlearn: 2815.4590423\ttotal: 342ms\tremaining: 6.5s\n",
      "5:\tlearn: 2620.7029205\ttotal: 410ms\tremaining: 6.42s\n",
      "6:\tlearn: 2457.7053546\ttotal: 480ms\tremaining: 6.38s\n",
      "7:\tlearn: 2323.3439902\ttotal: 549ms\tremaining: 6.31s\n",
      "8:\tlearn: 2214.4337418\ttotal: 612ms\tremaining: 6.19s\n",
      "9:\tlearn: 2119.1214590\ttotal: 679ms\tremaining: 6.12s\n",
      "10:\tlearn: 2047.7758609\ttotal: 750ms\tremaining: 6.07s\n",
      "11:\tlearn: 1989.7821489\ttotal: 814ms\tremaining: 5.96s\n",
      "12:\tlearn: 1942.6098677\ttotal: 881ms\tremaining: 5.9s\n",
      "13:\tlearn: 1893.0131778\ttotal: 949ms\tremaining: 5.83s\n",
      "14:\tlearn: 1860.3801975\ttotal: 1.01s\tremaining: 5.75s\n",
      "15:\tlearn: 1830.9218589\ttotal: 1.08s\tremaining: 5.7s\n",
      "16:\tlearn: 1808.4117236\ttotal: 1.15s\tremaining: 5.63s\n",
      "17:\tlearn: 1788.3797857\ttotal: 1.22s\tremaining: 5.54s\n",
      "18:\tlearn: 1767.2913096\ttotal: 1.28s\tremaining: 5.47s\n",
      "19:\tlearn: 1749.3666339\ttotal: 1.35s\tremaining: 5.41s\n",
      "20:\tlearn: 1735.8732245\ttotal: 1.43s\tremaining: 5.36s\n",
      "21:\tlearn: 1723.7321415\ttotal: 1.5s\tremaining: 5.31s\n",
      "22:\tlearn: 1713.9472603\ttotal: 1.57s\tremaining: 5.24s\n",
      "23:\tlearn: 1703.9177853\ttotal: 1.64s\tremaining: 5.19s\n",
      "24:\tlearn: 1693.3111605\ttotal: 1.71s\tremaining: 5.12s\n",
      "25:\tlearn: 1684.6917081\ttotal: 1.78s\tremaining: 5.06s\n",
      "26:\tlearn: 1673.7990480\ttotal: 1.86s\tremaining: 5.02s\n",
      "27:\tlearn: 1667.2214809\ttotal: 1.93s\tremaining: 4.95s\n",
      "28:\tlearn: 1661.8305888\ttotal: 2s\tremaining: 4.89s\n",
      "29:\tlearn: 1657.5764168\ttotal: 2.07s\tremaining: 4.84s\n",
      "30:\tlearn: 1651.4334872\ttotal: 2.15s\tremaining: 4.8s\n",
      "31:\tlearn: 1646.1275085\ttotal: 2.23s\tremaining: 4.75s\n",
      "32:\tlearn: 1640.5716858\ttotal: 2.3s\tremaining: 4.67s\n",
      "33:\tlearn: 1634.3039562\ttotal: 2.37s\tremaining: 4.61s\n",
      "34:\tlearn: 1629.8618614\ttotal: 2.44s\tremaining: 4.54s\n",
      "35:\tlearn: 1626.7026633\ttotal: 2.51s\tremaining: 4.46s\n",
      "36:\tlearn: 1621.8793335\ttotal: 2.59s\tremaining: 4.41s\n",
      "37:\tlearn: 1617.8946349\ttotal: 2.67s\tremaining: 4.36s\n",
      "38:\tlearn: 1614.7192363\ttotal: 2.75s\tremaining: 4.3s\n",
      "39:\tlearn: 1611.8469241\ttotal: 2.83s\tremaining: 4.25s\n",
      "40:\tlearn: 1608.7330456\ttotal: 2.9s\tremaining: 4.17s\n",
      "41:\tlearn: 1604.9697256\ttotal: 2.97s\tremaining: 4.1s\n",
      "42:\tlearn: 1601.2998095\ttotal: 3.04s\tremaining: 4.03s\n",
      "43:\tlearn: 1597.3361721\ttotal: 3.1s\tremaining: 3.95s\n",
      "44:\tlearn: 1593.4291788\ttotal: 3.17s\tremaining: 3.88s\n",
      "45:\tlearn: 1591.8640913\ttotal: 3.24s\tremaining: 3.8s\n",
      "46:\tlearn: 1589.5705939\ttotal: 3.3s\tremaining: 3.73s\n",
      "47:\tlearn: 1586.6508603\ttotal: 3.37s\tremaining: 3.65s\n",
      "48:\tlearn: 1583.4745787\ttotal: 3.45s\tremaining: 3.59s\n",
      "49:\tlearn: 1580.4971194\ttotal: 3.51s\tremaining: 3.51s\n",
      "50:\tlearn: 1578.0544912\ttotal: 3.58s\tremaining: 3.44s\n",
      "51:\tlearn: 1574.3787484\ttotal: 3.65s\tremaining: 3.37s\n",
      "52:\tlearn: 1571.1549332\ttotal: 3.71s\tremaining: 3.29s\n",
      "53:\tlearn: 1569.4382633\ttotal: 3.78s\tremaining: 3.22s\n",
      "54:\tlearn: 1566.4738132\ttotal: 3.85s\tremaining: 3.15s\n",
      "55:\tlearn: 1564.4546748\ttotal: 3.92s\tremaining: 3.08s\n",
      "56:\tlearn: 1562.3220387\ttotal: 3.98s\tremaining: 3s\n",
      "57:\tlearn: 1559.4917867\ttotal: 4.05s\tremaining: 2.93s\n",
      "58:\tlearn: 1556.5732178\ttotal: 4.12s\tremaining: 2.86s\n",
      "59:\tlearn: 1555.0426603\ttotal: 4.18s\tremaining: 2.79s\n",
      "60:\tlearn: 1552.7185511\ttotal: 4.25s\tremaining: 2.72s\n",
      "61:\tlearn: 1549.8291342\ttotal: 4.32s\tremaining: 2.65s\n",
      "62:\tlearn: 1546.3507453\ttotal: 4.39s\tremaining: 2.58s\n",
      "63:\tlearn: 1544.3048551\ttotal: 4.45s\tremaining: 2.5s\n",
      "64:\tlearn: 1542.2603789\ttotal: 4.52s\tremaining: 2.43s\n",
      "65:\tlearn: 1539.7657684\ttotal: 4.59s\tremaining: 2.36s\n",
      "66:\tlearn: 1538.0754268\ttotal: 4.67s\tremaining: 2.3s\n",
      "67:\tlearn: 1535.7823498\ttotal: 4.74s\tremaining: 2.23s\n",
      "68:\tlearn: 1533.6175672\ttotal: 4.8s\tremaining: 2.16s\n",
      "69:\tlearn: 1530.3823953\ttotal: 4.87s\tremaining: 2.09s\n",
      "70:\tlearn: 1528.2692122\ttotal: 4.94s\tremaining: 2.02s\n",
      "71:\tlearn: 1526.7240264\ttotal: 5.01s\tremaining: 1.95s\n",
      "72:\tlearn: 1524.7261990\ttotal: 5.08s\tremaining: 1.88s\n",
      "73:\tlearn: 1522.3924707\ttotal: 5.14s\tremaining: 1.81s\n",
      "74:\tlearn: 1520.7522649\ttotal: 5.21s\tremaining: 1.74s\n",
      "75:\tlearn: 1519.0778514\ttotal: 5.28s\tremaining: 1.67s\n",
      "76:\tlearn: 1516.8493073\ttotal: 5.36s\tremaining: 1.6s\n",
      "77:\tlearn: 1515.4842501\ttotal: 5.43s\tremaining: 1.53s\n",
      "78:\tlearn: 1513.4360537\ttotal: 5.5s\tremaining: 1.46s\n",
      "79:\tlearn: 1510.8387411\ttotal: 5.57s\tremaining: 1.39s\n",
      "80:\tlearn: 1508.8524521\ttotal: 5.65s\tremaining: 1.32s\n",
      "81:\tlearn: 1506.8573521\ttotal: 5.73s\tremaining: 1.26s\n",
      "82:\tlearn: 1504.1402156\ttotal: 5.8s\tremaining: 1.19s\n",
      "83:\tlearn: 1502.5834146\ttotal: 5.88s\tremaining: 1.12s\n",
      "84:\tlearn: 1500.8429838\ttotal: 5.94s\tremaining: 1.05s\n",
      "85:\tlearn: 1499.0454631\ttotal: 6.01s\tremaining: 979ms\n",
      "86:\tlearn: 1496.2677106\ttotal: 6.08s\tremaining: 908ms\n",
      "87:\tlearn: 1494.8765889\ttotal: 6.15s\tremaining: 839ms\n",
      "88:\tlearn: 1493.7649306\ttotal: 6.22s\tremaining: 769ms\n",
      "89:\tlearn: 1492.2720691\ttotal: 6.3s\tremaining: 700ms\n",
      "90:\tlearn: 1490.7628501\ttotal: 6.37s\tremaining: 630ms\n",
      "91:\tlearn: 1489.1949445\ttotal: 6.43s\tremaining: 559ms\n",
      "92:\tlearn: 1485.4270689\ttotal: 6.5s\tremaining: 490ms\n",
      "93:\tlearn: 1483.3533398\ttotal: 6.58s\tremaining: 420ms\n",
      "94:\tlearn: 1482.0408862\ttotal: 6.65s\tremaining: 350ms\n",
      "95:\tlearn: 1480.8955079\ttotal: 6.72s\tremaining: 280ms\n",
      "96:\tlearn: 1478.4197362\ttotal: 6.79s\tremaining: 210ms\n",
      "97:\tlearn: 1476.7933920\ttotal: 6.86s\tremaining: 140ms\n",
      "98:\tlearn: 1475.3275813\ttotal: 6.93s\tremaining: 70ms\n",
      "99:\tlearn: 1473.7646429\ttotal: 7s\tremaining: 0us\n",
      "0:\tlearn: 4111.7556540\ttotal: 72.9ms\tremaining: 7.21s\n",
      "1:\tlearn: 3691.5233215\ttotal: 147ms\tremaining: 7.18s\n",
      "2:\tlearn: 3337.9374406\ttotal: 219ms\tremaining: 7.09s\n",
      "3:\tlearn: 3046.4909009\ttotal: 292ms\tremaining: 7.01s\n",
      "4:\tlearn: 2812.2423623\ttotal: 364ms\tremaining: 6.92s\n",
      "5:\tlearn: 2623.0382071\ttotal: 441ms\tremaining: 6.9s\n",
      "6:\tlearn: 2462.3229483\ttotal: 513ms\tremaining: 6.81s\n",
      "7:\tlearn: 2329.4018590\ttotal: 585ms\tremaining: 6.73s\n",
      "8:\tlearn: 2225.5984628\ttotal: 653ms\tremaining: 6.6s\n",
      "9:\tlearn: 2132.5804318\ttotal: 718ms\tremaining: 6.46s\n",
      "10:\tlearn: 2054.6903572\ttotal: 791ms\tremaining: 6.4s\n",
      "11:\tlearn: 1993.3355301\ttotal: 860ms\tremaining: 6.3s\n",
      "12:\tlearn: 1946.0089577\ttotal: 925ms\tremaining: 6.19s\n",
      "13:\tlearn: 1907.7220139\ttotal: 1s\tremaining: 6.17s\n",
      "14:\tlearn: 1872.0013276\ttotal: 1.08s\tremaining: 6.12s\n",
      "15:\tlearn: 1845.2266034\ttotal: 1.15s\tremaining: 6.02s\n",
      "16:\tlearn: 1814.5610958\ttotal: 1.22s\tremaining: 5.93s\n",
      "17:\tlearn: 1793.7838075\ttotal: 1.29s\tremaining: 5.87s\n",
      "18:\tlearn: 1776.5774365\ttotal: 1.36s\tremaining: 5.82s\n",
      "19:\tlearn: 1759.3420007\ttotal: 1.45s\tremaining: 5.79s\n",
      "20:\tlearn: 1744.3948051\ttotal: 1.53s\tremaining: 5.77s\n",
      "21:\tlearn: 1732.9745605\ttotal: 1.61s\tremaining: 5.7s\n",
      "22:\tlearn: 1724.1402986\ttotal: 1.68s\tremaining: 5.63s\n",
      "23:\tlearn: 1712.4021581\ttotal: 1.75s\tremaining: 5.54s\n",
      "24:\tlearn: 1701.4080992\ttotal: 1.82s\tremaining: 5.45s\n",
      "25:\tlearn: 1693.7026595\ttotal: 1.89s\tremaining: 5.37s\n",
      "26:\tlearn: 1685.1290514\ttotal: 1.96s\tremaining: 5.29s\n",
      "27:\tlearn: 1677.0254467\ttotal: 2.02s\tremaining: 5.2s\n",
      "28:\tlearn: 1670.3705007\ttotal: 2.09s\tremaining: 5.11s\n",
      "29:\tlearn: 1664.2879252\ttotal: 2.16s\tremaining: 5.04s\n",
      "30:\tlearn: 1659.4610669\ttotal: 2.23s\tremaining: 4.96s\n",
      "31:\tlearn: 1654.4229180\ttotal: 2.29s\tremaining: 4.86s\n",
      "32:\tlearn: 1649.6726710\ttotal: 2.36s\tremaining: 4.79s\n",
      "33:\tlearn: 1644.4849288\ttotal: 2.42s\tremaining: 4.7s\n",
      "34:\tlearn: 1640.7416219\ttotal: 2.49s\tremaining: 4.62s\n",
      "35:\tlearn: 1636.4098478\ttotal: 2.56s\tremaining: 4.55s\n",
      "36:\tlearn: 1631.3470134\ttotal: 2.62s\tremaining: 4.47s\n",
      "37:\tlearn: 1628.0035150\ttotal: 2.69s\tremaining: 4.38s\n",
      "38:\tlearn: 1622.6163572\ttotal: 2.76s\tremaining: 4.32s\n",
      "39:\tlearn: 1618.1976997\ttotal: 2.83s\tremaining: 4.24s\n",
      "40:\tlearn: 1613.8940048\ttotal: 2.89s\tremaining: 4.16s\n",
      "41:\tlearn: 1610.2468352\ttotal: 2.97s\tremaining: 4.1s\n",
      "42:\tlearn: 1605.8171602\ttotal: 3.04s\tremaining: 4.03s\n",
      "43:\tlearn: 1601.8973123\ttotal: 3.1s\tremaining: 3.95s\n",
      "44:\tlearn: 1598.6889376\ttotal: 3.19s\tremaining: 3.9s\n",
      "45:\tlearn: 1596.4326094\ttotal: 3.26s\tremaining: 3.83s\n",
      "46:\tlearn: 1593.6497212\ttotal: 3.33s\tremaining: 3.76s\n",
      "47:\tlearn: 1590.9388150\ttotal: 3.41s\tremaining: 3.69s\n",
      "48:\tlearn: 1588.3060270\ttotal: 3.48s\tremaining: 3.62s\n",
      "49:\tlearn: 1584.4844605\ttotal: 3.55s\tremaining: 3.55s\n",
      "50:\tlearn: 1582.6917751\ttotal: 3.62s\tremaining: 3.48s\n",
      "51:\tlearn: 1579.6052886\ttotal: 3.69s\tremaining: 3.4s\n",
      "52:\tlearn: 1576.8735529\ttotal: 3.76s\tremaining: 3.33s\n",
      "53:\tlearn: 1575.0212560\ttotal: 3.83s\tremaining: 3.26s\n",
      "54:\tlearn: 1572.4309670\ttotal: 3.9s\tremaining: 3.19s\n",
      "55:\tlearn: 1570.5805621\ttotal: 3.99s\tremaining: 3.13s\n",
      "56:\tlearn: 1568.6111108\ttotal: 4.08s\tremaining: 3.08s\n",
      "57:\tlearn: 1566.3107987\ttotal: 4.16s\tremaining: 3.01s\n",
      "58:\tlearn: 1564.6965800\ttotal: 4.24s\tremaining: 2.94s\n",
      "59:\tlearn: 1562.5671012\ttotal: 4.31s\tremaining: 2.87s\n",
      "60:\tlearn: 1560.5079354\ttotal: 4.39s\tremaining: 2.81s\n",
      "61:\tlearn: 1558.5138534\ttotal: 4.47s\tremaining: 2.74s\n",
      "62:\tlearn: 1556.3263724\ttotal: 4.56s\tremaining: 2.68s\n",
      "63:\tlearn: 1554.2272738\ttotal: 4.66s\tremaining: 2.62s\n",
      "64:\tlearn: 1551.5678356\ttotal: 4.72s\tremaining: 2.54s\n",
      "65:\tlearn: 1549.9256364\ttotal: 4.79s\tremaining: 2.47s\n",
      "66:\tlearn: 1547.0368180\ttotal: 4.87s\tremaining: 2.4s\n",
      "67:\tlearn: 1544.5385448\ttotal: 4.94s\tremaining: 2.33s\n",
      "68:\tlearn: 1542.2714285\ttotal: 5.02s\tremaining: 2.25s\n",
      "69:\tlearn: 1539.4609355\ttotal: 5.08s\tremaining: 2.18s\n",
      "70:\tlearn: 1537.3515947\ttotal: 5.16s\tremaining: 2.11s\n",
      "71:\tlearn: 1536.0122983\ttotal: 5.23s\tremaining: 2.03s\n",
      "72:\tlearn: 1534.2202167\ttotal: 5.29s\tremaining: 1.96s\n",
      "73:\tlearn: 1532.4104637\ttotal: 5.36s\tremaining: 1.88s\n",
      "74:\tlearn: 1530.8191257\ttotal: 5.44s\tremaining: 1.81s\n",
      "75:\tlearn: 1528.7800561\ttotal: 5.52s\tremaining: 1.74s\n",
      "76:\tlearn: 1527.0632951\ttotal: 5.58s\tremaining: 1.67s\n",
      "77:\tlearn: 1525.0209198\ttotal: 5.66s\tremaining: 1.59s\n",
      "78:\tlearn: 1522.4666735\ttotal: 5.73s\tremaining: 1.52s\n",
      "79:\tlearn: 1520.6218621\ttotal: 5.79s\tremaining: 1.45s\n",
      "80:\tlearn: 1518.8918236\ttotal: 5.86s\tremaining: 1.38s\n",
      "81:\tlearn: 1516.7425165\ttotal: 5.94s\tremaining: 1.3s\n",
      "82:\tlearn: 1514.5190636\ttotal: 6.01s\tremaining: 1.23s\n",
      "83:\tlearn: 1512.6382434\ttotal: 6.07s\tremaining: 1.16s\n",
      "84:\tlearn: 1510.6663639\ttotal: 6.16s\tremaining: 1.09s\n",
      "85:\tlearn: 1508.7628518\ttotal: 6.23s\tremaining: 1.01s\n",
      "86:\tlearn: 1507.2627003\ttotal: 6.3s\tremaining: 942ms\n",
      "87:\tlearn: 1505.9463026\ttotal: 6.37s\tremaining: 868ms\n",
      "88:\tlearn: 1504.3977755\ttotal: 6.44s\tremaining: 796ms\n",
      "89:\tlearn: 1502.9708336\ttotal: 6.51s\tremaining: 724ms\n",
      "90:\tlearn: 1501.0707230\ttotal: 6.57s\tremaining: 650ms\n",
      "91:\tlearn: 1499.9902872\ttotal: 6.64s\tremaining: 577ms\n",
      "92:\tlearn: 1498.6004265\ttotal: 6.71s\tremaining: 505ms\n",
      "93:\tlearn: 1497.0159058\ttotal: 6.78s\tremaining: 433ms\n",
      "94:\tlearn: 1495.5262368\ttotal: 6.85s\tremaining: 361ms\n",
      "95:\tlearn: 1493.4944530\ttotal: 6.92s\tremaining: 289ms\n",
      "96:\tlearn: 1492.1620407\ttotal: 7s\tremaining: 216ms\n",
      "97:\tlearn: 1488.5022014\ttotal: 7.06s\tremaining: 144ms\n",
      "98:\tlearn: 1486.8646580\ttotal: 7.13s\tremaining: 72ms\n",
      "99:\tlearn: 1485.1580285\ttotal: 7.21s\tremaining: 0us\n",
      "0:\tlearn: 4104.8132470\ttotal: 263ms\tremaining: 26.1s\n",
      "1:\tlearn: 3678.2906797\ttotal: 513ms\tremaining: 25.2s\n",
      "2:\tlearn: 3324.8249498\ttotal: 767ms\tremaining: 24.8s\n",
      "3:\tlearn: 3021.8136679\ttotal: 1.02s\tremaining: 24.6s\n",
      "4:\tlearn: 2778.4248085\ttotal: 1.26s\tremaining: 24s\n",
      "5:\tlearn: 2570.4294745\ttotal: 1.52s\tremaining: 23.9s\n",
      "6:\tlearn: 2408.3797264\ttotal: 1.75s\tremaining: 23.3s\n",
      "7:\tlearn: 2274.2452458\ttotal: 1.99s\tremaining: 22.9s\n",
      "8:\tlearn: 2163.3915767\ttotal: 2.24s\tremaining: 22.7s\n",
      "9:\tlearn: 2074.7858598\ttotal: 2.48s\tremaining: 22.3s\n",
      "10:\tlearn: 1993.4784668\ttotal: 2.71s\tremaining: 22s\n",
      "11:\tlearn: 1931.0432024\ttotal: 2.96s\tremaining: 21.7s\n",
      "12:\tlearn: 1884.2098827\ttotal: 3.2s\tremaining: 21.4s\n",
      "13:\tlearn: 1844.4411202\ttotal: 3.44s\tremaining: 21.1s\n",
      "14:\tlearn: 1808.3415233\ttotal: 3.68s\tremaining: 20.8s\n",
      "15:\tlearn: 1775.7401332\ttotal: 3.93s\tremaining: 20.7s\n",
      "16:\tlearn: 1752.4162503\ttotal: 4.17s\tremaining: 20.3s\n",
      "17:\tlearn: 1731.5870916\ttotal: 4.41s\tremaining: 20.1s\n",
      "18:\tlearn: 1709.5160010\ttotal: 4.64s\tremaining: 19.8s\n",
      "19:\tlearn: 1695.0518337\ttotal: 4.89s\tremaining: 19.6s\n",
      "20:\tlearn: 1681.0270899\ttotal: 5.13s\tremaining: 19.3s\n",
      "21:\tlearn: 1667.1091935\ttotal: 5.38s\tremaining: 19.1s\n",
      "22:\tlearn: 1655.3908508\ttotal: 5.65s\tremaining: 18.9s\n",
      "23:\tlearn: 1646.7096070\ttotal: 5.92s\tremaining: 18.8s\n",
      "24:\tlearn: 1638.0163878\ttotal: 6.16s\tremaining: 18.5s\n",
      "25:\tlearn: 1630.7019636\ttotal: 6.4s\tremaining: 18.2s\n",
      "26:\tlearn: 1621.5799064\ttotal: 6.63s\tremaining: 17.9s\n",
      "27:\tlearn: 1614.0431629\ttotal: 6.9s\tremaining: 17.7s\n",
      "28:\tlearn: 1608.0559975\ttotal: 7.13s\tremaining: 17.5s\n",
      "29:\tlearn: 1602.4527616\ttotal: 7.39s\tremaining: 17.3s\n",
      "30:\tlearn: 1595.4946452\ttotal: 7.66s\tremaining: 17.1s\n",
      "31:\tlearn: 1590.5863698\ttotal: 7.91s\tremaining: 16.8s\n",
      "32:\tlearn: 1586.6585056\ttotal: 8.15s\tremaining: 16.5s\n",
      "33:\tlearn: 1582.2610269\ttotal: 8.4s\tremaining: 16.3s\n",
      "34:\tlearn: 1576.0530591\ttotal: 8.64s\tremaining: 16s\n",
      "35:\tlearn: 1571.7999577\ttotal: 8.89s\tremaining: 15.8s\n",
      "36:\tlearn: 1568.1414697\ttotal: 9.13s\tremaining: 15.5s\n",
      "37:\tlearn: 1564.6192583\ttotal: 9.38s\tremaining: 15.3s\n",
      "38:\tlearn: 1561.2923679\ttotal: 9.63s\tremaining: 15.1s\n",
      "39:\tlearn: 1556.5831764\ttotal: 9.87s\tremaining: 14.8s\n",
      "40:\tlearn: 1552.3260747\ttotal: 10.1s\tremaining: 14.6s\n",
      "41:\tlearn: 1548.7458241\ttotal: 10.4s\tremaining: 14.3s\n",
      "42:\tlearn: 1546.0728943\ttotal: 10.6s\tremaining: 14.1s\n",
      "43:\tlearn: 1541.7796311\ttotal: 10.9s\tremaining: 13.8s\n",
      "44:\tlearn: 1539.1461491\ttotal: 11.1s\tremaining: 13.6s\n",
      "45:\tlearn: 1536.1500114\ttotal: 11.4s\tremaining: 13.3s\n",
      "46:\tlearn: 1534.0050255\ttotal: 11.6s\tremaining: 13.1s\n",
      "47:\tlearn: 1530.7684819\ttotal: 11.8s\tremaining: 12.8s\n",
      "48:\tlearn: 1528.4257377\ttotal: 12.1s\tremaining: 12.6s\n",
      "49:\tlearn: 1525.1844124\ttotal: 12.3s\tremaining: 12.3s\n",
      "50:\tlearn: 1521.1314236\ttotal: 12.5s\tremaining: 12.1s\n",
      "51:\tlearn: 1518.9509514\ttotal: 12.8s\tremaining: 11.8s\n",
      "52:\tlearn: 1514.0103563\ttotal: 13s\tremaining: 11.6s\n",
      "53:\tlearn: 1511.0440573\ttotal: 13.3s\tremaining: 11.3s\n",
      "54:\tlearn: 1508.9596120\ttotal: 13.5s\tremaining: 11.1s\n",
      "55:\tlearn: 1507.0543444\ttotal: 13.8s\tremaining: 10.8s\n",
      "56:\tlearn: 1503.7272569\ttotal: 14s\tremaining: 10.6s\n",
      "57:\tlearn: 1500.4394043\ttotal: 14.2s\tremaining: 10.3s\n",
      "58:\tlearn: 1498.1647375\ttotal: 14.5s\tremaining: 10.1s\n",
      "59:\tlearn: 1495.2999990\ttotal: 14.7s\tremaining: 9.82s\n",
      "60:\tlearn: 1492.7352056\ttotal: 15s\tremaining: 9.58s\n",
      "61:\tlearn: 1488.9927298\ttotal: 15.2s\tremaining: 9.33s\n",
      "62:\tlearn: 1485.9653223\ttotal: 15.5s\tremaining: 9.09s\n",
      "63:\tlearn: 1483.5527664\ttotal: 15.8s\tremaining: 8.88s\n",
      "64:\tlearn: 1481.1871126\ttotal: 16s\tremaining: 8.63s\n",
      "65:\tlearn: 1478.9152073\ttotal: 16.3s\tremaining: 8.39s\n",
      "66:\tlearn: 1476.4043783\ttotal: 16.5s\tremaining: 8.14s\n",
      "67:\tlearn: 1473.7830716\ttotal: 16.8s\tremaining: 7.89s\n",
      "68:\tlearn: 1472.4479968\ttotal: 17s\tremaining: 7.64s\n",
      "69:\tlearn: 1470.3213948\ttotal: 17.2s\tremaining: 7.39s\n",
      "70:\tlearn: 1468.1850488\ttotal: 17.5s\tremaining: 7.14s\n",
      "71:\tlearn: 1466.0997976\ttotal: 17.7s\tremaining: 6.89s\n",
      "72:\tlearn: 1464.3154748\ttotal: 17.9s\tremaining: 6.64s\n",
      "73:\tlearn: 1461.7530397\ttotal: 18.2s\tremaining: 6.39s\n",
      "74:\tlearn: 1459.4886244\ttotal: 18.4s\tremaining: 6.14s\n",
      "75:\tlearn: 1457.3431753\ttotal: 18.7s\tremaining: 5.9s\n",
      "76:\tlearn: 1455.4272402\ttotal: 18.9s\tremaining: 5.65s\n",
      "77:\tlearn: 1453.3186498\ttotal: 19.1s\tremaining: 5.4s\n",
      "78:\tlearn: 1451.8311679\ttotal: 19.4s\tremaining: 5.15s\n",
      "79:\tlearn: 1449.8668373\ttotal: 19.6s\tremaining: 4.9s\n",
      "80:\tlearn: 1447.7613972\ttotal: 19.9s\tremaining: 4.66s\n",
      "81:\tlearn: 1445.8555206\ttotal: 20.1s\tremaining: 4.41s\n",
      "82:\tlearn: 1444.1512765\ttotal: 20.3s\tremaining: 4.16s\n",
      "83:\tlearn: 1441.7819821\ttotal: 20.6s\tremaining: 3.92s\n",
      "84:\tlearn: 1439.9433013\ttotal: 20.8s\tremaining: 3.67s\n",
      "85:\tlearn: 1437.7135665\ttotal: 21.1s\tremaining: 3.43s\n",
      "86:\tlearn: 1434.5756489\ttotal: 21.3s\tremaining: 3.19s\n",
      "87:\tlearn: 1432.6549195\ttotal: 21.6s\tremaining: 2.94s\n",
      "88:\tlearn: 1430.0414065\ttotal: 21.8s\tremaining: 2.7s\n",
      "89:\tlearn: 1424.6563418\ttotal: 22.1s\tremaining: 2.46s\n",
      "90:\tlearn: 1422.0187686\ttotal: 22.4s\tremaining: 2.21s\n",
      "91:\tlearn: 1420.0065841\ttotal: 22.6s\tremaining: 1.97s\n",
      "92:\tlearn: 1418.7093393\ttotal: 22.9s\tremaining: 1.72s\n",
      "93:\tlearn: 1417.1040080\ttotal: 23.1s\tremaining: 1.48s\n",
      "94:\tlearn: 1414.6164846\ttotal: 23.3s\tremaining: 1.23s\n",
      "95:\tlearn: 1412.3572741\ttotal: 23.6s\tremaining: 983ms\n",
      "96:\tlearn: 1410.6014121\ttotal: 23.8s\tremaining: 737ms\n",
      "97:\tlearn: 1408.7690208\ttotal: 24.1s\tremaining: 491ms\n",
      "98:\tlearn: 1407.4442187\ttotal: 24.3s\tremaining: 245ms\n",
      "99:\tlearn: 1406.3441825\ttotal: 24.5s\tremaining: 0us\n",
      "0:\tlearn: 4109.7421723\ttotal: 237ms\tremaining: 23.5s\n",
      "1:\tlearn: 3684.2029501\ttotal: 477ms\tremaining: 23.4s\n",
      "2:\tlearn: 3320.7905285\ttotal: 714ms\tremaining: 23.1s\n",
      "3:\tlearn: 3019.3984970\ttotal: 957ms\tremaining: 23s\n",
      "4:\tlearn: 2777.0319964\ttotal: 1.19s\tremaining: 22.6s\n",
      "5:\tlearn: 2571.0552506\ttotal: 1.42s\tremaining: 22.3s\n",
      "6:\tlearn: 2404.0377626\ttotal: 1.66s\tremaining: 22.1s\n",
      "7:\tlearn: 2271.1597289\ttotal: 1.9s\tremaining: 21.8s\n",
      "8:\tlearn: 2162.8504638\ttotal: 2.14s\tremaining: 21.6s\n",
      "9:\tlearn: 2073.1118930\ttotal: 2.38s\tremaining: 21.4s\n",
      "10:\tlearn: 1996.3366188\ttotal: 2.63s\tremaining: 21.3s\n",
      "11:\tlearn: 1928.4790353\ttotal: 2.86s\tremaining: 21s\n",
      "12:\tlearn: 1879.6566601\ttotal: 3.1s\tremaining: 20.7s\n",
      "13:\tlearn: 1839.3154102\ttotal: 3.33s\tremaining: 20.5s\n",
      "14:\tlearn: 1806.4785027\ttotal: 3.58s\tremaining: 20.3s\n",
      "15:\tlearn: 1775.4854429\ttotal: 3.83s\tremaining: 20.1s\n",
      "16:\tlearn: 1752.5571574\ttotal: 4.06s\tremaining: 19.8s\n",
      "17:\tlearn: 1726.2492982\ttotal: 4.31s\tremaining: 19.6s\n",
      "18:\tlearn: 1709.2869647\ttotal: 4.56s\tremaining: 19.4s\n",
      "19:\tlearn: 1695.0731786\ttotal: 4.82s\tremaining: 19.3s\n",
      "20:\tlearn: 1680.7415912\ttotal: 5.06s\tremaining: 19s\n",
      "21:\tlearn: 1668.7109703\ttotal: 5.31s\tremaining: 18.8s\n",
      "22:\tlearn: 1658.6832784\ttotal: 5.55s\tremaining: 18.6s\n",
      "23:\tlearn: 1645.2521510\ttotal: 5.8s\tremaining: 18.4s\n",
      "24:\tlearn: 1636.6421361\ttotal: 6.03s\tremaining: 18.1s\n",
      "25:\tlearn: 1628.9196256\ttotal: 6.27s\tremaining: 17.8s\n",
      "26:\tlearn: 1620.7898419\ttotal: 6.51s\tremaining: 17.6s\n",
      "27:\tlearn: 1614.6337014\ttotal: 6.75s\tremaining: 17.4s\n",
      "28:\tlearn: 1609.1599867\ttotal: 6.99s\tremaining: 17.1s\n",
      "29:\tlearn: 1604.2715488\ttotal: 7.22s\tremaining: 16.9s\n",
      "30:\tlearn: 1599.6833647\ttotal: 7.47s\tremaining: 16.6s\n",
      "31:\tlearn: 1593.8389181\ttotal: 7.72s\tremaining: 16.4s\n",
      "32:\tlearn: 1589.6896771\ttotal: 7.96s\tremaining: 16.2s\n",
      "33:\tlearn: 1583.9684086\ttotal: 8.2s\tremaining: 15.9s\n",
      "34:\tlearn: 1578.8206991\ttotal: 8.43s\tremaining: 15.7s\n",
      "35:\tlearn: 1574.0582301\ttotal: 8.67s\tremaining: 15.4s\n",
      "36:\tlearn: 1569.8176773\ttotal: 8.91s\tremaining: 15.2s\n",
      "37:\tlearn: 1567.0540755\ttotal: 9.16s\tremaining: 14.9s\n",
      "38:\tlearn: 1563.7695790\ttotal: 9.4s\tremaining: 14.7s\n",
      "39:\tlearn: 1559.0223587\ttotal: 9.66s\tremaining: 14.5s\n",
      "40:\tlearn: 1554.8919959\ttotal: 9.9s\tremaining: 14.3s\n",
      "41:\tlearn: 1551.6357695\ttotal: 10.1s\tremaining: 14s\n",
      "42:\tlearn: 1545.8501813\ttotal: 10.4s\tremaining: 13.8s\n",
      "43:\tlearn: 1542.8370544\ttotal: 10.6s\tremaining: 13.5s\n",
      "44:\tlearn: 1539.6532772\ttotal: 10.9s\tremaining: 13.3s\n",
      "45:\tlearn: 1536.1049548\ttotal: 11.2s\tremaining: 13.1s\n",
      "46:\tlearn: 1532.5576735\ttotal: 11.4s\tremaining: 12.8s\n",
      "47:\tlearn: 1528.7624564\ttotal: 11.6s\tremaining: 12.6s\n",
      "48:\tlearn: 1526.0009278\ttotal: 11.9s\tremaining: 12.4s\n",
      "49:\tlearn: 1523.4079188\ttotal: 12.1s\tremaining: 12.1s\n",
      "50:\tlearn: 1519.9989531\ttotal: 12.3s\tremaining: 11.9s\n",
      "51:\tlearn: 1517.1714340\ttotal: 12.6s\tremaining: 11.6s\n",
      "52:\tlearn: 1514.5287452\ttotal: 12.8s\tremaining: 11.4s\n",
      "53:\tlearn: 1511.7716416\ttotal: 13.1s\tremaining: 11.1s\n",
      "54:\tlearn: 1509.7796490\ttotal: 13.3s\tremaining: 10.9s\n",
      "55:\tlearn: 1507.3880122\ttotal: 13.5s\tremaining: 10.6s\n",
      "56:\tlearn: 1503.8692569\ttotal: 13.8s\tremaining: 10.4s\n",
      "57:\tlearn: 1501.3392824\ttotal: 14s\tremaining: 10.1s\n",
      "58:\tlearn: 1499.5924064\ttotal: 14.3s\tremaining: 9.9s\n",
      "59:\tlearn: 1497.6961268\ttotal: 14.5s\tremaining: 9.65s\n",
      "60:\tlearn: 1492.1329821\ttotal: 14.7s\tremaining: 9.4s\n",
      "61:\tlearn: 1489.4732838\ttotal: 14.9s\tremaining: 9.16s\n",
      "62:\tlearn: 1486.8341883\ttotal: 15.2s\tremaining: 8.91s\n",
      "63:\tlearn: 1484.2311911\ttotal: 15.4s\tremaining: 8.68s\n",
      "64:\tlearn: 1481.6012445\ttotal: 15.7s\tremaining: 8.44s\n",
      "65:\tlearn: 1480.0867455\ttotal: 15.9s\tremaining: 8.19s\n",
      "66:\tlearn: 1477.3864471\ttotal: 16.1s\tremaining: 7.95s\n",
      "67:\tlearn: 1474.3272676\ttotal: 16.4s\tremaining: 7.71s\n",
      "68:\tlearn: 1472.9105585\ttotal: 16.6s\tremaining: 7.47s\n",
      "69:\tlearn: 1470.9812780\ttotal: 16.9s\tremaining: 7.22s\n",
      "70:\tlearn: 1469.1016290\ttotal: 17.1s\tremaining: 6.98s\n",
      "71:\tlearn: 1467.3873964\ttotal: 17.3s\tremaining: 6.74s\n",
      "72:\tlearn: 1465.3690068\ttotal: 17.6s\tremaining: 6.5s\n",
      "73:\tlearn: 1462.8554416\ttotal: 17.8s\tremaining: 6.26s\n",
      "74:\tlearn: 1460.7263328\ttotal: 18s\tremaining: 6.01s\n",
      "75:\tlearn: 1458.5767254\ttotal: 18.3s\tremaining: 5.77s\n",
      "76:\tlearn: 1456.3183117\ttotal: 18.5s\tremaining: 5.54s\n",
      "77:\tlearn: 1454.1373969\ttotal: 18.8s\tremaining: 5.3s\n",
      "78:\tlearn: 1452.0468108\ttotal: 19s\tremaining: 5.06s\n",
      "79:\tlearn: 1449.3806765\ttotal: 19.3s\tremaining: 4.83s\n",
      "80:\tlearn: 1447.5328975\ttotal: 19.6s\tremaining: 4.6s\n",
      "81:\tlearn: 1445.7891183\ttotal: 19.9s\tremaining: 4.36s\n",
      "82:\tlearn: 1444.0830871\ttotal: 20.1s\tremaining: 4.12s\n",
      "83:\tlearn: 1442.0047162\ttotal: 20.3s\tremaining: 3.87s\n",
      "84:\tlearn: 1439.6896414\ttotal: 20.6s\tremaining: 3.63s\n",
      "85:\tlearn: 1437.7477013\ttotal: 20.8s\tremaining: 3.39s\n",
      "86:\tlearn: 1436.0166314\ttotal: 21.1s\tremaining: 3.15s\n",
      "87:\tlearn: 1433.7665915\ttotal: 21.3s\tremaining: 2.9s\n",
      "88:\tlearn: 1431.4329217\ttotal: 21.5s\tremaining: 2.66s\n",
      "89:\tlearn: 1429.3400116\ttotal: 21.8s\tremaining: 2.42s\n",
      "90:\tlearn: 1427.5670772\ttotal: 22s\tremaining: 2.18s\n",
      "91:\tlearn: 1423.3835969\ttotal: 22.3s\tremaining: 1.93s\n",
      "92:\tlearn: 1421.8103535\ttotal: 22.5s\tremaining: 1.69s\n",
      "93:\tlearn: 1420.3147683\ttotal: 22.8s\tremaining: 1.45s\n",
      "94:\tlearn: 1416.4948345\ttotal: 23s\tremaining: 1.21s\n",
      "95:\tlearn: 1414.5735649\ttotal: 23.2s\tremaining: 968ms\n",
      "96:\tlearn: 1412.7495840\ttotal: 23.5s\tremaining: 726ms\n",
      "97:\tlearn: 1411.0166719\ttotal: 23.7s\tremaining: 484ms\n",
      "98:\tlearn: 1408.3853105\ttotal: 24s\tremaining: 242ms\n",
      "99:\tlearn: 1406.3014818\ttotal: 24.2s\tremaining: 0us\n",
      "0:\tlearn: 4106.4698411\ttotal: 238ms\tremaining: 23.6s\n",
      "1:\tlearn: 3681.7911879\ttotal: 478ms\tremaining: 23.4s\n",
      "2:\tlearn: 3324.5273022\ttotal: 713ms\tremaining: 23s\n",
      "3:\tlearn: 3022.3662815\ttotal: 955ms\tremaining: 22.9s\n",
      "4:\tlearn: 2777.9711015\ttotal: 1.2s\tremaining: 22.8s\n",
      "5:\tlearn: 2566.8785162\ttotal: 1.44s\tremaining: 22.5s\n",
      "6:\tlearn: 2406.1377811\ttotal: 1.68s\tremaining: 22.3s\n",
      "7:\tlearn: 2274.8241340\ttotal: 1.92s\tremaining: 22s\n",
      "8:\tlearn: 2163.9582198\ttotal: 2.15s\tremaining: 21.8s\n",
      "9:\tlearn: 2077.7449348\ttotal: 2.38s\tremaining: 21.5s\n",
      "10:\tlearn: 2001.8813109\ttotal: 2.62s\tremaining: 21.2s\n",
      "11:\tlearn: 1943.6967323\ttotal: 2.86s\tremaining: 21s\n",
      "12:\tlearn: 1888.4651929\ttotal: 3.09s\tremaining: 20.7s\n",
      "13:\tlearn: 1848.8890286\ttotal: 3.33s\tremaining: 20.5s\n",
      "14:\tlearn: 1812.8149654\ttotal: 3.57s\tremaining: 20.2s\n",
      "15:\tlearn: 1782.9916657\ttotal: 3.82s\tremaining: 20.1s\n",
      "16:\tlearn: 1761.1254028\ttotal: 4.08s\tremaining: 19.9s\n",
      "17:\tlearn: 1737.6866668\ttotal: 4.33s\tremaining: 19.7s\n",
      "18:\tlearn: 1714.8845674\ttotal: 4.56s\tremaining: 19.4s\n",
      "19:\tlearn: 1700.6020167\ttotal: 4.78s\tremaining: 19.1s\n",
      "20:\tlearn: 1686.4249232\ttotal: 5.03s\tremaining: 18.9s\n",
      "21:\tlearn: 1676.1527139\ttotal: 5.27s\tremaining: 18.7s\n",
      "22:\tlearn: 1665.3212424\ttotal: 5.49s\tremaining: 18.4s\n",
      "23:\tlearn: 1656.1834158\ttotal: 5.74s\tremaining: 18.2s\n",
      "24:\tlearn: 1647.2059586\ttotal: 5.99s\tremaining: 18s\n",
      "25:\tlearn: 1639.6005101\ttotal: 6.22s\tremaining: 17.7s\n",
      "26:\tlearn: 1632.7348786\ttotal: 6.45s\tremaining: 17.4s\n",
      "27:\tlearn: 1625.5990803\ttotal: 6.68s\tremaining: 17.2s\n",
      "28:\tlearn: 1619.5606531\ttotal: 6.93s\tremaining: 17s\n",
      "29:\tlearn: 1614.1589674\ttotal: 7.16s\tremaining: 16.7s\n",
      "30:\tlearn: 1608.3851465\ttotal: 7.41s\tremaining: 16.5s\n",
      "31:\tlearn: 1604.1713853\ttotal: 7.65s\tremaining: 16.3s\n",
      "32:\tlearn: 1598.9104120\ttotal: 7.9s\tremaining: 16s\n",
      "33:\tlearn: 1593.1873071\ttotal: 8.14s\tremaining: 15.8s\n",
      "34:\tlearn: 1587.7175480\ttotal: 8.39s\tremaining: 15.6s\n",
      "35:\tlearn: 1584.1163552\ttotal: 8.63s\tremaining: 15.3s\n",
      "36:\tlearn: 1580.9398038\ttotal: 8.88s\tremaining: 15.1s\n",
      "37:\tlearn: 1577.6380050\ttotal: 9.12s\tremaining: 14.9s\n",
      "38:\tlearn: 1573.6455758\ttotal: 9.36s\tremaining: 14.6s\n",
      "39:\tlearn: 1568.4026460\ttotal: 9.6s\tremaining: 14.4s\n",
      "40:\tlearn: 1564.2604167\ttotal: 9.84s\tremaining: 14.2s\n",
      "41:\tlearn: 1561.5713294\ttotal: 10.1s\tremaining: 13.9s\n",
      "42:\tlearn: 1558.1376254\ttotal: 10.3s\tremaining: 13.7s\n",
      "43:\tlearn: 1554.7333133\ttotal: 10.6s\tremaining: 13.4s\n",
      "44:\tlearn: 1551.2553418\ttotal: 10.8s\tremaining: 13.2s\n",
      "45:\tlearn: 1547.5198054\ttotal: 11s\tremaining: 13s\n",
      "46:\tlearn: 1547.3267625\ttotal: 11.1s\tremaining: 12.5s\n",
      "47:\tlearn: 1544.3124012\ttotal: 11.3s\tremaining: 12.2s\n",
      "48:\tlearn: 1541.3532030\ttotal: 11.5s\tremaining: 12s\n",
      "49:\tlearn: 1539.2107241\ttotal: 11.7s\tremaining: 11.7s\n",
      "50:\tlearn: 1536.8725415\ttotal: 12s\tremaining: 11.5s\n",
      "51:\tlearn: 1534.3897934\ttotal: 12.2s\tremaining: 11.3s\n",
      "52:\tlearn: 1531.0270513\ttotal: 12.5s\tremaining: 11.1s\n",
      "53:\tlearn: 1527.0667553\ttotal: 12.7s\tremaining: 10.8s\n",
      "54:\tlearn: 1524.5151328\ttotal: 13s\tremaining: 10.6s\n",
      "55:\tlearn: 1520.1332732\ttotal: 13.2s\tremaining: 10.4s\n",
      "56:\tlearn: 1516.5272685\ttotal: 13.4s\tremaining: 10.1s\n",
      "57:\tlearn: 1513.4332903\ttotal: 13.7s\tremaining: 9.92s\n",
      "58:\tlearn: 1510.3448791\ttotal: 14s\tremaining: 9.7s\n",
      "59:\tlearn: 1507.2891890\ttotal: 14.2s\tremaining: 9.46s\n",
      "60:\tlearn: 1504.6380405\ttotal: 14.4s\tremaining: 9.23s\n",
      "61:\tlearn: 1502.4848640\ttotal: 14.7s\tremaining: 9s\n",
      "62:\tlearn: 1499.8921185\ttotal: 14.9s\tremaining: 8.76s\n",
      "63:\tlearn: 1497.8356962\ttotal: 15.2s\tremaining: 8.53s\n",
      "64:\tlearn: 1494.6361292\ttotal: 15.4s\tremaining: 8.3s\n",
      "65:\tlearn: 1491.9235410\ttotal: 15.6s\tremaining: 8.06s\n",
      "66:\tlearn: 1490.7027036\ttotal: 15.9s\tremaining: 7.83s\n",
      "67:\tlearn: 1489.3582549\ttotal: 16.1s\tremaining: 7.6s\n",
      "68:\tlearn: 1488.2838249\ttotal: 16.4s\tremaining: 7.37s\n",
      "69:\tlearn: 1484.9706733\ttotal: 16.6s\tremaining: 7.13s\n",
      "70:\tlearn: 1482.6229251\ttotal: 16.9s\tremaining: 6.9s\n",
      "71:\tlearn: 1480.8747279\ttotal: 17.1s\tremaining: 6.66s\n",
      "72:\tlearn: 1479.6139741\ttotal: 17.4s\tremaining: 6.43s\n",
      "73:\tlearn: 1477.4071661\ttotal: 17.6s\tremaining: 6.19s\n",
      "74:\tlearn: 1476.2376316\ttotal: 17.9s\tremaining: 5.95s\n",
      "75:\tlearn: 1474.7406219\ttotal: 18.1s\tremaining: 5.72s\n",
      "76:\tlearn: 1472.5667879\ttotal: 18.3s\tremaining: 5.48s\n",
      "77:\tlearn: 1470.9671149\ttotal: 18.6s\tremaining: 5.24s\n",
      "78:\tlearn: 1469.2918869\ttotal: 18.8s\tremaining: 5s\n",
      "79:\tlearn: 1466.9256066\ttotal: 19.1s\tremaining: 4.77s\n",
      "80:\tlearn: 1464.4467990\ttotal: 19.3s\tremaining: 4.53s\n",
      "81:\tlearn: 1462.1003460\ttotal: 19.5s\tremaining: 4.29s\n",
      "82:\tlearn: 1458.9357183\ttotal: 19.8s\tremaining: 4.05s\n",
      "83:\tlearn: 1457.1841762\ttotal: 20s\tremaining: 3.81s\n",
      "84:\tlearn: 1454.7061075\ttotal: 20.3s\tremaining: 3.58s\n",
      "85:\tlearn: 1452.9371181\ttotal: 20.5s\tremaining: 3.34s\n",
      "86:\tlearn: 1450.5617798\ttotal: 20.8s\tremaining: 3.1s\n",
      "87:\tlearn: 1448.3851287\ttotal: 21s\tremaining: 2.86s\n",
      "88:\tlearn: 1446.7887232\ttotal: 21.2s\tremaining: 2.62s\n",
      "89:\tlearn: 1444.2842836\ttotal: 21.5s\tremaining: 2.38s\n",
      "90:\tlearn: 1441.8611515\ttotal: 21.7s\tremaining: 2.15s\n",
      "91:\tlearn: 1439.3121686\ttotal: 21.9s\tremaining: 1.91s\n",
      "92:\tlearn: 1436.9974961\ttotal: 22.2s\tremaining: 1.67s\n",
      "93:\tlearn: 1435.4287012\ttotal: 22.4s\tremaining: 1.43s\n",
      "94:\tlearn: 1433.4571944\ttotal: 22.7s\tremaining: 1.19s\n",
      "95:\tlearn: 1431.6605462\ttotal: 22.9s\tremaining: 955ms\n",
      "96:\tlearn: 1429.7568723\ttotal: 23.2s\tremaining: 717ms\n",
      "97:\tlearn: 1428.6375660\ttotal: 23.4s\tremaining: 478ms\n",
      "98:\tlearn: 1426.7981118\ttotal: 23.7s\tremaining: 239ms\n",
      "99:\tlearn: 1425.4178563\ttotal: 23.9s\tremaining: 0us\n",
      "0:\tlearn: 4099.2316812\ttotal: 256ms\tremaining: 25.4s\n",
      "1:\tlearn: 3664.6033401\ttotal: 511ms\tremaining: 25s\n",
      "2:\tlearn: 3302.9637912\ttotal: 763ms\tremaining: 24.7s\n",
      "3:\tlearn: 3003.7676413\ttotal: 1.04s\tremaining: 24.9s\n",
      "4:\tlearn: 2758.5407697\ttotal: 1.3s\tremaining: 24.8s\n",
      "5:\tlearn: 2560.3992385\ttotal: 1.56s\tremaining: 24.4s\n",
      "6:\tlearn: 2390.2971149\ttotal: 1.83s\tremaining: 24.3s\n",
      "7:\tlearn: 2260.0044969\ttotal: 2.11s\tremaining: 24.2s\n",
      "8:\tlearn: 2146.2671385\ttotal: 2.37s\tremaining: 24s\n",
      "9:\tlearn: 2059.7590526\ttotal: 2.64s\tremaining: 23.8s\n",
      "10:\tlearn: 1988.7984804\ttotal: 2.9s\tremaining: 23.5s\n",
      "11:\tlearn: 1926.9376402\ttotal: 3.16s\tremaining: 23.1s\n",
      "12:\tlearn: 1874.9014060\ttotal: 3.42s\tremaining: 22.9s\n",
      "13:\tlearn: 1835.3986658\ttotal: 3.66s\tremaining: 22.5s\n",
      "14:\tlearn: 1805.1331420\ttotal: 3.92s\tremaining: 22.2s\n",
      "15:\tlearn: 1774.6769282\ttotal: 4.19s\tremaining: 22s\n",
      "16:\tlearn: 1752.8027884\ttotal: 4.45s\tremaining: 21.7s\n",
      "17:\tlearn: 1732.8518060\ttotal: 4.71s\tremaining: 21.5s\n",
      "18:\tlearn: 1711.1082691\ttotal: 4.96s\tremaining: 21.2s\n",
      "19:\tlearn: 1696.4763546\ttotal: 5.22s\tremaining: 20.9s\n",
      "20:\tlearn: 1680.2889556\ttotal: 5.49s\tremaining: 20.7s\n",
      "21:\tlearn: 1669.7903940\ttotal: 5.74s\tremaining: 20.4s\n",
      "22:\tlearn: 1660.8446519\ttotal: 6s\tremaining: 20.1s\n",
      "23:\tlearn: 1652.7464632\ttotal: 6.25s\tremaining: 19.8s\n",
      "24:\tlearn: 1644.2795104\ttotal: 6.51s\tremaining: 19.5s\n",
      "25:\tlearn: 1635.8121187\ttotal: 6.75s\tremaining: 19.2s\n",
      "26:\tlearn: 1629.6587141\ttotal: 7.01s\tremaining: 19s\n",
      "27:\tlearn: 1622.8954010\ttotal: 7.27s\tremaining: 18.7s\n",
      "28:\tlearn: 1617.6530822\ttotal: 7.53s\tremaining: 18.4s\n",
      "29:\tlearn: 1612.9707984\ttotal: 7.79s\tremaining: 18.2s\n",
      "30:\tlearn: 1606.1078186\ttotal: 8.07s\tremaining: 18s\n",
      "31:\tlearn: 1601.3766195\ttotal: 8.36s\tremaining: 17.8s\n",
      "32:\tlearn: 1596.8849267\ttotal: 8.62s\tremaining: 17.5s\n",
      "33:\tlearn: 1593.0118374\ttotal: 8.89s\tremaining: 17.3s\n",
      "34:\tlearn: 1589.4356714\ttotal: 9.14s\tremaining: 17s\n",
      "35:\tlearn: 1585.4998382\ttotal: 9.39s\tremaining: 16.7s\n",
      "36:\tlearn: 1582.1926648\ttotal: 9.65s\tremaining: 16.4s\n",
      "37:\tlearn: 1578.8964190\ttotal: 9.9s\tremaining: 16.2s\n",
      "38:\tlearn: 1574.6684248\ttotal: 10.2s\tremaining: 15.9s\n",
      "39:\tlearn: 1570.1653747\ttotal: 10.4s\tremaining: 15.6s\n",
      "40:\tlearn: 1566.1222596\ttotal: 10.7s\tremaining: 15.4s\n",
      "41:\tlearn: 1563.5224704\ttotal: 10.9s\tremaining: 15.1s\n",
      "42:\tlearn: 1560.4832167\ttotal: 11.2s\tremaining: 14.9s\n",
      "43:\tlearn: 1558.3174245\ttotal: 11.5s\tremaining: 14.6s\n",
      "44:\tlearn: 1554.4998522\ttotal: 11.7s\tremaining: 14.3s\n",
      "45:\tlearn: 1551.1008704\ttotal: 12s\tremaining: 14.1s\n",
      "46:\tlearn: 1547.7370332\ttotal: 12.3s\tremaining: 13.8s\n",
      "47:\tlearn: 1544.7740317\ttotal: 12.5s\tremaining: 13.6s\n",
      "48:\tlearn: 1542.4090857\ttotal: 12.8s\tremaining: 13.3s\n",
      "49:\tlearn: 1538.0081030\ttotal: 13.1s\tremaining: 13.1s\n",
      "50:\tlearn: 1534.3544080\ttotal: 13.3s\tremaining: 12.8s\n",
      "51:\tlearn: 1532.3335338\ttotal: 13.6s\tremaining: 12.6s\n",
      "52:\tlearn: 1529.5836354\ttotal: 13.9s\tremaining: 12.3s\n",
      "53:\tlearn: 1526.6490085\ttotal: 14.2s\tremaining: 12.1s\n",
      "54:\tlearn: 1525.2840357\ttotal: 14.4s\tremaining: 11.8s\n",
      "55:\tlearn: 1523.4559102\ttotal: 14.7s\tremaining: 11.5s\n",
      "56:\tlearn: 1520.2584847\ttotal: 14.9s\tremaining: 11.3s\n",
      "57:\tlearn: 1517.8794319\ttotal: 15.2s\tremaining: 11s\n",
      "58:\tlearn: 1515.6702292\ttotal: 15.4s\tremaining: 10.7s\n",
      "59:\tlearn: 1513.4870790\ttotal: 15.7s\tremaining: 10.5s\n",
      "60:\tlearn: 1510.5226671\ttotal: 16s\tremaining: 10.2s\n",
      "61:\tlearn: 1509.2144550\ttotal: 16.2s\tremaining: 9.95s\n",
      "62:\tlearn: 1507.0342601\ttotal: 16.5s\tremaining: 9.68s\n",
      "63:\tlearn: 1505.3566567\ttotal: 16.8s\tremaining: 9.43s\n",
      "64:\tlearn: 1503.8405664\ttotal: 17s\tremaining: 9.16s\n",
      "65:\tlearn: 1502.5078449\ttotal: 17.3s\tremaining: 8.9s\n",
      "66:\tlearn: 1500.3865803\ttotal: 17.6s\tremaining: 8.65s\n",
      "67:\tlearn: 1499.3311020\ttotal: 17.9s\tremaining: 8.41s\n",
      "68:\tlearn: 1497.5446992\ttotal: 18.3s\tremaining: 8.2s\n",
      "69:\tlearn: 1495.6186956\ttotal: 18.5s\tremaining: 7.93s\n",
      "70:\tlearn: 1493.9273063\ttotal: 18.8s\tremaining: 7.66s\n",
      "71:\tlearn: 1492.2941560\ttotal: 19s\tremaining: 7.4s\n",
      "72:\tlearn: 1490.5179232\ttotal: 19.3s\tremaining: 7.13s\n",
      "73:\tlearn: 1489.0597292\ttotal: 19.6s\tremaining: 6.87s\n",
      "74:\tlearn: 1487.8752286\ttotal: 19.8s\tremaining: 6.6s\n",
      "75:\tlearn: 1485.4552812\ttotal: 20.1s\tremaining: 6.34s\n",
      "76:\tlearn: 1482.9280038\ttotal: 20.3s\tremaining: 6.08s\n",
      "77:\tlearn: 1480.7236381\ttotal: 20.6s\tremaining: 5.81s\n",
      "78:\tlearn: 1478.1725174\ttotal: 20.9s\tremaining: 5.55s\n",
      "79:\tlearn: 1474.0591436\ttotal: 21.1s\tremaining: 5.29s\n",
      "80:\tlearn: 1472.6218274\ttotal: 21.4s\tremaining: 5.02s\n",
      "81:\tlearn: 1470.8253758\ttotal: 21.7s\tremaining: 4.76s\n",
      "82:\tlearn: 1468.4835795\ttotal: 21.9s\tremaining: 4.49s\n",
      "83:\tlearn: 1466.5498044\ttotal: 22.2s\tremaining: 4.23s\n",
      "84:\tlearn: 1464.3888909\ttotal: 22.5s\tremaining: 3.97s\n",
      "85:\tlearn: 1461.8371474\ttotal: 22.7s\tremaining: 3.7s\n",
      "86:\tlearn: 1458.5232813\ttotal: 23s\tremaining: 3.44s\n",
      "87:\tlearn: 1456.7895773\ttotal: 23.3s\tremaining: 3.17s\n",
      "88:\tlearn: 1455.2667080\ttotal: 23.5s\tremaining: 2.91s\n",
      "89:\tlearn: 1453.2482050\ttotal: 23.8s\tremaining: 2.65s\n",
      "90:\tlearn: 1452.0158022\ttotal: 24.1s\tremaining: 2.38s\n",
      "91:\tlearn: 1448.3238679\ttotal: 24.4s\tremaining: 2.12s\n",
      "92:\tlearn: 1446.6116693\ttotal: 24.6s\tremaining: 1.85s\n",
      "93:\tlearn: 1445.0226631\ttotal: 24.9s\tremaining: 1.59s\n",
      "94:\tlearn: 1443.4334144\ttotal: 25.1s\tremaining: 1.32s\n",
      "95:\tlearn: 1442.1352034\ttotal: 25.4s\tremaining: 1.06s\n",
      "96:\tlearn: 1440.1412634\ttotal: 25.6s\tremaining: 792ms\n",
      "97:\tlearn: 1438.0353300\ttotal: 25.9s\tremaining: 528ms\n",
      "98:\tlearn: 1436.7469620\ttotal: 26.1s\tremaining: 264ms\n",
      "99:\tlearn: 1434.8026828\ttotal: 26.4s\tremaining: 0us\n",
      "CPU times: user 2min 3s, sys: 23.8 s, total: 2min 27s\n",
      "Wall time: 2min 36s\n"
     ]
    },
    {
     "data": {
      "text/html": [
       "<style>#sk-container-id-1 {color: black;background-color: white;}#sk-container-id-1 pre{padding: 0;}#sk-container-id-1 div.sk-toggleable {background-color: white;}#sk-container-id-1 label.sk-toggleable__label {cursor: pointer;display: block;width: 100%;margin-bottom: 0;padding: 0.3em;box-sizing: border-box;text-align: center;}#sk-container-id-1 label.sk-toggleable__label-arrow:before {content: \"▸\";float: left;margin-right: 0.25em;color: #696969;}#sk-container-id-1 label.sk-toggleable__label-arrow:hover:before {color: black;}#sk-container-id-1 div.sk-estimator:hover label.sk-toggleable__label-arrow:before {color: black;}#sk-container-id-1 div.sk-toggleable__content {max-height: 0;max-width: 0;overflow: hidden;text-align: left;background-color: #f0f8ff;}#sk-container-id-1 div.sk-toggleable__content pre {margin: 0.2em;color: black;border-radius: 0.25em;background-color: #f0f8ff;}#sk-container-id-1 input.sk-toggleable__control:checked~div.sk-toggleable__content {max-height: 200px;max-width: 100%;overflow: auto;}#sk-container-id-1 input.sk-toggleable__control:checked~label.sk-toggleable__label-arrow:before {content: \"▾\";}#sk-container-id-1 div.sk-estimator input.sk-toggleable__control:checked~label.sk-toggleable__label {background-color: #d4ebff;}#sk-container-id-1 div.sk-label input.sk-toggleable__control:checked~label.sk-toggleable__label {background-color: #d4ebff;}#sk-container-id-1 input.sk-hidden--visually {border: 0;clip: rect(1px 1px 1px 1px);clip: rect(1px, 1px, 1px, 1px);height: 1px;margin: -1px;overflow: hidden;padding: 0;position: absolute;width: 1px;}#sk-container-id-1 div.sk-estimator {font-family: monospace;background-color: #f0f8ff;border: 1px dotted black;border-radius: 0.25em;box-sizing: border-box;margin-bottom: 0.5em;}#sk-container-id-1 div.sk-estimator:hover {background-color: #d4ebff;}#sk-container-id-1 div.sk-parallel-item::after {content: \"\";width: 100%;border-bottom: 1px solid gray;flex-grow: 1;}#sk-container-id-1 div.sk-label:hover label.sk-toggleable__label {background-color: #d4ebff;}#sk-container-id-1 div.sk-serial::before {content: \"\";position: absolute;border-left: 1px solid gray;box-sizing: border-box;top: 0;bottom: 0;left: 50%;z-index: 0;}#sk-container-id-1 div.sk-serial {display: flex;flex-direction: column;align-items: center;background-color: white;padding-right: 0.2em;padding-left: 0.2em;position: relative;}#sk-container-id-1 div.sk-item {position: relative;z-index: 1;}#sk-container-id-1 div.sk-parallel {display: flex;align-items: stretch;justify-content: center;background-color: white;position: relative;}#sk-container-id-1 div.sk-item::before, #sk-container-id-1 div.sk-parallel-item::before {content: \"\";position: absolute;border-left: 1px solid gray;box-sizing: border-box;top: 0;bottom: 0;left: 50%;z-index: -1;}#sk-container-id-1 div.sk-parallel-item {display: flex;flex-direction: column;z-index: 1;position: relative;background-color: white;}#sk-container-id-1 div.sk-parallel-item:first-child::after {align-self: flex-end;width: 50%;}#sk-container-id-1 div.sk-parallel-item:last-child::after {align-self: flex-start;width: 50%;}#sk-container-id-1 div.sk-parallel-item:only-child::after {width: 0;}#sk-container-id-1 div.sk-dashed-wrapped {border: 1px dashed gray;margin: 0 0.4em 0.5em 0.4em;box-sizing: border-box;padding-bottom: 0.4em;background-color: white;}#sk-container-id-1 div.sk-label label {font-family: monospace;font-weight: bold;display: inline-block;line-height: 1.2em;}#sk-container-id-1 div.sk-label-container {text-align: center;}#sk-container-id-1 div.sk-container {/* jupyter's `normalize.less` sets `[hidden] { display: none; }` but bootstrap.min.css set `[hidden] { display: none !important; }` so we also need the `!important` here to be able to override the default hidden behavior on the sphinx rendered scikit-learn.org. See: https://github.com/scikit-learn/scikit-learn/issues/21755 */display: inline-block !important;position: relative;}#sk-container-id-1 div.sk-text-repr-fallback {display: none;}</style><div id=\"sk-container-id-1\" class=\"sk-top-container\"><div class=\"sk-text-repr-fallback\"><pre>GridSearchCV(cv=3, error_score=&#x27;raise&#x27;,\n",
       "             estimator=Pipeline(steps=[(&#x27;columntransformer&#x27;,\n",
       "                                        ColumnTransformer(remainder=&#x27;passthrough&#x27;,\n",
       "                                                          transformers=[(&#x27;onehotencoder&#x27;,\n",
       "                                                                         OneHotEncoder(drop=&#x27;first&#x27;),\n",
       "                                                                         [&#x27;VehicleType&#x27;,\n",
       "                                                                          &#x27;Gearbox&#x27;,\n",
       "                                                                          &#x27;FuelType&#x27;,\n",
       "                                                                          &#x27;Brand&#x27;,\n",
       "                                                                          &#x27;Repaired&#x27;]),\n",
       "                                                                        (&#x27;ordinalencoder&#x27;,\n",
       "                                                                         OrdinalEncoder(handle_unknown=&#x27;use_encoded_value&#x27;,\n",
       "                                                                                        unknown_value=-1),\n",
       "                                                                         [&#x27;Model&#x27;]),\n",
       "                                                                        (&#x27;standard...er&#x27;,\n",
       "                                                                         StandardScaler(),\n",
       "                                                                         [&#x27;RegistrationYear&#x27;,\n",
       "                                                                          &#x27;Power&#x27;,\n",
       "                                                                          &#x27;Kilometer&#x27;,\n",
       "                                                                          &#x27;RegistrationMonth&#x27;])])),\n",
       "                                       (&#x27;catboostregressor&#x27;,\n",
       "                                        &lt;catboost.core.CatBoostRegressor object at 0x7f387782dc70&gt;)]),\n",
       "             param_grid={&#x27;catboostregressor__depth&#x27;: range(8, 16, 2),\n",
       "                         &#x27;catboostregressor__iterations&#x27;: [100],\n",
       "                         &#x27;catboostregressor__learning_rate&#x27;: [0.15]},\n",
       "             scoring=make_scorer(RMSE, greater_is_better=False))</pre><b>In a Jupyter environment, please rerun this cell to show the HTML representation or trust the notebook. <br />On GitHub, the HTML representation is unable to render, please try loading this page with nbviewer.org.</b></div><div class=\"sk-container\" hidden><div class=\"sk-item sk-dashed-wrapped\"><div class=\"sk-label-container\"><div class=\"sk-label sk-toggleable\"><input class=\"sk-toggleable__control sk-hidden--visually\" id=\"sk-estimator-id-1\" type=\"checkbox\" ><label for=\"sk-estimator-id-1\" class=\"sk-toggleable__label sk-toggleable__label-arrow\">GridSearchCV</label><div class=\"sk-toggleable__content\"><pre>GridSearchCV(cv=3, error_score=&#x27;raise&#x27;,\n",
       "             estimator=Pipeline(steps=[(&#x27;columntransformer&#x27;,\n",
       "                                        ColumnTransformer(remainder=&#x27;passthrough&#x27;,\n",
       "                                                          transformers=[(&#x27;onehotencoder&#x27;,\n",
       "                                                                         OneHotEncoder(drop=&#x27;first&#x27;),\n",
       "                                                                         [&#x27;VehicleType&#x27;,\n",
       "                                                                          &#x27;Gearbox&#x27;,\n",
       "                                                                          &#x27;FuelType&#x27;,\n",
       "                                                                          &#x27;Brand&#x27;,\n",
       "                                                                          &#x27;Repaired&#x27;]),\n",
       "                                                                        (&#x27;ordinalencoder&#x27;,\n",
       "                                                                         OrdinalEncoder(handle_unknown=&#x27;use_encoded_value&#x27;,\n",
       "                                                                                        unknown_value=-1),\n",
       "                                                                         [&#x27;Model&#x27;]),\n",
       "                                                                        (&#x27;standard...er&#x27;,\n",
       "                                                                         StandardScaler(),\n",
       "                                                                         [&#x27;RegistrationYear&#x27;,\n",
       "                                                                          &#x27;Power&#x27;,\n",
       "                                                                          &#x27;Kilometer&#x27;,\n",
       "                                                                          &#x27;RegistrationMonth&#x27;])])),\n",
       "                                       (&#x27;catboostregressor&#x27;,\n",
       "                                        &lt;catboost.core.CatBoostRegressor object at 0x7f387782dc70&gt;)]),\n",
       "             param_grid={&#x27;catboostregressor__depth&#x27;: range(8, 16, 2),\n",
       "                         &#x27;catboostregressor__iterations&#x27;: [100],\n",
       "                         &#x27;catboostregressor__learning_rate&#x27;: [0.15]},\n",
       "             scoring=make_scorer(RMSE, greater_is_better=False))</pre></div></div></div><div class=\"sk-parallel\"><div class=\"sk-parallel-item\"><div class=\"sk-item\"><div class=\"sk-label-container\"><div class=\"sk-label sk-toggleable\"><input class=\"sk-toggleable__control sk-hidden--visually\" id=\"sk-estimator-id-2\" type=\"checkbox\" ><label for=\"sk-estimator-id-2\" class=\"sk-toggleable__label sk-toggleable__label-arrow\">estimator: Pipeline</label><div class=\"sk-toggleable__content\"><pre>Pipeline(steps=[(&#x27;columntransformer&#x27;,\n",
       "                 ColumnTransformer(remainder=&#x27;passthrough&#x27;,\n",
       "                                   transformers=[(&#x27;onehotencoder&#x27;,\n",
       "                                                  OneHotEncoder(drop=&#x27;first&#x27;),\n",
       "                                                  [&#x27;VehicleType&#x27;, &#x27;Gearbox&#x27;,\n",
       "                                                   &#x27;FuelType&#x27;, &#x27;Brand&#x27;,\n",
       "                                                   &#x27;Repaired&#x27;]),\n",
       "                                                 (&#x27;ordinalencoder&#x27;,\n",
       "                                                  OrdinalEncoder(handle_unknown=&#x27;use_encoded_value&#x27;,\n",
       "                                                                 unknown_value=-1),\n",
       "                                                  [&#x27;Model&#x27;]),\n",
       "                                                 (&#x27;standardscaler&#x27;,\n",
       "                                                  StandardScaler(),\n",
       "                                                  [&#x27;RegistrationYear&#x27;, &#x27;Power&#x27;,\n",
       "                                                   &#x27;Kilometer&#x27;,\n",
       "                                                   &#x27;RegistrationMonth&#x27;])])),\n",
       "                (&#x27;catboostregressor&#x27;,\n",
       "                 &lt;catboost.core.CatBoostRegressor object at 0x7f387782dc70&gt;)])</pre></div></div></div><div class=\"sk-serial\"><div class=\"sk-item\"><div class=\"sk-serial\"><div class=\"sk-item sk-dashed-wrapped\"><div class=\"sk-label-container\"><div class=\"sk-label sk-toggleable\"><input class=\"sk-toggleable__control sk-hidden--visually\" id=\"sk-estimator-id-3\" type=\"checkbox\" ><label for=\"sk-estimator-id-3\" class=\"sk-toggleable__label sk-toggleable__label-arrow\">columntransformer: ColumnTransformer</label><div class=\"sk-toggleable__content\"><pre>ColumnTransformer(remainder=&#x27;passthrough&#x27;,\n",
       "                  transformers=[(&#x27;onehotencoder&#x27;, OneHotEncoder(drop=&#x27;first&#x27;),\n",
       "                                 [&#x27;VehicleType&#x27;, &#x27;Gearbox&#x27;, &#x27;FuelType&#x27;, &#x27;Brand&#x27;,\n",
       "                                  &#x27;Repaired&#x27;]),\n",
       "                                (&#x27;ordinalencoder&#x27;,\n",
       "                                 OrdinalEncoder(handle_unknown=&#x27;use_encoded_value&#x27;,\n",
       "                                                unknown_value=-1),\n",
       "                                 [&#x27;Model&#x27;]),\n",
       "                                (&#x27;standardscaler&#x27;, StandardScaler(),\n",
       "                                 [&#x27;RegistrationYear&#x27;, &#x27;Power&#x27;, &#x27;Kilometer&#x27;,\n",
       "                                  &#x27;RegistrationMonth&#x27;])])</pre></div></div></div><div class=\"sk-parallel\"><div class=\"sk-parallel-item\"><div class=\"sk-item\"><div class=\"sk-label-container\"><div class=\"sk-label sk-toggleable\"><input class=\"sk-toggleable__control sk-hidden--visually\" id=\"sk-estimator-id-4\" type=\"checkbox\" ><label for=\"sk-estimator-id-4\" class=\"sk-toggleable__label sk-toggleable__label-arrow\">onehotencoder</label><div class=\"sk-toggleable__content\"><pre>[&#x27;VehicleType&#x27;, &#x27;Gearbox&#x27;, &#x27;FuelType&#x27;, &#x27;Brand&#x27;, &#x27;Repaired&#x27;]</pre></div></div></div><div class=\"sk-serial\"><div class=\"sk-item\"><div class=\"sk-estimator sk-toggleable\"><input class=\"sk-toggleable__control sk-hidden--visually\" id=\"sk-estimator-id-5\" type=\"checkbox\" ><label for=\"sk-estimator-id-5\" class=\"sk-toggleable__label sk-toggleable__label-arrow\">OneHotEncoder</label><div class=\"sk-toggleable__content\"><pre>OneHotEncoder(drop=&#x27;first&#x27;)</pre></div></div></div></div></div></div><div class=\"sk-parallel-item\"><div class=\"sk-item\"><div class=\"sk-label-container\"><div class=\"sk-label sk-toggleable\"><input class=\"sk-toggleable__control sk-hidden--visually\" id=\"sk-estimator-id-6\" type=\"checkbox\" ><label for=\"sk-estimator-id-6\" class=\"sk-toggleable__label sk-toggleable__label-arrow\">ordinalencoder</label><div class=\"sk-toggleable__content\"><pre>[&#x27;Model&#x27;]</pre></div></div></div><div class=\"sk-serial\"><div class=\"sk-item\"><div class=\"sk-estimator sk-toggleable\"><input class=\"sk-toggleable__control sk-hidden--visually\" id=\"sk-estimator-id-7\" type=\"checkbox\" ><label for=\"sk-estimator-id-7\" class=\"sk-toggleable__label sk-toggleable__label-arrow\">OrdinalEncoder</label><div class=\"sk-toggleable__content\"><pre>OrdinalEncoder(handle_unknown=&#x27;use_encoded_value&#x27;, unknown_value=-1)</pre></div></div></div></div></div></div><div class=\"sk-parallel-item\"><div class=\"sk-item\"><div class=\"sk-label-container\"><div class=\"sk-label sk-toggleable\"><input class=\"sk-toggleable__control sk-hidden--visually\" id=\"sk-estimator-id-8\" type=\"checkbox\" ><label for=\"sk-estimator-id-8\" class=\"sk-toggleable__label sk-toggleable__label-arrow\">standardscaler</label><div class=\"sk-toggleable__content\"><pre>[&#x27;RegistrationYear&#x27;, &#x27;Power&#x27;, &#x27;Kilometer&#x27;, &#x27;RegistrationMonth&#x27;]</pre></div></div></div><div class=\"sk-serial\"><div class=\"sk-item\"><div class=\"sk-estimator sk-toggleable\"><input class=\"sk-toggleable__control sk-hidden--visually\" id=\"sk-estimator-id-9\" type=\"checkbox\" ><label for=\"sk-estimator-id-9\" class=\"sk-toggleable__label sk-toggleable__label-arrow\">StandardScaler</label><div class=\"sk-toggleable__content\"><pre>StandardScaler()</pre></div></div></div></div></div></div><div class=\"sk-parallel-item\"><div class=\"sk-item\"><div class=\"sk-label-container\"><div class=\"sk-label sk-toggleable\"><input class=\"sk-toggleable__control sk-hidden--visually\" id=\"sk-estimator-id-10\" type=\"checkbox\" ><label for=\"sk-estimator-id-10\" class=\"sk-toggleable__label sk-toggleable__label-arrow\">remainder</label><div class=\"sk-toggleable__content\"><pre></pre></div></div></div><div class=\"sk-serial\"><div class=\"sk-item\"><div class=\"sk-estimator sk-toggleable\"><input class=\"sk-toggleable__control sk-hidden--visually\" id=\"sk-estimator-id-11\" type=\"checkbox\" ><label for=\"sk-estimator-id-11\" class=\"sk-toggleable__label sk-toggleable__label-arrow\">passthrough</label><div class=\"sk-toggleable__content\"><pre>passthrough</pre></div></div></div></div></div></div></div></div><div class=\"sk-item\"><div class=\"sk-estimator sk-toggleable\"><input class=\"sk-toggleable__control sk-hidden--visually\" id=\"sk-estimator-id-12\" type=\"checkbox\" ><label for=\"sk-estimator-id-12\" class=\"sk-toggleable__label sk-toggleable__label-arrow\">CatBoostRegressor</label><div class=\"sk-toggleable__content\"><pre>&lt;catboost.core.CatBoostRegressor object at 0x7f387782dc70&gt;</pre></div></div></div></div></div></div></div></div></div></div></div></div>"
      ],
      "text/plain": [
       "GridSearchCV(cv=3, error_score='raise',\n",
       "             estimator=Pipeline(steps=[('columntransformer',\n",
       "                                        ColumnTransformer(remainder='passthrough',\n",
       "                                                          transformers=[('onehotencoder',\n",
       "                                                                         OneHotEncoder(drop='first'),\n",
       "                                                                         ['VehicleType',\n",
       "                                                                          'Gearbox',\n",
       "                                                                          'FuelType',\n",
       "                                                                          'Brand',\n",
       "                                                                          'Repaired']),\n",
       "                                                                        ('ordinalencoder',\n",
       "                                                                         OrdinalEncoder(handle_unknown='use_encoded_value',\n",
       "                                                                                        unknown_value=-1),\n",
       "                                                                         ['Model']),\n",
       "                                                                        ('standard...er',\n",
       "                                                                         StandardScaler(),\n",
       "                                                                         ['RegistrationYear',\n",
       "                                                                          'Power',\n",
       "                                                                          'Kilometer',\n",
       "                                                                          'RegistrationMonth'])])),\n",
       "                                       ('catboostregressor',\n",
       "                                        <catboost.core.CatBoostRegressor object at 0x7f387782dc70>)]),\n",
       "             param_grid={'catboostregressor__depth': range(8, 16, 2),\n",
       "                         'catboostregressor__iterations': [100],\n",
       "                         'catboostregressor__learning_rate': [0.15]},\n",
       "             scoring=make_scorer(RMSE, greater_is_better=False))"
      ]
     },
     "execution_count": 36,
     "metadata": {},
     "output_type": "execute_result"
    }
   ],
   "source": [
    "%%time\n",
    "model3 = CatBoostRegressor()\n",
    "pipline_cat = make_pipeline(col_transformer_rf, model3)\n",
    "\n",
    "model3_parametrs = {\"catboostregressor__iterations\": [100],\n",
    "               \"catboostregressor__depth\": range(8, 16, 2),\n",
    "               \"catboostregressor__learning_rate\" : [0.15]\n",
    "            }\n",
    "\n",
    "model3_grid = GridSearchCV(pipline_cat, model3_parametrs, scoring=RMSE_score, cv=3, error_score='raise')\n",
    "model3_grid.fit(features_train, target_train)"
   ]
  },
  {
   "cell_type": "code",
   "execution_count": 38,
   "metadata": {},
   "outputs": [
    {
     "data": {
      "text/plain": [
       "(-1577.0950656736616,\n",
       " {'iterations': 100,\n",
       "  'learning_rate': 0.15,\n",
       "  'depth': 14,\n",
       "  'loss_function': 'RMSE'})"
      ]
     },
     "execution_count": 38,
     "metadata": {},
     "output_type": "execute_result"
    }
   ],
   "source": [
    "model3_grid.best_score_ , model3_grid.best_estimator_[1].get_params()"
   ]
  },
  {
   "cell_type": "code",
   "execution_count": 220,
   "metadata": {},
   "outputs": [
    {
     "name": "stdout",
     "output_type": "stream",
     "text": [
      "0:\tlearn: 4129.2007189\ttotal: 24.4ms\tremaining: 2.42s\n",
      "10:\tlearn: 2186.1718528\ttotal: 265ms\tremaining: 2.14s\n",
      "20:\tlearn: 1868.9575447\ttotal: 518ms\tremaining: 1.95s\n",
      "30:\tlearn: 1777.6777593\ttotal: 740ms\tremaining: 1.65s\n",
      "40:\tlearn: 1729.0620834\ttotal: 972ms\tremaining: 1.4s\n",
      "50:\tlearn: 1688.7631092\ttotal: 1.2s\tremaining: 1.16s\n",
      "60:\tlearn: 1661.4385070\ttotal: 1.44s\tremaining: 919ms\n",
      "70:\tlearn: 1641.0960415\ttotal: 1.67s\tremaining: 683ms\n",
      "80:\tlearn: 1626.2290817\ttotal: 1.89s\tremaining: 443ms\n",
      "90:\tlearn: 1609.4366237\ttotal: 2.1s\tremaining: 208ms\n",
      "99:\tlearn: 1596.0549814\ttotal: 2.29s\tremaining: 0us\n",
      "0:\tlearn: 4139.4395421\ttotal: 26.1ms\tremaining: 2.58s\n",
      "10:\tlearn: 2196.0836937\ttotal: 253ms\tremaining: 2.05s\n",
      "20:\tlearn: 1874.2988273\ttotal: 463ms\tremaining: 1.74s\n",
      "30:\tlearn: 1779.2311584\ttotal: 674ms\tremaining: 1.5s\n",
      "40:\tlearn: 1726.0145712\ttotal: 891ms\tremaining: 1.28s\n",
      "50:\tlearn: 1688.8797833\ttotal: 1.1s\tremaining: 1.06s\n",
      "60:\tlearn: 1663.6192876\ttotal: 1.34s\tremaining: 859ms\n",
      "70:\tlearn: 1643.4906870\ttotal: 1.55s\tremaining: 633ms\n",
      "80:\tlearn: 1624.5796412\ttotal: 1.77s\tremaining: 415ms\n",
      "90:\tlearn: 1610.7977487\ttotal: 1.99s\tremaining: 196ms\n",
      "99:\tlearn: 1595.0744319\ttotal: 2.18s\tremaining: 0us\n",
      "0:\tlearn: 4136.2361987\ttotal: 20.8ms\tremaining: 2.06s\n",
      "10:\tlearn: 2210.3744696\ttotal: 236ms\tremaining: 1.91s\n",
      "20:\tlearn: 1883.2011077\ttotal: 459ms\tremaining: 1.73s\n",
      "30:\tlearn: 1788.2722447\ttotal: 680ms\tremaining: 1.51s\n",
      "40:\tlearn: 1732.9902805\ttotal: 893ms\tremaining: 1.28s\n",
      "50:\tlearn: 1696.0311687\ttotal: 1.1s\tremaining: 1.06s\n",
      "60:\tlearn: 1670.4558627\ttotal: 1.31s\tremaining: 838ms\n",
      "70:\tlearn: 1651.9376270\ttotal: 1.51s\tremaining: 618ms\n",
      "80:\tlearn: 1632.8619363\ttotal: 1.72s\tremaining: 405ms\n",
      "90:\tlearn: 1617.4525153\ttotal: 1.93s\tremaining: 191ms\n",
      "99:\tlearn: 1604.9600918\ttotal: 2.13s\tremaining: 0us\n",
      "0:\tlearn: 4116.6588230\ttotal: 34.2ms\tremaining: 3.39s\n",
      "10:\tlearn: 2108.0041935\ttotal: 390ms\tremaining: 3.16s\n",
      "20:\tlearn: 1800.2156900\ttotal: 740ms\tremaining: 2.78s\n",
      "30:\tlearn: 1705.7830180\ttotal: 1.09s\tremaining: 2.43s\n",
      "40:\tlearn: 1658.9948065\ttotal: 1.47s\tremaining: 2.12s\n",
      "50:\tlearn: 1627.2759657\ttotal: 1.84s\tremaining: 1.77s\n",
      "60:\tlearn: 1601.7726202\ttotal: 2.22s\tremaining: 1.42s\n",
      "70:\tlearn: 1581.5071105\ttotal: 2.58s\tremaining: 1.05s\n",
      "80:\tlearn: 1561.8525688\ttotal: 2.93s\tremaining: 687ms\n",
      "90:\tlearn: 1543.7030750\ttotal: 3.28s\tremaining: 325ms\n",
      "99:\tlearn: 1529.6814093\ttotal: 3.62s\tremaining: 0us\n",
      "0:\tlearn: 4128.5615302\ttotal: 35.7ms\tremaining: 3.54s\n",
      "10:\tlearn: 2101.3462376\ttotal: 383ms\tremaining: 3.1s\n",
      "20:\tlearn: 1793.2296167\ttotal: 726ms\tremaining: 2.73s\n",
      "30:\tlearn: 1708.2122644\ttotal: 1.07s\tremaining: 2.39s\n",
      "40:\tlearn: 1660.2610979\ttotal: 1.46s\tremaining: 2.1s\n",
      "50:\tlearn: 1628.5279240\ttotal: 1.83s\tremaining: 1.75s\n",
      "60:\tlearn: 1604.3110845\ttotal: 2.18s\tremaining: 1.4s\n",
      "70:\tlearn: 1582.9614726\ttotal: 2.56s\tremaining: 1.04s\n",
      "80:\tlearn: 1562.1385130\ttotal: 2.92s\tremaining: 686ms\n",
      "90:\tlearn: 1546.2239933\ttotal: 3.28s\tremaining: 325ms\n",
      "99:\tlearn: 1530.6416534\ttotal: 3.63s\tremaining: 0us\n",
      "0:\tlearn: 4124.9268316\ttotal: 35.7ms\tremaining: 3.53s\n",
      "10:\tlearn: 2113.4819735\ttotal: 396ms\tremaining: 3.2s\n",
      "20:\tlearn: 1796.4413843\ttotal: 764ms\tremaining: 2.88s\n",
      "30:\tlearn: 1708.9403430\ttotal: 1.11s\tremaining: 2.48s\n",
      "40:\tlearn: 1660.6950540\ttotal: 1.46s\tremaining: 2.1s\n",
      "50:\tlearn: 1623.6756127\ttotal: 1.81s\tremaining: 1.74s\n",
      "60:\tlearn: 1601.4259469\ttotal: 2.17s\tremaining: 1.39s\n",
      "70:\tlearn: 1579.0331120\ttotal: 2.53s\tremaining: 1.03s\n",
      "80:\tlearn: 1561.8258987\ttotal: 2.92s\tremaining: 685ms\n",
      "90:\tlearn: 1544.5305556\ttotal: 3.33s\tremaining: 329ms\n",
      "99:\tlearn: 1532.2056168\ttotal: 3.68s\tremaining: 0us\n",
      "0:\tlearn: 4113.4221394\ttotal: 67.7ms\tremaining: 6.7s\n",
      "10:\tlearn: 2031.3920714\ttotal: 757ms\tremaining: 6.12s\n",
      "20:\tlearn: 1730.1444437\ttotal: 1.43s\tremaining: 5.37s\n",
      "30:\tlearn: 1645.1019802\ttotal: 2.11s\tremaining: 4.69s\n",
      "40:\tlearn: 1594.8406408\ttotal: 2.81s\tremaining: 4.05s\n",
      "50:\tlearn: 1561.9717874\ttotal: 3.5s\tremaining: 3.36s\n",
      "60:\tlearn: 1531.4883318\ttotal: 4.2s\tremaining: 2.68s\n",
      "70:\tlearn: 1507.2898775\ttotal: 4.92s\tremaining: 2.01s\n",
      "80:\tlearn: 1490.0932044\ttotal: 5.61s\tremaining: 1.31s\n",
      "90:\tlearn: 1471.5031872\ttotal: 6.3s\tremaining: 624ms\n",
      "99:\tlearn: 1454.5325836\ttotal: 6.93s\tremaining: 0us\n",
      "0:\tlearn: 4116.9000341\ttotal: 69ms\tremaining: 6.83s\n",
      "10:\tlearn: 2041.7481652\ttotal: 742ms\tremaining: 6s\n",
      "20:\tlearn: 1736.8436861\ttotal: 1.47s\tremaining: 5.54s\n",
      "30:\tlearn: 1651.6240118\ttotal: 2.17s\tremaining: 4.84s\n",
      "40:\tlearn: 1603.0024170\ttotal: 2.93s\tremaining: 4.22s\n",
      "50:\tlearn: 1567.7618411\ttotal: 3.68s\tremaining: 3.53s\n",
      "60:\tlearn: 1539.4475075\ttotal: 4.45s\tremaining: 2.84s\n",
      "70:\tlearn: 1512.2543540\ttotal: 5.23s\tremaining: 2.14s\n",
      "80:\tlearn: 1490.5869137\ttotal: 5.98s\tremaining: 1.4s\n",
      "90:\tlearn: 1470.6381846\ttotal: 6.73s\tremaining: 666ms\n",
      "99:\tlearn: 1451.3272760\ttotal: 7.43s\tremaining: 0us\n",
      "0:\tlearn: 4114.2083834\ttotal: 71ms\tremaining: 7.03s\n",
      "10:\tlearn: 2044.8644024\ttotal: 819ms\tremaining: 6.63s\n",
      "20:\tlearn: 1741.5830098\ttotal: 1.54s\tremaining: 5.79s\n",
      "30:\tlearn: 1649.5753354\ttotal: 2.2s\tremaining: 4.89s\n",
      "40:\tlearn: 1602.5327543\ttotal: 2.89s\tremaining: 4.16s\n",
      "50:\tlearn: 1571.0675981\ttotal: 3.62s\tremaining: 3.47s\n",
      "60:\tlearn: 1543.1002827\ttotal: 4.32s\tremaining: 2.76s\n",
      "70:\tlearn: 1518.2068123\ttotal: 5s\tremaining: 2.04s\n",
      "80:\tlearn: 1498.4299837\ttotal: 5.7s\tremaining: 1.34s\n",
      "90:\tlearn: 1478.3044476\ttotal: 6.39s\tremaining: 632ms\n",
      "99:\tlearn: 1460.3183949\ttotal: 7.01s\tremaining: 0us\n",
      "0:\tlearn: 4104.7271924\ttotal: 262ms\tremaining: 25.9s\n",
      "10:\tlearn: 1991.7567252\ttotal: 2.86s\tremaining: 23.1s\n",
      "20:\tlearn: 1668.3183039\ttotal: 5.46s\tremaining: 20.5s\n",
      "30:\tlearn: 1579.2940381\ttotal: 7.99s\tremaining: 17.8s\n",
      "40:\tlearn: 1530.4809219\ttotal: 10.5s\tremaining: 15.2s\n",
      "50:\tlearn: 1493.6033278\ttotal: 13.1s\tremaining: 12.6s\n",
      "60:\tlearn: 1463.7367123\ttotal: 15.8s\tremaining: 10.1s\n",
      "70:\tlearn: 1437.2501084\ttotal: 18.4s\tremaining: 7.53s\n",
      "80:\tlearn: 1409.2998108\ttotal: 21s\tremaining: 4.92s\n",
      "90:\tlearn: 1382.5759748\ttotal: 23.5s\tremaining: 2.33s\n",
      "99:\tlearn: 1364.0652646\ttotal: 25.9s\tremaining: 0us\n",
      "0:\tlearn: 4108.5337244\ttotal: 259ms\tremaining: 25.7s\n",
      "10:\tlearn: 1983.6281772\ttotal: 2.83s\tremaining: 22.9s\n",
      "20:\tlearn: 1663.7506050\ttotal: 5.34s\tremaining: 20.1s\n",
      "30:\tlearn: 1572.6353927\ttotal: 7.9s\tremaining: 17.6s\n",
      "40:\tlearn: 1528.3475871\ttotal: 10.5s\tremaining: 15.2s\n",
      "50:\tlearn: 1489.4737810\ttotal: 13.1s\tremaining: 12.6s\n",
      "60:\tlearn: 1463.2272506\ttotal: 15.4s\tremaining: 9.84s\n",
      "70:\tlearn: 1436.0170613\ttotal: 17.9s\tremaining: 7.33s\n",
      "80:\tlearn: 1411.9061504\ttotal: 20.6s\tremaining: 4.83s\n",
      "90:\tlearn: 1388.3298896\ttotal: 23.3s\tremaining: 2.31s\n",
      "99:\tlearn: 1367.8484854\ttotal: 25.8s\tremaining: 0us\n",
      "0:\tlearn: 4106.1864264\ttotal: 276ms\tremaining: 27.4s\n",
      "10:\tlearn: 1990.2703794\ttotal: 2.81s\tremaining: 22.7s\n",
      "20:\tlearn: 1665.4180676\ttotal: 5.3s\tremaining: 19.9s\n",
      "30:\tlearn: 1578.9752277\ttotal: 7.8s\tremaining: 17.4s\n",
      "40:\tlearn: 1531.3669461\ttotal: 10.4s\tremaining: 14.9s\n",
      "50:\tlearn: 1498.3704425\ttotal: 13s\tremaining: 12.5s\n",
      "60:\tlearn: 1470.1132636\ttotal: 15.5s\tremaining: 9.89s\n",
      "70:\tlearn: 1441.7074868\ttotal: 18s\tremaining: 7.35s\n",
      "80:\tlearn: 1414.8452664\ttotal: 20.6s\tremaining: 4.83s\n",
      "90:\tlearn: 1391.5347186\ttotal: 23.4s\tremaining: 2.31s\n",
      "99:\tlearn: 1374.6532936\ttotal: 25.6s\tremaining: 0us\n",
      "0:\tlearn: 4099.8233303\ttotal: 276ms\tremaining: 27.3s\n",
      "10:\tlearn: 1970.0480552\ttotal: 2.98s\tremaining: 24.1s\n",
      "20:\tlearn: 1661.1898498\ttotal: 5.72s\tremaining: 21.5s\n",
      "30:\tlearn: 1585.5615758\ttotal: 8.41s\tremaining: 18.7s\n",
      "40:\tlearn: 1544.0870730\ttotal: 11.1s\tremaining: 16s\n",
      "50:\tlearn: 1511.1124757\ttotal: 13.8s\tremaining: 13.3s\n",
      "60:\tlearn: 1484.5429979\ttotal: 16.6s\tremaining: 10.6s\n",
      "70:\tlearn: 1461.1640220\ttotal: 19.4s\tremaining: 7.91s\n",
      "80:\tlearn: 1440.4035079\ttotal: 22.1s\tremaining: 5.18s\n",
      "90:\tlearn: 1418.6694851\ttotal: 24.8s\tremaining: 2.46s\n",
      "99:\tlearn: 1401.1852840\ttotal: 27.5s\tremaining: 0us\n",
      "CPU times: user 1min 56s, sys: 29.3 s, total: 2min 25s\n",
      "Wall time: 2min 33s\n"
     ]
    },
    {
     "data": {
      "text/plain": [
       "GridSearchCV(cv=3,\n",
       "             estimator=<catboost.core.CatBoostRegressor object at 0x7f7ead4af850>,\n",
       "             param_grid={'depth': range(8, 16, 2), 'iterations': [100],\n",
       "                         'learning_rate': [0.15]},\n",
       "             scoring=make_scorer(RMSE, greater_is_better=False))"
      ]
     },
     "execution_count": 220,
     "metadata": {},
     "output_type": "execute_result"
    }
   ],
   "source": [
    "%%time\n",
    "\n",
    "model3 = CatBoostRegressor()\n",
    "\n",
    "\n",
    "model3_parametrs = {\"iterations\": [100],\n",
    "                \"depth\": range(8, 16, 2),\n",
    "                \"learning_rate\" : [0.15]\n",
    "             }\n",
    "\n",
    "model3_grid = GridSearchCV(model3, model3_parametrs, scoring=RMSE_score, cv=3)\n",
    "\n",
    "model3_grid.fit(features_train_oe, target_train_oe, verbose=10)"
   ]
  },
  {
   "cell_type": "code",
   "execution_count": 202,
   "metadata": {
    "scrolled": true
   },
   "outputs": [
    {
     "name": "stdout",
     "output_type": "stream",
     "text": [
      "{'depth': 14, 'iterations': 100, 'learning_rate': 0.15}\n",
      "1582.8612625487083\n",
      "CPU times: user 0 ns, sys: 533 µs, total: 533 µs\n",
      "Wall time: 437 µs\n"
     ]
    }
   ],
   "source": [
    "%%time\n",
    "\n",
    "model3_params = model3_grid.best_params_\n",
    "#model3_score = model3_grid.score(features_train_oe, target_train_oe) * (-1)\n",
    "\n",
    "model3_score = model3_grid.best_score_ * (-1)\n",
    "\n",
    "print(model3_params)\n",
    "print(model3_score)\n"
   ]
  },
  {
   "cell_type": "code",
   "execution_count": 203,
   "metadata": {},
   "outputs": [
    {
     "name": "stdout",
     "output_type": "stream",
     "text": [
      "CPU times: user 51.2 ms, sys: 0 ns, total: 51.2 ms\n",
      "Wall time: 60.4 ms\n"
     ]
    }
   ],
   "source": [
    "%%time\n",
    "start = time.time()\n",
    "\n",
    "model3_predict = model3_grid.predict(features_test_oe)\n",
    "\n",
    "end = time.time()\n",
    "time_model3_predict = end - start"
   ]
  },
  {
   "cell_type": "code",
   "execution_count": 204,
   "metadata": {},
   "outputs": [
    {
     "data": {
      "text/plain": [
       "1536.3615413953962"
      ]
     },
     "execution_count": 204,
     "metadata": {},
     "output_type": "execute_result"
    }
   ],
   "source": [
    "RMSE(target_test_oe, model3_predict)"
   ]
  },
  {
   "cell_type": "markdown",
   "metadata": {},
   "source": [
    "### LGBMRegressor"
   ]
  },
  {
   "cell_type": "code",
   "execution_count": 205,
   "metadata": {},
   "outputs": [
    {
     "name": "stdout",
     "output_type": "stream",
     "text": [
      "CPU times: user 2min 56s, sys: 87.3 ms, total: 2min 56s\n",
      "Wall time: 2min 58s\n"
     ]
    },
    {
     "data": {
      "text/plain": [
       "GridSearchCV(cv=3, estimator=LGBMRegressor(),\n",
       "             param_grid={'learning_rate': [0.1, 0.3, 0.5],\n",
       "                         'num_leaves': [31, 100, 200]},\n",
       "             scoring=make_scorer(RMSE, greater_is_better=False))"
      ]
     },
     "execution_count": 205,
     "metadata": {},
     "output_type": "execute_result"
    }
   ],
   "source": [
    "%%time\n",
    "\n",
    "model4 = LGBMRegressor()\n",
    "\n",
    "model4_parametrs = {'num_leaves':[31, 100, 200], \n",
    "                'learning_rate':[0.1, 0.3, 0.5]}\n",
    "\n",
    "model4_grid = GridSearchCV(model4, model4_parametrs, scoring=RMSE_score, cv=3)\n",
    "model4_grid.fit(features_train_oe, target_train_oe)"
   ]
  },
  {
   "cell_type": "code",
   "execution_count": 206,
   "metadata": {},
   "outputs": [
    {
     "name": "stdout",
     "output_type": "stream",
     "text": [
      "{'learning_rate': 0.1, 'num_leaves': 200}\n",
      "1555.666208192851\n",
      "CPU times: user 281 µs, sys: 12 µs, total: 293 µs\n",
      "Wall time: 211 µs\n"
     ]
    }
   ],
   "source": [
    "%%time\n",
    "\n",
    "model4_params = model4_grid.best_params_\n",
    "#model4_score = model4_grid.score(features_train_oe, target_train_oe) * (-1)\n",
    "\n",
    "model4_score = model4_grid.best_score_ * (-1)\n",
    "\n",
    "print(model4_params)\n",
    "print(model4_score)"
   ]
  },
  {
   "cell_type": "code",
   "execution_count": 207,
   "metadata": {},
   "outputs": [
    {
     "name": "stdout",
     "output_type": "stream",
     "text": [
      "CPU times: user 707 ms, sys: 0 ns, total: 707 ms\n",
      "Wall time: 679 ms\n"
     ]
    }
   ],
   "source": [
    "%%time\n",
    "start = time.time()\n",
    "\n",
    "model4_predict = model4_grid.predict(features_test_oe)\n",
    "\n",
    "end = time.time()\n",
    "time_model4_predict = end - start"
   ]
  },
  {
   "cell_type": "code",
   "execution_count": 208,
   "metadata": {},
   "outputs": [
    {
     "data": {
      "text/plain": [
       "1519.0953972755572"
      ]
     },
     "execution_count": 208,
     "metadata": {},
     "output_type": "execute_result"
    }
   ],
   "source": [
    "RMSE(target_test_oe, model4_predict)"
   ]
  },
  {
   "cell_type": "markdown",
   "metadata": {},
   "source": [
    "## Анализ моделей"
   ]
  },
  {
   "cell_type": "code",
   "execution_count": 214,
   "metadata": {},
   "outputs": [
    {
     "data": {
      "text/html": [
       "<div>\n",
       "<style scoped>\n",
       "    .dataframe tbody tr th:only-of-type {\n",
       "        vertical-align: middle;\n",
       "    }\n",
       "\n",
       "    .dataframe tbody tr th {\n",
       "        vertical-align: top;\n",
       "    }\n",
       "\n",
       "    .dataframe thead th {\n",
       "        text-align: right;\n",
       "    }\n",
       "</style>\n",
       "<table border=\"1\" class=\"dataframe\">\n",
       "  <thead>\n",
       "    <tr style=\"text-align: right;\">\n",
       "      <th></th>\n",
       "      <th>Model</th>\n",
       "      <th>Train Time, sec</th>\n",
       "      <th>Test Time, sec</th>\n",
       "      <th>RMSE train</th>\n",
       "      <th>RMSE test</th>\n",
       "    </tr>\n",
       "  </thead>\n",
       "  <tbody>\n",
       "    <tr>\n",
       "      <th>0</th>\n",
       "      <td>LinearRegression</td>\n",
       "      <td>15.738643</td>\n",
       "      <td>0.301581</td>\n",
       "      <td>2449.411701</td>\n",
       "      <td>2426.532943</td>\n",
       "    </tr>\n",
       "    <tr>\n",
       "      <th>1</th>\n",
       "      <td>RandomForestR</td>\n",
       "      <td>39.143460</td>\n",
       "      <td>0.407661</td>\n",
       "      <td>2295.194531</td>\n",
       "      <td>2272.469671</td>\n",
       "    </tr>\n",
       "    <tr>\n",
       "      <th>2</th>\n",
       "      <td>CatBoostRegressor</td>\n",
       "      <td>28.481330</td>\n",
       "      <td>0.060321</td>\n",
       "      <td>1582.861263</td>\n",
       "      <td>1536.361541</td>\n",
       "    </tr>\n",
       "    <tr>\n",
       "      <th>3</th>\n",
       "      <td>LGBMRegressor</td>\n",
       "      <td>10.804389</td>\n",
       "      <td>0.679335</td>\n",
       "      <td>1555.666208</td>\n",
       "      <td>1519.095397</td>\n",
       "    </tr>\n",
       "  </tbody>\n",
       "</table>\n",
       "</div>"
      ],
      "text/plain": [
       "               Model  Train Time, sec  Test Time, sec   RMSE train  \\\n",
       "0   LinearRegression        15.738643        0.301581  2449.411701   \n",
       "1      RandomForestR        39.143460        0.407661  2295.194531   \n",
       "2  CatBoostRegressor        28.481330        0.060321  1582.861263   \n",
       "3      LGBMRegressor        10.804389        0.679335  1555.666208   \n",
       "\n",
       "     RMSE test  \n",
       "0  2426.532943  \n",
       "1  2272.469671  \n",
       "2  1536.361541  \n",
       "3  1519.095397  "
      ]
     },
     "metadata": {},
     "output_type": "display_data"
    }
   ],
   "source": [
    "results = {\n",
    "    'Model' : ['LinearRegression','RandomForestR', 'CatBoostRegressor', 'LGBMRegressor'],\n",
    "    'Train Time, sec' :pd.Series([time_model1_fit, model2_grid.refit_time_, model3_grid.refit_time_, model4_grid.refit_time_]),\n",
    "    'Test Time, sec' :pd.Series([time_model1_predict, time_model2_predict, time_model3_predict, time_model4_predict]),\n",
    "    'RMSE train': pd.Series([regression_cv_score, model2_score, model3_score, model4_score]),\n",
    "    'RMSE test': pd.Series([RMSE(target_test, model1_predict), RMSE(target_test_oe, model2_predict), RMSE(target_test_oe, model3_predict), RMSE(target_test_oe, model4_predict)]),\n",
    "\n",
    "    }\n",
    "display(pd.DataFrame(results))"
   ]
  },
  {
   "cell_type": "markdown",
   "metadata": {},
   "source": [
    "Мы провели подготовку данных и анализ разных моделей предсказания. Из итоговой таблицы мы видим что самый худьший результат по RMSE что на тренировочной выборке что на тестовой это у LinearRegression время обучения и предсказания среднее. RandomForestRegressor по RMSE занимает предпоследнее место и имеет самое большое время по обучению, время предсказания на предпоследнем месте. CatBoost по RMSE занимает второе место, время обучения на предпоследнем месте, время предсказания на первом месте. LGBMRegressor относительно других моделей показала лучший результат по RMSE и самое быстрое время обучения, время предсказания на последнем месте. На мой взгляд у всех моделей приемлемое время предсказания."
   ]
  },
  {
   "cell_type": "markdown",
   "metadata": {},
   "source": [
    "## Чек-лист проверки"
   ]
  },
  {
   "cell_type": "markdown",
   "metadata": {},
   "source": [
    "Поставьте 'x' в выполненных пунктах. Далее нажмите Shift+Enter."
   ]
  },
  {
   "cell_type": "markdown",
   "metadata": {},
   "source": [
    "- [x]  Jupyter Notebook открыт\n",
    "- [ ]  Весь код выполняется без ошибок\n",
    "- [ ]  Ячейки с кодом расположены в порядке исполнения\n",
    "- [ ]  Выполнена загрузка и подготовка данных\n",
    "- [ ]  Выполнено обучение моделей\n",
    "- [ ]  Есть анализ скорости работы и качества моделей"
   ]
  }
 ],
 "metadata": {
  "ExecuteTimeLog": [
   {
    "duration": 420,
    "start_time": "2023-02-19T16:00:32.023Z"
   },
   {
    "duration": 1207,
    "start_time": "2023-02-19T16:00:55.564Z"
   },
   {
    "duration": 22,
    "start_time": "2023-02-19T16:01:09.970Z"
   },
   {
    "duration": 137,
    "start_time": "2023-02-19T16:03:53.545Z"
   },
   {
    "duration": 480,
    "start_time": "2023-02-21T14:54:56.740Z"
   },
   {
    "duration": 1301,
    "start_time": "2023-02-21T14:54:57.393Z"
   },
   {
    "duration": 20,
    "start_time": "2023-02-21T14:54:58.695Z"
   },
   {
    "duration": 163,
    "start_time": "2023-02-21T14:55:01.902Z"
   },
   {
    "duration": 116,
    "start_time": "2023-02-21T14:57:21.453Z"
   },
   {
    "duration": 4,
    "start_time": "2023-02-21T15:04:36.890Z"
   },
   {
    "duration": 340,
    "start_time": "2023-02-21T15:51:02.152Z"
   },
   {
    "duration": 3,
    "start_time": "2023-02-21T15:51:36.471Z"
   },
   {
    "duration": 29,
    "start_time": "2023-02-21T15:58:05.106Z"
   },
   {
    "duration": 88,
    "start_time": "2023-02-21T17:19:27.603Z"
   },
   {
    "duration": 816,
    "start_time": "2023-02-21T17:19:32.529Z"
   },
   {
    "duration": 45,
    "start_time": "2023-02-21T17:19:36.166Z"
   },
   {
    "duration": 18,
    "start_time": "2023-02-21T19:02:24.801Z"
   },
   {
    "duration": 8,
    "start_time": "2023-02-21T19:02:26.090Z"
   },
   {
    "duration": 1322,
    "start_time": "2023-02-21T19:03:08.343Z"
   },
   {
    "duration": 93,
    "start_time": "2023-02-21T19:03:12.538Z"
   },
   {
    "duration": 233,
    "start_time": "2023-02-21T19:03:14.960Z"
   },
   {
    "duration": 88,
    "start_time": "2023-02-21T19:03:17.970Z"
   },
   {
    "duration": 1607,
    "start_time": "2023-02-22T12:39:21.024Z"
   },
   {
    "duration": 2781,
    "start_time": "2023-02-22T12:39:22.633Z"
   },
   {
    "duration": 18,
    "start_time": "2023-02-22T12:39:25.415Z"
   },
   {
    "duration": 130,
    "start_time": "2023-02-22T12:39:25.436Z"
   },
   {
    "duration": 4,
    "start_time": "2023-02-22T12:39:25.826Z"
   },
   {
    "duration": 311,
    "start_time": "2023-02-22T12:39:27.641Z"
   },
   {
    "duration": 29,
    "start_time": "2023-02-22T12:39:28.655Z"
   },
   {
    "duration": 28,
    "start_time": "2023-02-22T12:39:35.798Z"
   },
   {
    "duration": 116,
    "start_time": "2023-02-22T12:39:37.479Z"
   },
   {
    "duration": 219,
    "start_time": "2023-02-22T12:43:01.638Z"
   },
   {
    "duration": 3,
    "start_time": "2023-02-22T12:52:57.890Z"
   },
   {
    "duration": 215,
    "start_time": "2023-02-22T12:53:00.962Z"
   },
   {
    "duration": 11485,
    "start_time": "2023-02-22T12:53:04.115Z"
   },
   {
    "duration": 721,
    "start_time": "2023-02-22T16:23:26.403Z"
   },
   {
    "duration": 49,
    "start_time": "2023-02-22T16:25:02.632Z"
   },
   {
    "duration": 72,
    "start_time": "2023-02-22T16:25:05.464Z"
   },
   {
    "duration": 16,
    "start_time": "2023-02-22T16:25:10.620Z"
   },
   {
    "duration": 3,
    "start_time": "2023-02-22T16:25:30.753Z"
   },
   {
    "duration": 32,
    "start_time": "2023-02-22T16:25:33.857Z"
   },
   {
    "duration": 104,
    "start_time": "2023-02-22T16:25:34.496Z"
   },
   {
    "duration": 1020,
    "start_time": "2023-02-22T16:25:36.824Z"
   },
   {
    "duration": 72801,
    "start_time": "2023-02-22T16:25:43.393Z"
   },
   {
    "duration": 71,
    "start_time": "2023-02-22T16:28:25.260Z"
   },
   {
    "duration": 946,
    "start_time": "2023-02-22T16:28:29.590Z"
   },
   {
    "duration": 672,
    "start_time": "2023-02-22T16:29:06.282Z"
   },
   {
    "duration": 189,
    "start_time": "2023-02-22T16:29:11.350Z"
   },
   {
    "duration": 285,
    "start_time": "2023-02-22T16:29:11.782Z"
   },
   {
    "duration": 100,
    "start_time": "2023-02-22T16:29:13.509Z"
   },
   {
    "duration": 5,
    "start_time": "2023-02-22T16:29:33.380Z"
   },
   {
    "duration": 2022,
    "start_time": "2023-02-22T16:29:33.914Z"
   },
   {
    "duration": 14,
    "start_time": "2023-02-22T16:29:35.938Z"
   },
   {
    "duration": 144,
    "start_time": "2023-02-22T16:29:35.954Z"
   },
   {
    "duration": 36,
    "start_time": "2023-02-22T16:29:36.100Z"
   },
   {
    "duration": 357,
    "start_time": "2023-02-22T16:29:36.138Z"
   },
   {
    "duration": 51,
    "start_time": "2023-02-22T16:29:36.889Z"
   },
   {
    "duration": 23,
    "start_time": "2023-02-22T16:29:38.331Z"
   },
   {
    "duration": 62,
    "start_time": "2023-02-22T16:29:39.063Z"
   },
   {
    "duration": 59,
    "start_time": "2023-02-22T16:29:42.593Z"
   },
   {
    "duration": 675,
    "start_time": "2023-02-22T16:29:46.476Z"
   },
   {
    "duration": 3,
    "start_time": "2023-02-22T16:29:47.738Z"
   },
   {
    "duration": 189,
    "start_time": "2023-02-22T16:29:48.318Z"
   },
   {
    "duration": 289,
    "start_time": "2023-02-22T16:29:48.972Z"
   },
   {
    "duration": 125,
    "start_time": "2023-02-22T16:29:49.737Z"
   },
   {
    "duration": 14556,
    "start_time": "2023-02-22T16:30:05.875Z"
   },
   {
    "duration": 18,
    "start_time": "2023-02-22T16:30:36.171Z"
   },
   {
    "duration": 12,
    "start_time": "2023-02-22T16:30:42.778Z"
   },
   {
    "duration": 7,
    "start_time": "2023-02-22T16:30:57.450Z"
   },
   {
    "duration": 783,
    "start_time": "2023-02-22T16:30:57.989Z"
   },
   {
    "duration": 13,
    "start_time": "2023-02-22T16:30:58.774Z"
   },
   {
    "duration": 115,
    "start_time": "2023-02-22T16:30:59.708Z"
   },
   {
    "duration": 4,
    "start_time": "2023-02-22T16:31:03.926Z"
   },
   {
    "duration": 418,
    "start_time": "2023-02-22T16:31:04.293Z"
   },
   {
    "duration": 82,
    "start_time": "2023-02-22T16:31:06.169Z"
   },
   {
    "duration": 24,
    "start_time": "2023-02-22T16:31:06.717Z"
   },
   {
    "duration": 72,
    "start_time": "2023-02-22T16:31:07.181Z"
   },
   {
    "duration": 60,
    "start_time": "2023-02-22T16:31:07.640Z"
   },
   {
    "duration": 65,
    "start_time": "2023-02-22T16:31:14.747Z"
   },
   {
    "duration": 3,
    "start_time": "2023-02-22T16:31:21.477Z"
   },
   {
    "duration": 20,
    "start_time": "2023-02-22T16:31:21.952Z"
   },
   {
    "duration": 78,
    "start_time": "2023-02-22T16:31:22.401Z"
   },
   {
    "duration": 832,
    "start_time": "2023-02-22T16:31:23.146Z"
   },
   {
    "duration": 55502,
    "start_time": "2023-02-22T16:31:27.224Z"
   },
   {
    "duration": 727,
    "start_time": "2023-02-22T16:34:13.451Z"
   },
   {
    "duration": 12,
    "start_time": "2023-02-22T16:34:14.180Z"
   },
   {
    "duration": 119,
    "start_time": "2023-02-22T16:34:15.123Z"
   },
   {
    "duration": 5,
    "start_time": "2023-02-22T16:37:39.262Z"
   },
   {
    "duration": 728,
    "start_time": "2023-02-22T16:37:39.671Z"
   },
   {
    "duration": 13,
    "start_time": "2023-02-22T16:37:40.400Z"
   },
   {
    "duration": 112,
    "start_time": "2023-02-22T16:37:40.694Z"
   },
   {
    "duration": 3,
    "start_time": "2023-02-22T16:37:43.313Z"
   },
   {
    "duration": 311,
    "start_time": "2023-02-22T16:37:44.026Z"
   },
   {
    "duration": 63,
    "start_time": "2023-02-22T16:37:50.061Z"
   },
   {
    "duration": 18,
    "start_time": "2023-02-22T16:37:50.928Z"
   },
   {
    "duration": 1075,
    "start_time": "2023-02-22T16:37:52.514Z"
   },
   {
    "duration": 13,
    "start_time": "2023-02-22T16:38:31.247Z"
   },
   {
    "duration": 3,
    "start_time": "2023-02-22T16:38:34.880Z"
   },
   {
    "duration": 19,
    "start_time": "2023-02-22T16:38:35.470Z"
   },
   {
    "duration": 82,
    "start_time": "2023-02-22T16:38:35.998Z"
   },
   {
    "duration": 137,
    "start_time": "2023-02-22T16:38:36.859Z"
   },
   {
    "duration": 72,
    "start_time": "2023-02-22T16:39:52.137Z"
   },
   {
    "duration": 126,
    "start_time": "2023-02-22T16:40:31.955Z"
   },
   {
    "duration": 57,
    "start_time": "2023-02-22T16:41:23.238Z"
   },
   {
    "duration": 70,
    "start_time": "2023-02-22T16:41:26.056Z"
   },
   {
    "duration": 73,
    "start_time": "2023-02-22T16:42:23.485Z"
   },
   {
    "duration": 78,
    "start_time": "2023-02-22T16:42:27.081Z"
   },
   {
    "duration": 21,
    "start_time": "2023-02-22T16:42:40.948Z"
   },
   {
    "duration": 78,
    "start_time": "2023-02-22T16:42:42.440Z"
   },
   {
    "duration": 134,
    "start_time": "2023-02-22T16:42:43.633Z"
   },
   {
    "duration": 5911,
    "start_time": "2023-02-22T16:42:47.261Z"
   },
   {
    "duration": 12,
    "start_time": "2023-02-22T16:43:01.854Z"
   },
   {
    "duration": 75,
    "start_time": "2023-02-22T16:44:41.995Z"
   },
   {
    "duration": 66,
    "start_time": "2023-02-22T16:44:58.630Z"
   },
   {
    "duration": 945,
    "start_time": "2023-02-22T16:45:50.536Z"
   },
   {
    "duration": 3,
    "start_time": "2023-02-22T16:45:51.651Z"
   },
   {
    "duration": 227,
    "start_time": "2023-02-22T16:45:52.254Z"
   },
   {
    "duration": 358,
    "start_time": "2023-02-22T16:45:53.399Z"
   },
   {
    "duration": 94701,
    "start_time": "2023-02-22T16:46:24.438Z"
   },
   {
    "duration": 688613,
    "start_time": "2023-02-22T16:47:59.142Z"
   },
   {
    "duration": 1675,
    "start_time": "2023-02-24T11:23:21.306Z"
   },
   {
    "duration": 1023,
    "start_time": "2023-02-24T11:23:22.983Z"
   },
   {
    "duration": 17,
    "start_time": "2023-02-24T11:23:24.007Z"
   },
   {
    "duration": 128,
    "start_time": "2023-02-24T11:23:26.189Z"
   },
   {
    "duration": 3,
    "start_time": "2023-02-24T11:23:28.365Z"
   },
   {
    "duration": 281,
    "start_time": "2023-02-24T11:23:30.219Z"
   },
   {
    "duration": 86,
    "start_time": "2023-02-24T11:28:11.937Z"
   },
   {
    "duration": 135,
    "start_time": "2023-02-24T11:28:14.306Z"
   },
   {
    "duration": 22,
    "start_time": "2023-02-24T11:28:19.579Z"
   },
   {
    "duration": 76,
    "start_time": "2023-02-24T11:28:25.102Z"
   },
   {
    "duration": 78,
    "start_time": "2023-02-24T11:28:47.881Z"
   },
   {
    "duration": 557,
    "start_time": "2023-02-24T11:29:25.290Z"
   },
   {
    "duration": 165,
    "start_time": "2023-02-24T11:30:25.012Z"
   },
   {
    "duration": 10,
    "start_time": "2023-02-24T13:11:50.431Z"
   },
   {
    "duration": 90,
    "start_time": "2023-02-24T13:12:07.751Z"
   },
   {
    "duration": 252,
    "start_time": "2023-02-24T13:12:08.389Z"
   },
   {
    "duration": 1625,
    "start_time": "2023-02-25T13:43:57.752Z"
   },
   {
    "duration": 1105,
    "start_time": "2023-02-25T13:43:59.380Z"
   },
   {
    "duration": 24,
    "start_time": "2023-02-25T13:44:00.487Z"
   },
   {
    "duration": 126,
    "start_time": "2023-02-25T13:44:01.841Z"
   },
   {
    "duration": 3,
    "start_time": "2023-02-25T13:44:04.992Z"
   },
   {
    "duration": 280,
    "start_time": "2023-02-25T13:44:05.586Z"
   },
   {
    "duration": 90,
    "start_time": "2023-02-25T13:44:10.257Z"
   },
   {
    "duration": 23,
    "start_time": "2023-02-25T13:44:11.758Z"
   },
   {
    "duration": 76,
    "start_time": "2023-02-25T13:44:12.456Z"
   },
   {
    "duration": 782,
    "start_time": "2023-02-25T13:47:10.695Z"
   },
   {
    "duration": 3,
    "start_time": "2023-02-25T13:47:20.412Z"
   },
   {
    "duration": 216,
    "start_time": "2023-02-25T13:47:22.788Z"
   },
   {
    "duration": 344,
    "start_time": "2023-02-25T13:47:24.666Z"
   },
   {
    "duration": 71210,
    "start_time": "2023-02-25T13:47:29.919Z"
   },
   {
    "duration": 622209,
    "start_time": "2023-02-25T13:48:41.136Z"
   },
   {
    "duration": 714,
    "start_time": "2023-02-25T15:26:19.348Z"
   },
   {
    "duration": 214961,
    "start_time": "2023-02-25T15:48:57.177Z"
   },
   {
    "duration": 255,
    "start_time": "2023-02-25T16:10:29.104Z"
   },
   {
    "duration": 80,
    "start_time": "2023-02-25T16:18:24.736Z"
   },
   {
    "duration": 6,
    "start_time": "2023-02-25T16:21:28.407Z"
   },
   {
    "duration": 94,
    "start_time": "2023-02-25T16:26:02.591Z"
   },
   {
    "duration": 6,
    "start_time": "2023-02-25T16:26:21.617Z"
   },
   {
    "duration": 73,
    "start_time": "2023-02-25T16:26:35.655Z"
   },
   {
    "duration": 5,
    "start_time": "2023-02-25T16:27:19.272Z"
   },
   {
    "duration": 265961,
    "start_time": "2023-02-25T16:27:26.110Z"
   },
   {
    "duration": 504,
    "start_time": "2023-02-25T18:23:58.038Z"
   },
   {
    "duration": 6,
    "start_time": "2023-02-25T18:36:47.488Z"
   },
   {
    "duration": 1307180,
    "start_time": "2023-02-25T18:36:57.851Z"
   },
   {
    "duration": 1496,
    "start_time": "2023-02-25T18:58:45.033Z"
   },
   {
    "duration": 3,
    "start_time": "2023-02-25T20:41:53.960Z"
   },
   {
    "duration": 147492,
    "start_time": "2023-02-25T21:37:23.246Z"
   },
   {
    "duration": 233241,
    "start_time": "2023-02-25T21:40:56.649Z"
   },
   {
    "duration": 308,
    "start_time": "2023-02-25T21:50:16.172Z"
   },
   {
    "duration": 4,
    "start_time": "2023-02-25T22:07:43.533Z"
   },
   {
    "duration": 1232,
    "start_time": "2023-02-28T16:16:56.467Z"
   },
   {
    "duration": 1110,
    "start_time": "2023-02-28T16:17:00.003Z"
   },
   {
    "duration": 20,
    "start_time": "2023-02-28T16:17:01.114Z"
   },
   {
    "duration": 110,
    "start_time": "2023-02-28T16:17:02.003Z"
   },
   {
    "duration": 3,
    "start_time": "2023-02-28T16:17:05.741Z"
   },
   {
    "duration": 303,
    "start_time": "2023-02-28T16:17:06.260Z"
   },
   {
    "duration": 89,
    "start_time": "2023-02-28T16:17:16.750Z"
   },
   {
    "duration": 25,
    "start_time": "2023-02-28T16:17:20.971Z"
   },
   {
    "duration": 69,
    "start_time": "2023-02-28T16:17:24.206Z"
   },
   {
    "duration": 1596,
    "start_time": "2023-02-28T16:40:51.213Z"
   },
   {
    "duration": 3,
    "start_time": "2023-02-28T16:40:56.867Z"
   },
   {
    "duration": 202,
    "start_time": "2023-02-28T16:42:26.617Z"
   },
   {
    "duration": 11,
    "start_time": "2023-02-28T16:42:36.572Z"
   },
   {
    "duration": 215,
    "start_time": "2023-02-28T16:42:44.203Z"
   },
   {
    "duration": 343,
    "start_time": "2023-02-28T16:42:44.890Z"
   },
   {
    "duration": 69067,
    "start_time": "2023-02-28T16:42:46.975Z"
   },
   {
    "duration": 15,
    "start_time": "2023-02-28T16:51:12.989Z"
   },
   {
    "duration": 61,
    "start_time": "2023-02-28T16:51:37.000Z"
   },
   {
    "duration": 78002,
    "start_time": "2023-02-28T16:51:55.826Z"
   },
   {
    "duration": 515,
    "start_time": "2023-02-28T16:53:41.685Z"
   },
   {
    "duration": 108,
    "start_time": "2023-02-28T16:53:50.199Z"
   },
   {
    "duration": 166227,
    "start_time": "2023-02-28T16:54:42.229Z"
   },
   {
    "duration": 224,
    "start_time": "2023-02-28T16:58:07.681Z"
   },
   {
    "duration": 783089,
    "start_time": "2023-02-28T16:58:27.353Z"
   },
   {
    "duration": 499,
    "start_time": "2023-02-28T17:11:30.444Z"
   },
   {
    "duration": 556,
    "start_time": "2023-02-28T17:55:45.418Z"
   },
   {
    "duration": 381,
    "start_time": "2023-02-28T17:56:36.217Z"
   },
   {
    "duration": 14,
    "start_time": "2023-02-28T17:58:07.655Z"
   },
   {
    "duration": 12,
    "start_time": "2023-02-28T17:59:11.076Z"
   },
   {
    "duration": 9,
    "start_time": "2023-02-28T18:14:21.393Z"
   },
   {
    "duration": 26,
    "start_time": "2023-02-28T18:14:35.382Z"
   },
   {
    "duration": 71,
    "start_time": "2023-02-28T19:31:29.291Z"
   },
   {
    "duration": 256,
    "start_time": "2023-02-28T19:34:01.478Z"
   },
   {
    "duration": 166,
    "start_time": "2023-02-28T19:34:11.178Z"
   },
   {
    "duration": 1429,
    "start_time": "2023-02-28T19:34:19.503Z"
   },
   {
    "duration": 170,
    "start_time": "2023-02-28T19:34:29.479Z"
   },
   {
    "duration": 177,
    "start_time": "2023-02-28T19:40:58.740Z"
   },
   {
    "duration": 275,
    "start_time": "2023-02-28T19:41:09.009Z"
   },
   {
    "duration": 415,
    "start_time": "2023-02-28T19:41:16.214Z"
   },
   {
    "duration": 251,
    "start_time": "2023-02-28T19:41:27.200Z"
   },
   {
    "duration": 18,
    "start_time": "2023-02-28T19:42:05.139Z"
   },
   {
    "duration": 17,
    "start_time": "2023-02-28T19:43:22.184Z"
   },
   {
    "duration": 12,
    "start_time": "2023-02-28T19:43:40.381Z"
   },
   {
    "duration": 12,
    "start_time": "2023-02-28T19:43:44.878Z"
   },
   {
    "duration": 13,
    "start_time": "2023-02-28T19:43:48.341Z"
   },
   {
    "duration": 11,
    "start_time": "2023-02-28T19:43:57.729Z"
   },
   {
    "duration": 13,
    "start_time": "2023-02-28T19:44:02.411Z"
   },
   {
    "duration": 301,
    "start_time": "2023-02-28T19:48:34.386Z"
   },
   {
    "duration": 32,
    "start_time": "2023-02-28T19:49:25.435Z"
   },
   {
    "duration": 23,
    "start_time": "2023-02-28T19:49:29.523Z"
   },
   {
    "duration": 16,
    "start_time": "2023-02-28T19:50:26.692Z"
   },
   {
    "duration": 283,
    "start_time": "2023-02-28T19:53:15.400Z"
   },
   {
    "duration": 325,
    "start_time": "2023-02-28T19:53:32.805Z"
   },
   {
    "duration": 310,
    "start_time": "2023-02-28T19:53:49.581Z"
   },
   {
    "duration": 293,
    "start_time": "2023-02-28T19:54:03.665Z"
   },
   {
    "duration": 18,
    "start_time": "2023-02-28T19:55:05.559Z"
   },
   {
    "duration": 12,
    "start_time": "2023-02-28T19:56:29.169Z"
   },
   {
    "duration": 64,
    "start_time": "2023-02-28T19:59:51.815Z"
   },
   {
    "duration": 26,
    "start_time": "2023-02-28T19:59:58.840Z"
   },
   {
    "duration": 63,
    "start_time": "2023-02-28T20:00:07.890Z"
   },
   {
    "duration": 8,
    "start_time": "2023-02-28T20:00:22.119Z"
   },
   {
    "duration": 17,
    "start_time": "2023-02-28T20:00:34.447Z"
   },
   {
    "duration": 447,
    "start_time": "2023-02-28T20:01:02.340Z"
   },
   {
    "duration": 248,
    "start_time": "2023-02-28T20:01:15.706Z"
   },
   {
    "duration": 23,
    "start_time": "2023-02-28T20:01:33.765Z"
   },
   {
    "duration": 244,
    "start_time": "2023-02-28T20:01:40.567Z"
   },
   {
    "duration": 7,
    "start_time": "2023-02-28T20:01:57.207Z"
   },
   {
    "duration": 245,
    "start_time": "2023-02-28T20:02:47.140Z"
   },
   {
    "duration": 57,
    "start_time": "2023-02-28T20:03:03.382Z"
   },
   {
    "duration": 256,
    "start_time": "2023-02-28T20:03:24.651Z"
   },
   {
    "duration": 263,
    "start_time": "2023-02-28T20:03:30.627Z"
   },
   {
    "duration": 13,
    "start_time": "2023-02-28T20:03:55.545Z"
   },
   {
    "duration": 19,
    "start_time": "2023-02-28T20:31:11.979Z"
   },
   {
    "duration": 324,
    "start_time": "2023-02-28T20:31:48.318Z"
   },
   {
    "duration": 5,
    "start_time": "2023-02-28T20:32:00.506Z"
   },
   {
    "duration": 12,
    "start_time": "2023-02-28T20:39:31.657Z"
   },
   {
    "duration": 42,
    "start_time": "2023-02-28T20:40:02.445Z"
   },
   {
    "duration": 6,
    "start_time": "2023-02-28T20:40:06.911Z"
   },
   {
    "duration": 73,
    "start_time": "2023-02-28T20:41:05.273Z"
   },
   {
    "duration": 5,
    "start_time": "2023-02-28T20:41:06.659Z"
   },
   {
    "duration": 148,
    "start_time": "2023-02-28T20:45:03.792Z"
   },
   {
    "duration": 6,
    "start_time": "2023-02-28T20:45:05.001Z"
   },
   {
    "duration": 5,
    "start_time": "2023-02-28T20:54:40.434Z"
   },
   {
    "duration": 9,
    "start_time": "2023-02-28T20:56:29.460Z"
   },
   {
    "duration": 4,
    "start_time": "2023-02-28T20:56:43.034Z"
   },
   {
    "duration": 11,
    "start_time": "2023-02-28T20:59:05.625Z"
   },
   {
    "duration": 68,
    "start_time": "2023-02-28T21:01:23.001Z"
   },
   {
    "duration": 4,
    "start_time": "2023-02-28T21:01:31.876Z"
   },
   {
    "duration": 4,
    "start_time": "2023-02-28T21:01:45.985Z"
   },
   {
    "duration": 4,
    "start_time": "2023-02-28T21:01:50.388Z"
   },
   {
    "duration": 9,
    "start_time": "2023-02-28T21:03:01.797Z"
   },
   {
    "duration": 9,
    "start_time": "2023-02-28T21:04:40.758Z"
   },
   {
    "duration": 9,
    "start_time": "2023-02-28T21:04:53.399Z"
   },
   {
    "duration": 15,
    "start_time": "2023-02-28T21:08:11.626Z"
   },
   {
    "duration": 72266,
    "start_time": "2023-02-28T21:10:12.176Z"
   },
   {
    "duration": 97,
    "start_time": "2023-02-28T21:11:24.444Z"
   },
   {
    "duration": 17,
    "start_time": "2023-02-28T21:12:03.826Z"
   },
   {
    "duration": 323,
    "start_time": "2023-02-28T21:26:52.125Z"
   },
   {
    "duration": 11,
    "start_time": "2023-02-28T21:28:01.598Z"
   },
   {
    "duration": 42,
    "start_time": "2023-02-28T21:28:52.651Z"
   },
   {
    "duration": 108,
    "start_time": "2023-02-28T21:29:02.657Z"
   },
   {
    "duration": 4,
    "start_time": "2023-02-28T21:31:41.167Z"
   },
   {
    "duration": 359,
    "start_time": "2023-02-28T21:31:55.086Z"
   },
   {
    "duration": 25,
    "start_time": "2023-02-28T21:32:15.128Z"
   },
   {
    "duration": 272,
    "start_time": "2023-02-28T21:34:23.089Z"
   },
   {
    "duration": 14,
    "start_time": "2023-02-28T21:34:29.581Z"
   },
   {
    "duration": 15,
    "start_time": "2023-02-28T21:34:32.687Z"
   },
   {
    "duration": 302,
    "start_time": "2023-02-28T21:36:01.552Z"
   },
   {
    "duration": 15,
    "start_time": "2023-02-28T21:36:11.329Z"
   },
   {
    "duration": 162,
    "start_time": "2023-02-28T21:38:36.883Z"
   },
   {
    "duration": 80,
    "start_time": "2023-02-28T21:38:47.767Z"
   },
   {
    "duration": 39,
    "start_time": "2023-02-28T21:38:55.758Z"
   },
   {
    "duration": 297,
    "start_time": "2023-02-28T21:38:59.653Z"
   },
   {
    "duration": 12,
    "start_time": "2023-02-28T21:40:01.964Z"
   },
   {
    "duration": 134591,
    "start_time": "2023-02-28T21:44:57.564Z"
   },
   {
    "duration": 98,
    "start_time": "2023-02-28T21:47:12.159Z"
   },
   {
    "duration": 2123,
    "start_time": "2023-03-01T17:31:11.670Z"
   },
   {
    "duration": 3453,
    "start_time": "2023-03-01T17:31:13.794Z"
   },
   {
    "duration": 19,
    "start_time": "2023-03-01T17:31:17.248Z"
   },
   {
    "duration": 112,
    "start_time": "2023-03-01T17:31:17.269Z"
   },
   {
    "duration": 2,
    "start_time": "2023-03-01T17:31:17.383Z"
   },
   {
    "duration": 291,
    "start_time": "2023-03-01T17:31:17.387Z"
   },
   {
    "duration": 93,
    "start_time": "2023-03-01T17:31:17.680Z"
   },
   {
    "duration": 23,
    "start_time": "2023-03-01T17:31:17.774Z"
   },
   {
    "duration": 77,
    "start_time": "2023-03-01T17:31:17.799Z"
   },
   {
    "duration": 406,
    "start_time": "2023-03-01T17:31:17.878Z"
   },
   {
    "duration": 10,
    "start_time": "2023-03-01T17:31:18.286Z"
   },
   {
    "duration": 44,
    "start_time": "2023-03-01T17:31:18.298Z"
   },
   {
    "duration": 179,
    "start_time": "2023-03-01T17:31:18.344Z"
   },
   {
    "duration": 22,
    "start_time": "2023-03-01T17:31:18.524Z"
   },
   {
    "duration": 31,
    "start_time": "2023-03-01T17:31:18.547Z"
   },
   {
    "duration": 14,
    "start_time": "2023-03-01T17:31:18.579Z"
   },
   {
    "duration": 329,
    "start_time": "2023-03-01T17:31:18.594Z"
   },
   {
    "duration": 26,
    "start_time": "2023-03-01T17:31:18.925Z"
   },
   {
    "duration": 27,
    "start_time": "2023-03-01T17:31:18.953Z"
   },
   {
    "duration": 1064,
    "start_time": "2023-03-01T17:31:18.982Z"
   },
   {
    "duration": 3,
    "start_time": "2023-03-01T17:31:20.048Z"
   },
   {
    "duration": 180,
    "start_time": "2023-03-01T17:31:20.052Z"
   },
   {
    "duration": 10,
    "start_time": "2023-03-01T17:31:20.233Z"
   },
   {
    "duration": 270,
    "start_time": "2023-03-01T17:31:20.244Z"
   },
   {
    "duration": 48,
    "start_time": "2023-03-01T17:31:20.516Z"
   },
   {
    "duration": 14,
    "start_time": "2023-03-01T17:31:20.565Z"
   },
   {
    "duration": 14,
    "start_time": "2023-03-01T17:34:41.949Z"
   },
   {
    "duration": 11,
    "start_time": "2023-03-01T17:35:36.732Z"
   },
   {
    "duration": 10,
    "start_time": "2023-03-01T17:35:52.134Z"
   },
   {
    "duration": 14,
    "start_time": "2023-03-01T17:36:25.175Z"
   },
   {
    "duration": 4,
    "start_time": "2023-03-01T17:36:35.623Z"
   },
   {
    "duration": 1152,
    "start_time": "2023-03-01T18:12:28.407Z"
   },
   {
    "duration": 1105,
    "start_time": "2023-03-01T18:12:30.653Z"
   },
   {
    "duration": 20,
    "start_time": "2023-03-01T18:12:31.759Z"
   },
   {
    "duration": 129,
    "start_time": "2023-03-01T18:12:33.528Z"
   },
   {
    "duration": 3,
    "start_time": "2023-03-01T18:12:36.682Z"
   },
   {
    "duration": 304,
    "start_time": "2023-03-01T18:12:37.149Z"
   },
   {
    "duration": 98,
    "start_time": "2023-03-01T18:12:39.930Z"
   },
   {
    "duration": 30,
    "start_time": "2023-03-01T18:12:45.871Z"
   },
   {
    "duration": 174,
    "start_time": "2023-03-01T18:13:04.961Z"
   },
   {
    "duration": 352,
    "start_time": "2023-03-01T18:13:37.187Z"
   },
   {
    "duration": 89,
    "start_time": "2023-03-01T19:14:17.501Z"
   },
   {
    "duration": 597,
    "start_time": "2023-03-01T19:14:24.132Z"
   },
   {
    "duration": 10,
    "start_time": "2023-03-01T19:14:24.731Z"
   },
   {
    "duration": 39,
    "start_time": "2023-03-01T19:14:25.325Z"
   },
   {
    "duration": 172,
    "start_time": "2023-03-01T19:14:25.926Z"
   },
   {
    "duration": 16,
    "start_time": "2023-03-01T19:14:26.100Z"
   },
   {
    "duration": 31,
    "start_time": "2023-03-01T19:14:26.471Z"
   },
   {
    "duration": 15,
    "start_time": "2023-03-01T19:14:27.237Z"
   },
   {
    "duration": 341,
    "start_time": "2023-03-01T19:14:27.610Z"
   },
   {
    "duration": 22,
    "start_time": "2023-03-01T19:14:27.956Z"
   },
   {
    "duration": 21,
    "start_time": "2023-03-01T19:14:28.205Z"
   },
   {
    "duration": 15,
    "start_time": "2023-03-01T19:21:17.438Z"
   },
   {
    "duration": 561,
    "start_time": "2023-03-01T19:21:34.297Z"
   },
   {
    "duration": 13,
    "start_time": "2023-03-01T19:21:46.484Z"
   },
   {
    "duration": 255,
    "start_time": "2023-03-01T19:32:35.765Z"
   },
   {
    "duration": 9,
    "start_time": "2023-03-01T19:32:57.967Z"
   },
   {
    "duration": 378,
    "start_time": "2023-03-01T19:35:51.405Z"
   },
   {
    "duration": 719,
    "start_time": "2023-03-01T19:37:00.646Z"
   },
   {
    "duration": 263,
    "start_time": "2023-03-01T19:37:06.431Z"
   },
   {
    "duration": 256,
    "start_time": "2023-03-01T19:37:13.638Z"
   },
   {
    "duration": 10,
    "start_time": "2023-03-01T19:46:27.182Z"
   },
   {
    "duration": 901,
    "start_time": "2023-03-01T19:55:26.390Z"
   },
   {
    "duration": 842,
    "start_time": "2023-03-01T19:56:19.671Z"
   },
   {
    "duration": 13,
    "start_time": "2023-03-01T19:56:22.429Z"
   },
   {
    "duration": 18,
    "start_time": "2023-03-01T20:03:34.681Z"
   },
   {
    "duration": 506,
    "start_time": "2023-03-01T20:03:39.206Z"
   },
   {
    "duration": 16,
    "start_time": "2023-03-01T20:03:40.149Z"
   },
   {
    "duration": 68,
    "start_time": "2023-03-01T20:13:02.720Z"
   },
   {
    "duration": 3,
    "start_time": "2023-03-01T20:20:14.938Z"
   },
   {
    "duration": 164,
    "start_time": "2023-03-01T20:20:16.972Z"
   },
   {
    "duration": 15,
    "start_time": "2023-03-01T20:20:19.545Z"
   },
   {
    "duration": 7,
    "start_time": "2023-03-01T20:20:21.364Z"
   },
   {
    "duration": 12,
    "start_time": "2023-03-01T20:20:29.628Z"
   },
   {
    "duration": 254,
    "start_time": "2023-03-01T20:20:36.438Z"
   },
   {
    "duration": 38,
    "start_time": "2023-03-01T20:20:37.400Z"
   },
   {
    "duration": 174274,
    "start_time": "2023-03-01T20:21:15.906Z"
   },
   {
    "duration": 186,
    "start_time": "2023-03-01T20:47:09.576Z"
   },
   {
    "duration": 4,
    "start_time": "2023-03-01T20:47:10.922Z"
   },
   {
    "duration": 50,
    "start_time": "2023-03-01T21:07:24.293Z"
   },
   {
    "duration": 57544,
    "start_time": "2023-03-01T21:08:06.147Z"
   },
   {
    "duration": 60690,
    "start_time": "2023-03-01T21:10:28.904Z"
   },
   {
    "duration": 10,
    "start_time": "2023-03-01T21:12:06.811Z"
   },
   {
    "duration": 153443,
    "start_time": "2023-03-01T21:12:35.985Z"
   },
   {
    "duration": 3708,
    "start_time": "2023-03-01T21:39:14.874Z"
   },
   {
    "duration": 134,
    "start_time": "2023-03-01T21:39:18.584Z"
   },
   {
    "duration": 4,
    "start_time": "2023-03-01T21:39:37.480Z"
   },
   {
    "duration": 747,
    "start_time": "2023-03-01T21:39:39.774Z"
   },
   {
    "duration": 23,
    "start_time": "2023-03-01T21:39:40.524Z"
   },
   {
    "duration": 134,
    "start_time": "2023-03-01T21:39:41.761Z"
   },
   {
    "duration": 3,
    "start_time": "2023-03-01T21:39:42.393Z"
   },
   {
    "duration": 310,
    "start_time": "2023-03-01T21:39:42.605Z"
   },
   {
    "duration": 86,
    "start_time": "2023-03-01T21:39:43.006Z"
   },
   {
    "duration": 15,
    "start_time": "2023-03-01T21:39:43.666Z"
   },
   {
    "duration": 154,
    "start_time": "2023-03-01T21:39:44.242Z"
   },
   {
    "duration": 301,
    "start_time": "2023-03-01T21:39:44.643Z"
   },
   {
    "duration": 79,
    "start_time": "2023-03-01T21:39:45.109Z"
   },
   {
    "duration": 265,
    "start_time": "2023-03-01T21:39:46.642Z"
   },
   {
    "duration": 7,
    "start_time": "2023-03-01T21:39:46.908Z"
   },
   {
    "duration": 30,
    "start_time": "2023-03-01T21:39:47.232Z"
   },
   {
    "duration": 170,
    "start_time": "2023-03-01T21:39:47.863Z"
   },
   {
    "duration": 14,
    "start_time": "2023-03-01T21:39:48.059Z"
   },
   {
    "duration": 22,
    "start_time": "2023-03-01T21:39:48.903Z"
   },
   {
    "duration": 23,
    "start_time": "2023-03-01T21:39:49.436Z"
   },
   {
    "duration": 272,
    "start_time": "2023-03-01T21:39:50.388Z"
   },
   {
    "duration": 14,
    "start_time": "2023-03-01T21:39:50.662Z"
   },
   {
    "duration": 31,
    "start_time": "2023-03-01T21:39:55.250Z"
   },
   {
    "duration": 518,
    "start_time": "2023-03-01T21:39:58.646Z"
   },
   {
    "duration": 14,
    "start_time": "2023-03-01T21:39:59.268Z"
   },
   {
    "duration": 922,
    "start_time": "2023-03-01T21:40:02.381Z"
   },
   {
    "duration": 13,
    "start_time": "2023-03-01T21:40:03.305Z"
   },
   {
    "duration": 3,
    "start_time": "2023-03-01T21:40:09.285Z"
   },
   {
    "duration": 161,
    "start_time": "2023-03-01T21:40:10.179Z"
   },
   {
    "duration": 13,
    "start_time": "2023-03-01T21:40:10.661Z"
   },
   {
    "duration": 5,
    "start_time": "2023-03-01T21:40:12.807Z"
   },
   {
    "duration": 14,
    "start_time": "2023-03-01T21:40:15.691Z"
   },
   {
    "duration": 237,
    "start_time": "2023-03-01T21:40:16.179Z"
   },
   {
    "duration": 39,
    "start_time": "2023-03-01T21:40:16.624Z"
   },
   {
    "duration": 888398,
    "start_time": "2023-03-01T21:40:29.461Z"
   },
   {
    "duration": 1613,
    "start_time": "2023-03-02T06:32:47.566Z"
   },
   {
    "duration": 2957,
    "start_time": "2023-03-02T06:32:49.182Z"
   },
   {
    "duration": 22,
    "start_time": "2023-03-02T06:32:52.141Z"
   },
   {
    "duration": 149,
    "start_time": "2023-03-02T06:32:53.119Z"
   },
   {
    "duration": 4,
    "start_time": "2023-03-02T06:32:56.688Z"
   },
   {
    "duration": 340,
    "start_time": "2023-03-02T06:32:57.275Z"
   },
   {
    "duration": 139,
    "start_time": "2023-03-02T06:32:59.872Z"
   },
   {
    "duration": 27,
    "start_time": "2023-03-02T06:33:02.223Z"
   },
   {
    "duration": 189,
    "start_time": "2023-03-02T06:33:03.774Z"
   },
   {
    "duration": 402,
    "start_time": "2023-03-02T06:33:04.540Z"
   },
   {
    "duration": 84,
    "start_time": "2023-03-02T06:33:06.441Z"
   },
   {
    "duration": 664,
    "start_time": "2023-03-02T06:33:09.922Z"
   },
   {
    "duration": 12,
    "start_time": "2023-03-02T06:33:10.589Z"
   },
   {
    "duration": 35,
    "start_time": "2023-03-02T06:33:10.622Z"
   },
   {
    "duration": 203,
    "start_time": "2023-03-02T06:33:11.044Z"
   },
   {
    "duration": 21,
    "start_time": "2023-03-02T06:33:11.249Z"
   },
   {
    "duration": 35,
    "start_time": "2023-03-02T06:33:11.610Z"
   },
   {
    "duration": 17,
    "start_time": "2023-03-02T06:33:12.001Z"
   },
   {
    "duration": 389,
    "start_time": "2023-03-02T06:33:12.382Z"
   },
   {
    "duration": 20,
    "start_time": "2023-03-02T06:33:12.774Z"
   },
   {
    "duration": 31,
    "start_time": "2023-03-02T06:33:13.389Z"
   },
   {
    "duration": 789,
    "start_time": "2023-03-02T06:33:18.296Z"
   },
   {
    "duration": 24,
    "start_time": "2023-03-02T06:33:19.088Z"
   },
   {
    "duration": 844,
    "start_time": "2023-03-02T06:33:21.768Z"
   },
   {
    "duration": 14,
    "start_time": "2023-03-02T06:33:22.856Z"
   },
   {
    "duration": 3,
    "start_time": "2023-03-02T06:33:26.743Z"
   },
   {
    "duration": 181,
    "start_time": "2023-03-02T06:33:29.130Z"
   },
   {
    "duration": 14,
    "start_time": "2023-03-02T06:33:29.690Z"
   },
   {
    "duration": 5,
    "start_time": "2023-03-02T06:33:30.410Z"
   },
   {
    "duration": 26,
    "start_time": "2023-03-02T06:33:34.128Z"
   },
   {
    "duration": 282,
    "start_time": "2023-03-02T06:33:34.542Z"
   },
   {
    "duration": 55,
    "start_time": "2023-03-02T06:33:35.796Z"
   },
   {
    "duration": 78847,
    "start_time": "2023-03-02T06:33:39.678Z"
   },
   {
    "duration": 67440,
    "start_time": "2023-03-02T06:34:58.528Z"
   },
   {
    "duration": 162288,
    "start_time": "2023-03-02T06:36:05.970Z"
   },
   {
    "duration": 221,
    "start_time": "2023-03-02T06:43:36.674Z"
   },
   {
    "duration": 1375766,
    "start_time": "2023-03-02T06:44:27.522Z"
   },
   {
    "duration": 206464,
    "start_time": "2023-03-02T07:07:46.863Z"
   },
   {
    "duration": 4,
    "start_time": "2023-03-02T07:22:30.440Z"
   },
   {
    "duration": 5,
    "start_time": "2023-03-02T07:23:05.173Z"
   },
   {
    "duration": 110,
    "start_time": "2023-03-02T07:23:47.129Z"
   },
   {
    "duration": 4,
    "start_time": "2023-03-02T07:24:08.082Z"
   },
   {
    "duration": 36,
    "start_time": "2023-03-02T07:25:01.555Z"
   },
   {
    "duration": 6,
    "start_time": "2023-03-02T07:25:02.785Z"
   },
   {
    "duration": 163,
    "start_time": "2023-03-02T07:33:25.092Z"
   },
   {
    "duration": 70,
    "start_time": "2023-03-02T07:33:28.913Z"
   },
   {
    "duration": 6,
    "start_time": "2023-03-02T07:33:29.537Z"
   },
   {
    "duration": 2418,
    "start_time": "2023-03-02T07:33:39.460Z"
   },
   {
    "duration": 812,
    "start_time": "2023-03-02T07:33:46.152Z"
   },
   {
    "duration": 5,
    "start_time": "2023-03-02T07:33:49.295Z"
   },
   {
    "duration": 13,
    "start_time": "2023-03-02T07:33:55.426Z"
   },
   {
    "duration": 224,
    "start_time": "2023-03-02T07:34:25.703Z"
   },
   {
    "duration": 5,
    "start_time": "2023-03-02T07:34:26.660Z"
   },
   {
    "duration": 15,
    "start_time": "2023-03-02T07:34:34.480Z"
   },
   {
    "duration": 5,
    "start_time": "2023-03-02T07:40:25.400Z"
   },
   {
    "duration": 19,
    "start_time": "2023-03-02T07:40:36.760Z"
   },
   {
    "duration": 6,
    "start_time": "2023-03-02T07:41:29.282Z"
   },
   {
    "duration": 4,
    "start_time": "2023-03-02T07:41:57.057Z"
   },
   {
    "duration": 191,
    "start_time": "2023-03-02T07:42:04.466Z"
   },
   {
    "duration": 4,
    "start_time": "2023-03-02T07:42:32.339Z"
   },
   {
    "duration": 4,
    "start_time": "2023-03-02T07:42:59.974Z"
   },
   {
    "duration": 16,
    "start_time": "2023-03-02T07:43:08.491Z"
   },
   {
    "duration": 1269,
    "start_time": "2023-03-03T07:33:59.786Z"
   },
   {
    "duration": 1034,
    "start_time": "2023-03-03T07:34:01.057Z"
   },
   {
    "duration": 21,
    "start_time": "2023-03-03T07:34:02.093Z"
   },
   {
    "duration": 134,
    "start_time": "2023-03-03T07:34:02.322Z"
   },
   {
    "duration": 3,
    "start_time": "2023-03-03T07:34:05.545Z"
   },
   {
    "duration": 298,
    "start_time": "2023-03-03T07:34:06.034Z"
   },
   {
    "duration": 104,
    "start_time": "2023-03-03T07:34:09.338Z"
   },
   {
    "duration": 29,
    "start_time": "2023-03-03T07:34:10.241Z"
   },
   {
    "duration": 169,
    "start_time": "2023-03-03T07:34:12.719Z"
   },
   {
    "duration": 367,
    "start_time": "2023-03-03T07:34:13.588Z"
   },
   {
    "duration": 77,
    "start_time": "2023-03-03T07:34:24.426Z"
   },
   {
    "duration": 563,
    "start_time": "2023-03-03T07:34:28.201Z"
   },
   {
    "duration": 11,
    "start_time": "2023-03-03T07:34:28.766Z"
   },
   {
    "duration": 32,
    "start_time": "2023-03-03T07:34:28.820Z"
   },
   {
    "duration": 173,
    "start_time": "2023-03-03T07:34:29.752Z"
   },
   {
    "duration": 16,
    "start_time": "2023-03-03T07:34:29.935Z"
   },
   {
    "duration": 31,
    "start_time": "2023-03-03T07:34:31.564Z"
   },
   {
    "duration": 23,
    "start_time": "2023-03-03T07:36:28.228Z"
   },
   {
    "duration": 16,
    "start_time": "2023-03-03T07:36:39.132Z"
   },
   {
    "duration": 338,
    "start_time": "2023-03-03T07:36:40.916Z"
   },
   {
    "duration": 15,
    "start_time": "2023-03-03T07:36:41.973Z"
   },
   {
    "duration": 23,
    "start_time": "2023-03-03T07:36:43.228Z"
   },
   {
    "duration": 480,
    "start_time": "2023-03-03T07:38:34.978Z"
   },
   {
    "duration": 14,
    "start_time": "2023-03-03T07:38:35.775Z"
   },
   {
    "duration": 736,
    "start_time": "2023-03-03T07:38:37.170Z"
   },
   {
    "duration": 13,
    "start_time": "2023-03-03T07:38:37.907Z"
   },
   {
    "duration": 22,
    "start_time": "2023-03-03T08:04:48.466Z"
   },
   {
    "duration": 56,
    "start_time": "2023-03-03T08:05:28.349Z"
   },
   {
    "duration": 74,
    "start_time": "2023-03-03T09:26:48.533Z"
   },
   {
    "duration": 457,
    "start_time": "2023-03-03T09:26:55.286Z"
   },
   {
    "duration": 16,
    "start_time": "2023-03-03T09:26:56.869Z"
   },
   {
    "duration": 4,
    "start_time": "2023-03-03T09:27:05.583Z"
   },
   {
    "duration": 582,
    "start_time": "2023-03-03T09:27:16.097Z"
   },
   {
    "duration": 86,
    "start_time": "2023-03-03T09:28:07.975Z"
   },
   {
    "duration": 477,
    "start_time": "2023-03-03T09:28:11.185Z"
   },
   {
    "duration": 228,
    "start_time": "2023-03-03T09:28:19.371Z"
   },
   {
    "duration": 90,
    "start_time": "2023-03-03T09:28:57.088Z"
   },
   {
    "duration": 413,
    "start_time": "2023-03-03T09:29:01.162Z"
   },
   {
    "duration": 26,
    "start_time": "2023-03-03T09:29:03.599Z"
   },
   {
    "duration": 118,
    "start_time": "2023-03-03T09:29:09.189Z"
   },
   {
    "duration": 57,
    "start_time": "2023-03-03T09:29:50.463Z"
   },
   {
    "duration": 15,
    "start_time": "2023-03-03T09:30:23.452Z"
   },
   {
    "duration": 61,
    "start_time": "2023-03-03T09:30:24.272Z"
   },
   {
    "duration": 365,
    "start_time": "2023-03-03T09:30:28.186Z"
   },
   {
    "duration": 20,
    "start_time": "2023-03-03T09:30:30.175Z"
   },
   {
    "duration": 127,
    "start_time": "2023-03-03T09:30:35.565Z"
   },
   {
    "duration": 517,
    "start_time": "2023-03-03T09:31:04.631Z"
   },
   {
    "duration": 16,
    "start_time": "2023-03-03T09:31:05.356Z"
   },
   {
    "duration": 166,
    "start_time": "2023-03-03T09:31:12.557Z"
   },
   {
    "duration": 152,
    "start_time": "2023-03-03T09:31:26.136Z"
   },
   {
    "duration": 5,
    "start_time": "2023-03-03T09:31:43.028Z"
   },
   {
    "duration": 782,
    "start_time": "2023-03-03T09:31:43.955Z"
   },
   {
    "duration": 13,
    "start_time": "2023-03-03T09:31:44.739Z"
   },
   {
    "duration": 157,
    "start_time": "2023-03-03T09:31:45.902Z"
   },
   {
    "duration": 3,
    "start_time": "2023-03-03T09:31:46.292Z"
   },
   {
    "duration": 357,
    "start_time": "2023-03-03T09:31:46.527Z"
   },
   {
    "duration": 101,
    "start_time": "2023-03-03T09:31:46.959Z"
   },
   {
    "duration": 17,
    "start_time": "2023-03-03T09:31:47.627Z"
   },
   {
    "duration": 167,
    "start_time": "2023-03-03T09:31:48.220Z"
   },
   {
    "duration": 342,
    "start_time": "2023-03-03T09:31:48.431Z"
   },
   {
    "duration": 95,
    "start_time": "2023-03-03T09:31:49.752Z"
   },
   {
    "duration": 294,
    "start_time": "2023-03-03T09:31:50.687Z"
   },
   {
    "duration": 9,
    "start_time": "2023-03-03T09:31:50.983Z"
   },
   {
    "duration": 22,
    "start_time": "2023-03-03T09:31:51.251Z"
   },
   {
    "duration": 193,
    "start_time": "2023-03-03T09:31:51.831Z"
   },
   {
    "duration": 17,
    "start_time": "2023-03-03T09:31:52.026Z"
   },
   {
    "duration": 24,
    "start_time": "2023-03-03T09:31:52.428Z"
   },
   {
    "duration": 17,
    "start_time": "2023-03-03T09:31:53.168Z"
   },
   {
    "duration": 283,
    "start_time": "2023-03-03T09:31:54.050Z"
   },
   {
    "duration": 15,
    "start_time": "2023-03-03T09:31:54.453Z"
   },
   {
    "duration": 23,
    "start_time": "2023-03-03T09:31:56.251Z"
   },
   {
    "duration": 507,
    "start_time": "2023-03-03T09:32:03.960Z"
   },
   {
    "duration": 19,
    "start_time": "2023-03-03T09:32:06.653Z"
   },
   {
    "duration": 832,
    "start_time": "2023-03-03T09:32:10.555Z"
   },
   {
    "duration": 19,
    "start_time": "2023-03-03T09:32:11.608Z"
   },
   {
    "duration": 3,
    "start_time": "2023-03-03T09:32:15.873Z"
   },
   {
    "duration": 166,
    "start_time": "2023-03-03T09:32:17.450Z"
   },
   {
    "duration": 14,
    "start_time": "2023-03-03T09:32:24.663Z"
   },
   {
    "duration": 8,
    "start_time": "2023-03-03T09:32:25.327Z"
   },
   {
    "duration": 13,
    "start_time": "2023-03-03T09:32:29.159Z"
   },
   {
    "duration": 250,
    "start_time": "2023-03-03T09:32:39.530Z"
   },
   {
    "duration": 42,
    "start_time": "2023-03-03T09:32:44.372Z"
   },
   {
    "duration": 201264,
    "start_time": "2023-03-03T09:32:47.455Z"
   },
   {
    "duration": 278,
    "start_time": "2023-03-03T09:36:33.836Z"
   },
   {
    "duration": 6,
    "start_time": "2023-03-03T09:36:34.827Z"
   },
   {
    "duration": 21,
    "start_time": "2023-03-03T09:36:56.731Z"
   },
   {
    "duration": 63,
    "start_time": "2023-03-03T09:36:59.551Z"
   },
   {
    "duration": 368,
    "start_time": "2023-03-03T09:37:18.905Z"
   },
   {
    "duration": 126,
    "start_time": "2023-03-03T09:37:28.831Z"
   },
   {
    "duration": 16,
    "start_time": "2023-03-03T09:38:00.132Z"
   },
   {
    "duration": 22,
    "start_time": "2023-03-03T09:40:29.698Z"
   },
   {
    "duration": 37,
    "start_time": "2023-03-03T09:40:57.021Z"
   },
   {
    "duration": 24,
    "start_time": "2023-03-03T09:41:30.305Z"
   },
   {
    "duration": 11,
    "start_time": "2023-03-03T09:41:56.769Z"
   },
   {
    "duration": 10,
    "start_time": "2023-03-03T09:43:28.634Z"
   },
   {
    "duration": 3,
    "start_time": "2023-03-03T09:44:48.766Z"
   },
   {
    "duration": 289,
    "start_time": "2023-03-03T09:44:51.388Z"
   },
   {
    "duration": 124,
    "start_time": "2023-03-03T09:45:26.575Z"
   },
   {
    "duration": 13,
    "start_time": "2023-03-03T09:47:19.965Z"
   },
   {
    "duration": 63,
    "start_time": "2023-03-03T09:47:20.490Z"
   },
   {
    "duration": 10,
    "start_time": "2023-03-03T09:47:43.257Z"
   },
   {
    "duration": 15,
    "start_time": "2023-03-03T09:52:37.970Z"
   },
   {
    "duration": 55,
    "start_time": "2023-03-03T09:52:39.319Z"
   },
   {
    "duration": 1344,
    "start_time": "2023-03-03T09:52:39.964Z"
   },
   {
    "duration": 45,
    "start_time": "2023-03-03T09:53:28.200Z"
   },
   {
    "duration": 22,
    "start_time": "2023-03-03T09:53:35.964Z"
   },
   {
    "duration": 15,
    "start_time": "2023-03-03T09:55:05.077Z"
   },
   {
    "duration": 558,
    "start_time": "2023-03-03T09:55:16.374Z"
   },
   {
    "duration": 15,
    "start_time": "2023-03-03T09:55:17.562Z"
   },
   {
    "duration": 178,
    "start_time": "2023-03-03T09:55:28.940Z"
   },
   {
    "duration": 243,
    "start_time": "2023-03-03T09:55:37.062Z"
   },
   {
    "duration": 1345,
    "start_time": "2023-03-03T09:55:46.760Z"
   },
   {
    "duration": 16,
    "start_time": "2023-03-03T09:57:30.823Z"
   },
   {
    "duration": 59,
    "start_time": "2023-03-03T09:57:31.890Z"
   },
   {
    "duration": 1423,
    "start_time": "2023-03-03T09:57:42.769Z"
   },
   {
    "duration": 18,
    "start_time": "2023-03-03T09:58:11.917Z"
   },
   {
    "duration": 57,
    "start_time": "2023-03-03T09:58:23.391Z"
   },
   {
    "duration": 1570,
    "start_time": "2023-03-03T09:58:25.462Z"
   },
   {
    "duration": 56,
    "start_time": "2023-03-03T09:58:33.862Z"
   },
   {
    "duration": 20,
    "start_time": "2023-03-03T09:58:34.537Z"
   },
   {
    "duration": 5,
    "start_time": "2023-03-03T09:59:09.033Z"
   },
   {
    "duration": 10,
    "start_time": "2023-03-03T09:59:26.078Z"
   },
   {
    "duration": 32,
    "start_time": "2023-03-03T10:00:17.317Z"
   },
   {
    "duration": 23,
    "start_time": "2023-03-03T10:00:35.026Z"
   },
   {
    "duration": 8,
    "start_time": "2023-03-03T10:04:13.288Z"
   },
   {
    "duration": 27,
    "start_time": "2023-03-03T10:04:27.099Z"
   },
   {
    "duration": 52,
    "start_time": "2023-03-03T10:04:31.624Z"
   },
   {
    "duration": 15,
    "start_time": "2023-03-03T10:04:34.302Z"
   },
   {
    "duration": 57,
    "start_time": "2023-03-03T10:04:43.902Z"
   },
   {
    "duration": 8,
    "start_time": "2023-03-03T10:04:44.570Z"
   },
   {
    "duration": 5,
    "start_time": "2023-03-03T10:04:55.497Z"
   },
   {
    "duration": 19,
    "start_time": "2023-03-03T10:07:10.029Z"
   },
   {
    "duration": 78,
    "start_time": "2023-03-03T10:07:11.157Z"
   },
   {
    "duration": 344,
    "start_time": "2023-03-03T10:07:45.877Z"
   },
   {
    "duration": 15,
    "start_time": "2023-03-03T10:07:46.480Z"
   },
   {
    "duration": 338,
    "start_time": "2023-03-03T10:08:12.633Z"
   },
   {
    "duration": 16,
    "start_time": "2023-03-03T10:08:13.138Z"
   },
   {
    "duration": 202297,
    "start_time": "2023-03-03T10:08:36.724Z"
   },
   {
    "duration": 15,
    "start_time": "2023-03-03T10:14:19.104Z"
   },
   {
    "duration": 54,
    "start_time": "2023-03-03T10:14:20.011Z"
   },
   {
    "duration": 4,
    "start_time": "2023-03-03T10:23:55.924Z"
   },
   {
    "duration": 9,
    "start_time": "2023-03-03T10:25:51.257Z"
   },
   {
    "duration": 16,
    "start_time": "2023-03-03T10:25:53.614Z"
   },
   {
    "duration": 12,
    "start_time": "2023-03-03T10:28:49.338Z"
   },
   {
    "duration": 12,
    "start_time": "2023-03-03T10:28:52.701Z"
   },
   {
    "duration": 18,
    "start_time": "2023-03-03T10:28:54.079Z"
   },
   {
    "duration": 9,
    "start_time": "2023-03-03T10:29:58.891Z"
   },
   {
    "duration": 12,
    "start_time": "2023-03-03T10:30:17.315Z"
   },
   {
    "duration": 7,
    "start_time": "2023-03-03T10:31:22.515Z"
   },
   {
    "duration": 20,
    "start_time": "2023-03-03T10:32:37.369Z"
   },
   {
    "duration": 52,
    "start_time": "2023-03-03T10:32:40.340Z"
   },
   {
    "duration": 11,
    "start_time": "2023-03-03T10:32:57.663Z"
   },
   {
    "duration": 13,
    "start_time": "2023-03-03T10:33:26.971Z"
   },
   {
    "duration": 7,
    "start_time": "2023-03-03T10:34:15.186Z"
   },
   {
    "duration": 10,
    "start_time": "2023-03-03T10:35:12.760Z"
   },
   {
    "duration": 17,
    "start_time": "2023-03-03T10:35:17.269Z"
   },
   {
    "duration": 22,
    "start_time": "2023-03-03T10:36:14.893Z"
   },
   {
    "duration": 23,
    "start_time": "2023-03-03T10:36:24.316Z"
   },
   {
    "duration": 25,
    "start_time": "2023-03-03T10:36:27.364Z"
   },
   {
    "duration": 20,
    "start_time": "2023-03-03T10:36:29.926Z"
   },
   {
    "duration": 22,
    "start_time": "2023-03-03T10:36:33.872Z"
   },
   {
    "duration": 20,
    "start_time": "2023-03-03T10:36:37.232Z"
   },
   {
    "duration": 4,
    "start_time": "2023-03-03T10:36:40.456Z"
   },
   {
    "duration": 7,
    "start_time": "2023-03-03T10:37:11.635Z"
   },
   {
    "duration": 28,
    "start_time": "2023-03-03T10:37:15.294Z"
   },
   {
    "duration": 22,
    "start_time": "2023-03-03T10:37:16.186Z"
   },
   {
    "duration": 12,
    "start_time": "2023-03-03T10:40:27.928Z"
   },
   {
    "duration": 10,
    "start_time": "2023-03-03T10:41:51.966Z"
   },
   {
    "duration": 21,
    "start_time": "2023-03-03T10:42:29.724Z"
   },
   {
    "duration": 13,
    "start_time": "2023-03-03T10:42:36.036Z"
   },
   {
    "duration": 10,
    "start_time": "2023-03-03T10:43:07.230Z"
   },
   {
    "duration": 28,
    "start_time": "2023-03-03T10:45:01.527Z"
   },
   {
    "duration": 13,
    "start_time": "2023-03-03T10:54:45.728Z"
   },
   {
    "duration": 51,
    "start_time": "2023-03-03T10:54:50.806Z"
   },
   {
    "duration": 19,
    "start_time": "2023-03-03T10:55:09.966Z"
   },
   {
    "duration": 12,
    "start_time": "2023-03-03T10:55:18.317Z"
   },
   {
    "duration": 11,
    "start_time": "2023-03-03T10:55:42.828Z"
   },
   {
    "duration": 7,
    "start_time": "2023-03-03T10:56:05.543Z"
   },
   {
    "duration": 9,
    "start_time": "2023-03-03T10:56:34.695Z"
   },
   {
    "duration": 18,
    "start_time": "2023-03-03T10:56:46.284Z"
   },
   {
    "duration": 932,
    "start_time": "2023-03-03T10:58:30.564Z"
   },
   {
    "duration": 11,
    "start_time": "2023-03-03T11:00:29.578Z"
   },
   {
    "duration": 11,
    "start_time": "2023-03-03T11:00:30.331Z"
   },
   {
    "duration": 9,
    "start_time": "2023-03-03T11:01:48.303Z"
   },
   {
    "duration": 6,
    "start_time": "2023-03-03T11:03:04.082Z"
   },
   {
    "duration": 8,
    "start_time": "2023-03-03T11:03:13.009Z"
   },
   {
    "duration": 2,
    "start_time": "2023-03-03T11:03:23.915Z"
   },
   {
    "duration": 91,
    "start_time": "2023-03-03T11:03:24.373Z"
   },
   {
    "duration": 18,
    "start_time": "2023-03-03T11:03:41.282Z"
   },
   {
    "duration": 70,
    "start_time": "2023-03-03T11:03:43.136Z"
   },
   {
    "duration": 12,
    "start_time": "2023-03-03T11:03:46.506Z"
   },
   {
    "duration": 8,
    "start_time": "2023-03-03T11:03:49.080Z"
   },
   {
    "duration": 11,
    "start_time": "2023-03-03T11:03:51.221Z"
   },
   {
    "duration": 15,
    "start_time": "2023-03-03T11:03:52.808Z"
   },
   {
    "duration": 10,
    "start_time": "2023-03-03T11:04:03.661Z"
   },
   {
    "duration": 10,
    "start_time": "2023-03-03T11:04:38.057Z"
   },
   {
    "duration": 17,
    "start_time": "2023-03-03T11:04:57.481Z"
   },
   {
    "duration": 18,
    "start_time": "2023-03-03T12:55:25.034Z"
   },
   {
    "duration": 1027,
    "start_time": "2023-03-03T12:56:47.473Z"
   },
   {
    "duration": 7686,
    "start_time": "2023-03-03T12:58:03.248Z"
   },
   {
    "duration": 1058,
    "start_time": "2023-03-03T12:58:25.487Z"
   },
   {
    "duration": 66,
    "start_time": "2023-03-03T12:58:46.886Z"
   },
   {
    "duration": 1090,
    "start_time": "2023-03-03T12:58:53.039Z"
   },
   {
    "duration": 820,
    "start_time": "2023-03-03T12:58:54.131Z"
   },
   {
    "duration": 18,
    "start_time": "2023-03-03T12:58:54.953Z"
   },
   {
    "duration": 162,
    "start_time": "2023-03-03T12:58:55.599Z"
   },
   {
    "duration": 3,
    "start_time": "2023-03-03T12:58:56.376Z"
   },
   {
    "duration": 402,
    "start_time": "2023-03-03T12:58:56.600Z"
   },
   {
    "duration": 102,
    "start_time": "2023-03-03T12:58:57.548Z"
   },
   {
    "duration": 28,
    "start_time": "2023-03-03T12:58:58.327Z"
   },
   {
    "duration": 205,
    "start_time": "2023-03-03T12:58:58.895Z"
   },
   {
    "duration": 414,
    "start_time": "2023-03-03T12:58:59.108Z"
   },
   {
    "duration": 93,
    "start_time": "2023-03-03T12:58:59.651Z"
   },
   {
    "duration": 528,
    "start_time": "2023-03-03T12:59:00.593Z"
   },
   {
    "duration": 14,
    "start_time": "2023-03-03T12:59:01.123Z"
   },
   {
    "duration": 42,
    "start_time": "2023-03-03T12:59:01.193Z"
   },
   {
    "duration": 188,
    "start_time": "2023-03-03T12:59:01.751Z"
   },
   {
    "duration": 16,
    "start_time": "2023-03-03T12:59:01.945Z"
   },
   {
    "duration": 30,
    "start_time": "2023-03-03T12:59:02.327Z"
   },
   {
    "duration": 16,
    "start_time": "2023-03-03T12:59:02.930Z"
   },
   {
    "duration": 323,
    "start_time": "2023-03-03T12:59:03.272Z"
   },
   {
    "duration": 23,
    "start_time": "2023-03-03T12:59:03.596Z"
   },
   {
    "duration": 21,
    "start_time": "2023-03-03T12:59:04.431Z"
   },
   {
    "duration": 6,
    "start_time": "2023-03-03T12:59:04.976Z"
   },
   {
    "duration": 96,
    "start_time": "2023-03-03T12:59:05.166Z"
   },
   {
    "duration": 14,
    "start_time": "2023-03-03T12:59:17.350Z"
   },
   {
    "duration": 67,
    "start_time": "2023-03-03T12:59:18.102Z"
   },
   {
    "duration": 18,
    "start_time": "2023-03-03T12:59:22.740Z"
   },
   {
    "duration": 7,
    "start_time": "2023-03-03T12:59:24.672Z"
   },
   {
    "duration": 28,
    "start_time": "2023-03-03T12:59:26.301Z"
   },
   {
    "duration": 53672,
    "start_time": "2023-03-03T12:59:27.153Z"
   },
   {
    "duration": 24,
    "start_time": "2023-03-03T13:00:20.827Z"
   },
   {
    "duration": 52,
    "start_time": "2023-03-03T13:20:11.931Z"
   },
   {
    "duration": 15,
    "start_time": "2023-03-03T13:22:43.250Z"
   },
   {
    "duration": 54,
    "start_time": "2023-03-03T13:22:45.456Z"
   },
   {
    "duration": 13,
    "start_time": "2023-03-03T13:22:58.123Z"
   },
   {
    "duration": 7,
    "start_time": "2023-03-03T13:23:17.237Z"
   },
   {
    "duration": 12,
    "start_time": "2023-03-03T13:23:21.035Z"
   },
   {
    "duration": 18,
    "start_time": "2023-03-03T13:23:46.061Z"
   },
   {
    "duration": 56850,
    "start_time": "2023-03-03T13:23:47.310Z"
   },
   {
    "duration": 15440,
    "start_time": "2023-03-03T13:24:50.924Z"
   },
   {
    "duration": 71,
    "start_time": "2023-03-03T13:27:39.136Z"
   },
   {
    "duration": 21740,
    "start_time": "2023-03-03T13:28:29.227Z"
   },
   {
    "duration": 24277,
    "start_time": "2023-03-03T13:29:15.405Z"
   },
   {
    "duration": 4,
    "start_time": "2023-03-03T13:29:48.853Z"
   },
   {
    "duration": 60846,
    "start_time": "2023-03-03T13:29:53.957Z"
   },
   {
    "duration": 400002,
    "start_time": "2023-03-03T13:33:37.946Z"
   },
   {
    "duration": 5,
    "start_time": "2023-03-03T13:41:06.729Z"
   },
   {
    "duration": 261415,
    "start_time": "2023-03-03T13:41:50.801Z"
   },
   {
    "duration": 5,
    "start_time": "2023-03-03T13:46:23.106Z"
   },
   {
    "duration": 21,
    "start_time": "2023-03-03T13:51:55.945Z"
   },
   {
    "duration": 50,
    "start_time": "2023-03-03T13:52:25.532Z"
   },
   {
    "duration": 338,
    "start_time": "2023-03-03T13:53:04.273Z"
   },
   {
    "duration": 14,
    "start_time": "2023-03-03T13:53:05.254Z"
   },
   {
    "duration": 146,
    "start_time": "2023-03-03T13:54:23.753Z"
   },
   {
    "duration": 14,
    "start_time": "2023-03-03T13:54:34.234Z"
   },
   {
    "duration": 62314,
    "start_time": "2023-03-03T13:55:16.799Z"
   },
   {
    "duration": 42,
    "start_time": "2023-03-03T13:59:49.999Z"
   },
   {
    "duration": 57,
    "start_time": "2023-03-03T14:01:20.908Z"
   },
   {
    "duration": 15,
    "start_time": "2023-03-03T14:01:38.153Z"
   },
   {
    "duration": 54,
    "start_time": "2023-03-03T14:01:39.609Z"
   },
   {
    "duration": 21,
    "start_time": "2023-03-03T14:01:43.381Z"
   },
   {
    "duration": 543,
    "start_time": "2023-03-03T14:01:49.344Z"
   },
   {
    "duration": 13,
    "start_time": "2023-03-03T14:02:05.267Z"
   },
   {
    "duration": 2,
    "start_time": "2023-03-03T14:05:41.767Z"
   },
   {
    "duration": 2,
    "start_time": "2023-03-03T14:05:42.480Z"
   },
   {
    "duration": 636,
    "start_time": "2023-03-03T14:06:15.724Z"
   },
   {
    "duration": 6,
    "start_time": "2023-03-03T14:20:25.367Z"
   },
   {
    "duration": 15,
    "start_time": "2023-03-03T14:20:39.478Z"
   },
   {
    "duration": 15,
    "start_time": "2023-03-03T14:20:44.893Z"
   },
   {
    "duration": 20,
    "start_time": "2023-03-03T14:20:54.413Z"
   },
   {
    "duration": 16,
    "start_time": "2023-03-03T14:21:20.657Z"
   },
   {
    "duration": 7,
    "start_time": "2023-03-03T14:21:35.729Z"
   },
   {
    "duration": 52,
    "start_time": "2023-03-03T14:21:41.443Z"
   },
   {
    "duration": 16,
    "start_time": "2023-03-03T14:21:42.325Z"
   },
   {
    "duration": 7,
    "start_time": "2023-03-03T14:21:42.975Z"
   },
   {
    "duration": 19,
    "start_time": "2023-03-03T14:22:06.085Z"
   },
   {
    "duration": 26,
    "start_time": "2023-03-03T14:39:46.536Z"
   },
   {
    "duration": 51,
    "start_time": "2023-03-03T14:39:47.213Z"
   },
   {
    "duration": 12,
    "start_time": "2023-03-03T14:40:46.240Z"
   },
   {
    "duration": 13,
    "start_time": "2023-03-03T14:41:03.226Z"
   },
   {
    "duration": 7,
    "start_time": "2023-03-03T14:41:09.218Z"
   },
   {
    "duration": 4,
    "start_time": "2023-03-03T14:41:26.835Z"
   },
   {
    "duration": 68,
    "start_time": "2023-03-03T14:46:51.516Z"
   },
   {
    "duration": 5,
    "start_time": "2023-03-03T14:47:18.724Z"
   },
   {
    "duration": 121,
    "start_time": "2023-03-03T14:47:27.411Z"
   },
   {
    "duration": 76,
    "start_time": "2023-03-03T14:48:39.412Z"
   },
   {
    "duration": 79,
    "start_time": "2023-03-03T14:48:47.798Z"
   },
   {
    "duration": 1574,
    "start_time": "2023-03-03T14:49:22.077Z"
   },
   {
    "duration": 1030,
    "start_time": "2023-03-03T14:49:24.293Z"
   },
   {
    "duration": 21,
    "start_time": "2023-03-03T14:49:25.324Z"
   },
   {
    "duration": 128,
    "start_time": "2023-03-03T14:49:25.663Z"
   },
   {
    "duration": 3,
    "start_time": "2023-03-03T14:49:26.083Z"
   },
   {
    "duration": 283,
    "start_time": "2023-03-03T14:49:26.292Z"
   },
   {
    "duration": 112,
    "start_time": "2023-03-03T14:49:26.726Z"
   },
   {
    "duration": 26,
    "start_time": "2023-03-03T14:49:27.847Z"
   },
   {
    "duration": 171,
    "start_time": "2023-03-03T14:49:28.553Z"
   },
   {
    "duration": 370,
    "start_time": "2023-03-03T14:49:29.045Z"
   },
   {
    "duration": 98,
    "start_time": "2023-03-03T14:49:30.180Z"
   },
   {
    "duration": 465,
    "start_time": "2023-03-03T14:49:32.413Z"
   },
   {
    "duration": 11,
    "start_time": "2023-03-03T14:49:32.880Z"
   },
   {
    "duration": 34,
    "start_time": "2023-03-03T14:49:33.008Z"
   },
   {
    "duration": 175,
    "start_time": "2023-03-03T14:49:33.648Z"
   },
   {
    "duration": 16,
    "start_time": "2023-03-03T14:49:33.862Z"
   },
   {
    "duration": 32,
    "start_time": "2023-03-03T14:49:34.997Z"
   },
   {
    "duration": 16,
    "start_time": "2023-03-03T14:49:38.978Z"
   },
   {
    "duration": 283,
    "start_time": "2023-03-03T14:49:40.221Z"
   },
   {
    "duration": 14,
    "start_time": "2023-03-03T14:49:41.193Z"
   },
   {
    "duration": 22,
    "start_time": "2023-03-03T14:49:42.760Z"
   },
   {
    "duration": 13,
    "start_time": "2023-03-03T14:49:52.178Z"
   },
   {
    "duration": 58,
    "start_time": "2023-03-03T14:49:55.982Z"
   },
   {
    "duration": 17,
    "start_time": "2023-03-03T14:50:02.140Z"
   },
   {
    "duration": 8,
    "start_time": "2023-03-03T14:50:09.069Z"
   },
   {
    "duration": 3,
    "start_time": "2023-03-03T14:50:27.851Z"
   },
   {
    "duration": 2,
    "start_time": "2023-03-03T14:51:43.381Z"
   },
   {
    "duration": 269,
    "start_time": "2023-03-03T14:51:53.835Z"
   },
   {
    "duration": 10,
    "start_time": "2023-03-03T14:53:38.521Z"
   },
   {
    "duration": 25,
    "start_time": "2023-03-03T14:54:23.434Z"
   },
   {
    "duration": 2991016,
    "start_time": "2023-03-03T14:54:51.440Z"
   },
   {
    "duration": 244398,
    "start_time": "2023-03-03T15:45:59.764Z"
   },
   {
    "duration": 5,
    "start_time": "2023-03-03T15:53:54.215Z"
   },
   {
    "duration": 62,
    "start_time": "2023-03-03T15:54:20.279Z"
   },
   {
    "duration": 161,
    "start_time": "2023-03-03T15:54:28.932Z"
   },
   {
    "duration": 15,
    "start_time": "2023-03-03T15:54:32.102Z"
   },
   {
    "duration": 6,
    "start_time": "2023-03-03T15:54:38.866Z"
   },
   {
    "duration": 61,
    "start_time": "2023-03-03T15:54:54.363Z"
   },
   {
    "duration": 116,
    "start_time": "2023-03-03T15:55:11.289Z"
   },
   {
    "duration": 210,
    "start_time": "2023-03-03T15:56:36.299Z"
   },
   {
    "duration": 76,
    "start_time": "2023-03-03T15:59:07.167Z"
   },
   {
    "duration": 124,
    "start_time": "2023-03-03T16:02:29.882Z"
   },
   {
    "duration": 63,
    "start_time": "2023-03-03T16:03:03.168Z"
   },
   {
    "duration": 77,
    "start_time": "2023-03-03T16:03:21.678Z"
   },
   {
    "duration": 59,
    "start_time": "2023-03-03T16:06:44.840Z"
   },
   {
    "duration": 79,
    "start_time": "2023-03-03T16:08:27.238Z"
   },
   {
    "duration": 94,
    "start_time": "2023-03-03T16:10:48.779Z"
   },
   {
    "duration": 224,
    "start_time": "2023-03-03T16:11:11.985Z"
   },
   {
    "duration": 779,
    "start_time": "2023-03-03T16:22:31.783Z"
   },
   {
    "duration": 700,
    "start_time": "2023-03-03T16:22:58.671Z"
   },
   {
    "duration": 514,
    "start_time": "2023-03-03T16:31:38.285Z"
   },
   {
    "duration": 15,
    "start_time": "2023-03-03T16:31:38.822Z"
   },
   {
    "duration": 76,
    "start_time": "2023-03-03T16:45:27.832Z"
   },
   {
    "duration": 787,
    "start_time": "2023-03-03T16:45:53.567Z"
   },
   {
    "duration": 699,
    "start_time": "2023-03-03T16:46:06.298Z"
   },
   {
    "duration": 5,
    "start_time": "2023-03-03T16:55:31.031Z"
   },
   {
    "duration": 861,
    "start_time": "2023-03-03T16:55:32.183Z"
   },
   {
    "duration": 14,
    "start_time": "2023-03-03T16:55:33.047Z"
   },
   {
    "duration": 168,
    "start_time": "2023-03-03T16:55:33.086Z"
   },
   {
    "duration": 2,
    "start_time": "2023-03-03T16:55:33.875Z"
   },
   {
    "duration": 389,
    "start_time": "2023-03-03T16:55:34.160Z"
   },
   {
    "duration": 119,
    "start_time": "2023-03-03T16:55:34.553Z"
   },
   {
    "duration": 29,
    "start_time": "2023-03-03T16:55:35.094Z"
   },
   {
    "duration": 220,
    "start_time": "2023-03-03T16:55:35.935Z"
   },
   {
    "duration": 393,
    "start_time": "2023-03-03T16:55:36.379Z"
   },
   {
    "duration": 109,
    "start_time": "2023-03-03T16:55:37.400Z"
   },
   {
    "duration": 344,
    "start_time": "2023-03-03T16:55:39.031Z"
   },
   {
    "duration": 8,
    "start_time": "2023-03-03T16:55:39.377Z"
   },
   {
    "duration": 37,
    "start_time": "2023-03-03T16:55:39.702Z"
   },
   {
    "duration": 218,
    "start_time": "2023-03-03T16:55:40.693Z"
   },
   {
    "duration": 32,
    "start_time": "2023-03-03T16:55:41.193Z"
   },
   {
    "duration": 24,
    "start_time": "2023-03-03T16:55:42.078Z"
   },
   {
    "duration": 16,
    "start_time": "2023-03-03T16:55:43.333Z"
   },
   {
    "duration": 356,
    "start_time": "2023-03-03T16:55:45.233Z"
   },
   {
    "duration": 14,
    "start_time": "2023-03-03T16:55:45.636Z"
   },
   {
    "duration": 25,
    "start_time": "2023-03-03T16:55:47.094Z"
   },
   {
    "duration": 25,
    "start_time": "2023-03-03T16:55:52.105Z"
   },
   {
    "duration": 53,
    "start_time": "2023-03-03T16:55:52.627Z"
   },
   {
    "duration": 15,
    "start_time": "2023-03-03T16:55:53.083Z"
   },
   {
    "duration": 7,
    "start_time": "2023-03-03T16:55:53.891Z"
   },
   {
    "duration": 3,
    "start_time": "2023-03-03T16:55:54.691Z"
   },
   {
    "duration": 512,
    "start_time": "2023-03-03T16:55:58.879Z"
   },
   {
    "duration": 308,
    "start_time": "2023-03-03T16:55:59.530Z"
   },
   {
    "duration": 17,
    "start_time": "2023-03-03T16:56:02.775Z"
   },
   {
    "duration": 615,
    "start_time": "2023-03-03T16:56:04.771Z"
   },
   {
    "duration": 13,
    "start_time": "2023-03-03T16:56:08.543Z"
   },
   {
    "duration": 3,
    "start_time": "2023-03-03T16:56:14.431Z"
   },
   {
    "duration": 180537,
    "start_time": "2023-03-03T16:56:40.086Z"
   },
   {
    "duration": 287,
    "start_time": "2023-03-03T16:59:40.631Z"
   },
   {
    "duration": 8,
    "start_time": "2023-03-03T16:59:40.920Z"
   },
   {
    "duration": 62,
    "start_time": "2023-03-03T17:06:40.801Z"
   },
   {
    "duration": 788,
    "start_time": "2023-03-03T17:07:14.785Z"
   },
   {
    "duration": 5,
    "start_time": "2023-03-03T17:12:19.985Z"
   },
   {
    "duration": 204,
    "start_time": "2023-03-03T17:12:33.318Z"
   },
   {
    "duration": 6,
    "start_time": "2023-03-03T17:12:34.382Z"
   },
   {
    "duration": 153042,
    "start_time": "2023-03-03T17:14:46.005Z"
   },
   {
    "duration": 7,
    "start_time": "2023-03-03T17:17:29.104Z"
   },
   {
    "duration": 57,
    "start_time": "2023-03-03T17:17:31.668Z"
   },
   {
    "duration": 6,
    "start_time": "2023-03-03T17:17:32.883Z"
   },
   {
    "duration": 541989,
    "start_time": "2023-03-03T17:17:40.830Z"
   },
   {
    "duration": 4,
    "start_time": "2023-03-03T17:26:42.821Z"
   },
   {
    "duration": 789,
    "start_time": "2023-03-03T17:26:42.826Z"
   },
   {
    "duration": 5,
    "start_time": "2023-03-03T17:26:43.617Z"
   },
   {
    "duration": 5,
    "start_time": "2023-03-03T17:26:56.131Z"
   },
   {
    "duration": 792,
    "start_time": "2023-03-03T17:26:58.312Z"
   },
   {
    "duration": 5,
    "start_time": "2023-03-03T17:27:05.606Z"
   },
   {
    "duration": 1305,
    "start_time": "2023-03-04T20:01:26.103Z"
   },
   {
    "duration": 2986,
    "start_time": "2023-03-04T20:01:28.085Z"
   },
   {
    "duration": 20,
    "start_time": "2023-03-04T20:01:31.073Z"
   },
   {
    "duration": 125,
    "start_time": "2023-03-04T20:01:31.095Z"
   },
   {
    "duration": 4,
    "start_time": "2023-03-04T20:01:31.222Z"
   },
   {
    "duration": 386,
    "start_time": "2023-03-04T20:01:31.227Z"
   },
   {
    "duration": 118,
    "start_time": "2023-03-04T20:01:31.615Z"
   },
   {
    "duration": 31,
    "start_time": "2023-03-04T20:01:31.735Z"
   },
   {
    "duration": 186,
    "start_time": "2023-03-04T20:01:31.767Z"
   },
   {
    "duration": 364,
    "start_time": "2023-03-04T20:01:31.955Z"
   },
   {
    "duration": 70,
    "start_time": "2023-03-04T20:01:32.320Z"
   },
   {
    "duration": 633,
    "start_time": "2023-03-04T20:01:33.272Z"
   },
   {
    "duration": 13,
    "start_time": "2023-03-04T20:01:33.908Z"
   },
   {
    "duration": 56,
    "start_time": "2023-03-04T20:01:33.923Z"
   },
   {
    "duration": 186,
    "start_time": "2023-03-04T20:01:34.569Z"
   },
   {
    "duration": 18,
    "start_time": "2023-03-04T20:01:34.978Z"
   },
   {
    "duration": 33,
    "start_time": "2023-03-04T20:01:35.734Z"
   },
   {
    "duration": 16,
    "start_time": "2023-03-04T20:01:36.372Z"
   },
   {
    "duration": 359,
    "start_time": "2023-03-04T20:01:37.166Z"
   },
   {
    "duration": 15,
    "start_time": "2023-03-04T20:01:37.527Z"
   },
   {
    "duration": 24,
    "start_time": "2023-03-04T20:01:38.335Z"
   },
   {
    "duration": 13,
    "start_time": "2023-03-04T20:19:18.660Z"
   },
   {
    "duration": 65,
    "start_time": "2023-03-04T20:19:19.431Z"
   },
   {
    "duration": 17,
    "start_time": "2023-03-04T20:19:20.419Z"
   },
   {
    "duration": 8,
    "start_time": "2023-03-04T20:19:21.434Z"
   },
   {
    "duration": 4,
    "start_time": "2023-03-04T20:19:23.994Z"
   },
   {
    "duration": 617,
    "start_time": "2023-03-04T20:19:32.343Z"
   },
   {
    "duration": 306,
    "start_time": "2023-03-04T20:19:33.522Z"
   },
   {
    "duration": 4,
    "start_time": "2023-03-04T20:19:44.795Z"
   },
   {
    "duration": 69774,
    "start_time": "2023-03-04T20:19:49.081Z"
   },
   {
    "duration": 197,
    "start_time": "2023-03-04T20:36:51.660Z"
   },
   {
    "duration": 5,
    "start_time": "2023-03-04T20:36:52.644Z"
   },
   {
    "duration": 3566,
    "start_time": "2023-03-04T20:37:00.042Z"
   },
   {
    "duration": 15,
    "start_time": "2023-03-04T20:39:18.903Z"
   },
   {
    "duration": 53,
    "start_time": "2023-03-04T20:39:23.007Z"
   },
   {
    "duration": 16,
    "start_time": "2023-03-04T20:39:25.849Z"
   },
   {
    "duration": 8,
    "start_time": "2023-03-04T20:39:28.255Z"
   },
   {
    "duration": 5,
    "start_time": "2023-03-04T20:39:30.163Z"
   },
   {
    "duration": 3,
    "start_time": "2023-03-04T20:40:20.189Z"
   },
   {
    "duration": 3508,
    "start_time": "2023-03-04T20:40:27.175Z"
   },
   {
    "duration": 3331,
    "start_time": "2023-03-04T20:42:31.697Z"
   },
   {
    "duration": 9321,
    "start_time": "2023-03-04T20:44:03.129Z"
   },
   {
    "duration": 5,
    "start_time": "2023-03-04T20:44:28.694Z"
   },
   {
    "duration": 3597,
    "start_time": "2023-03-04T20:44:37.691Z"
   },
   {
    "duration": 5,
    "start_time": "2023-03-04T20:44:51.120Z"
   },
   {
    "duration": 808,
    "start_time": "2023-03-04T20:44:51.752Z"
   },
   {
    "duration": 14,
    "start_time": "2023-03-04T20:44:52.562Z"
   },
   {
    "duration": 124,
    "start_time": "2023-03-04T20:44:52.577Z"
   },
   {
    "duration": 3,
    "start_time": "2023-03-04T20:44:52.703Z"
   },
   {
    "duration": 311,
    "start_time": "2023-03-04T20:44:52.762Z"
   },
   {
    "duration": 79,
    "start_time": "2023-03-04T20:44:53.226Z"
   },
   {
    "duration": 22,
    "start_time": "2023-03-04T20:44:53.928Z"
   },
   {
    "duration": 175,
    "start_time": "2023-03-04T20:44:54.539Z"
   },
   {
    "duration": 312,
    "start_time": "2023-03-04T20:44:54.750Z"
   },
   {
    "duration": 75,
    "start_time": "2023-03-04T20:44:55.428Z"
   },
   {
    "duration": 310,
    "start_time": "2023-03-04T20:44:56.540Z"
   },
   {
    "duration": 9,
    "start_time": "2023-03-04T20:44:56.869Z"
   },
   {
    "duration": 24,
    "start_time": "2023-03-04T20:44:57.258Z"
   },
   {
    "duration": 202,
    "start_time": "2023-03-04T20:44:57.872Z"
   },
   {
    "duration": 16,
    "start_time": "2023-03-04T20:44:58.084Z"
   },
   {
    "duration": 25,
    "start_time": "2023-03-04T20:44:59.068Z"
   },
   {
    "duration": 17,
    "start_time": "2023-03-04T20:44:59.876Z"
   },
   {
    "duration": 278,
    "start_time": "2023-03-04T20:45:00.289Z"
   },
   {
    "duration": 16,
    "start_time": "2023-03-04T20:45:00.655Z"
   },
   {
    "duration": 22,
    "start_time": "2023-03-04T20:45:02.086Z"
   },
   {
    "duration": 16,
    "start_time": "2023-03-04T20:45:10.829Z"
   },
   {
    "duration": 71,
    "start_time": "2023-03-04T20:45:11.345Z"
   },
   {
    "duration": 16,
    "start_time": "2023-03-04T20:45:11.765Z"
   },
   {
    "duration": 7,
    "start_time": "2023-03-04T20:45:12.316Z"
   },
   {
    "duration": 4,
    "start_time": "2023-03-04T20:45:13.341Z"
   },
   {
    "duration": 3,
    "start_time": "2023-03-04T20:45:26.518Z"
   },
   {
    "duration": 3237,
    "start_time": "2023-03-04T20:45:31.429Z"
   },
   {
    "duration": 81,
    "start_time": "2023-03-04T20:48:38.618Z"
   },
   {
    "duration": 48119,
    "start_time": "2023-03-04T20:48:58.596Z"
   },
   {
    "duration": 13,
    "start_time": "2023-03-04T20:53:34.491Z"
   },
   {
    "duration": 7,
    "start_time": "2023-03-04T20:53:36.084Z"
   },
   {
    "duration": 3,
    "start_time": "2023-03-04T20:53:39.864Z"
   },
   {
    "duration": 46964,
    "start_time": "2023-03-04T20:53:46.409Z"
   },
   {
    "duration": 15,
    "start_time": "2023-03-04T20:54:40.249Z"
   },
   {
    "duration": 6,
    "start_time": "2023-03-04T20:54:59.876Z"
   },
   {
    "duration": 44611,
    "start_time": "2023-03-04T20:55:05.138Z"
   },
   {
    "duration": 15,
    "start_time": "2023-03-04T21:01:32.368Z"
   },
   {
    "duration": 5,
    "start_time": "2023-03-04T21:02:18.597Z"
   },
   {
    "duration": 1074,
    "start_time": "2023-03-04T21:02:33.381Z"
   },
   {
    "duration": 1514464,
    "start_time": "2023-03-04T21:06:51.931Z"
   },
   {
    "duration": 381129,
    "start_time": "2023-03-04T21:32:48.869Z"
   },
   {
    "duration": 4,
    "start_time": "2023-03-04T21:39:34.631Z"
   },
   {
    "duration": 250,
    "start_time": "2023-03-04T21:39:42.936Z"
   },
   {
    "duration": 16,
    "start_time": "2023-03-04T21:40:08.030Z"
   },
   {
    "duration": 51,
    "start_time": "2023-03-04T21:40:16.985Z"
   },
   {
    "duration": 18,
    "start_time": "2023-03-04T21:40:35.379Z"
   },
   {
    "duration": 8,
    "start_time": "2023-03-04T21:40:43.022Z"
   },
   {
    "duration": 3,
    "start_time": "2023-03-04T21:40:48.258Z"
   },
   {
    "duration": 245,
    "start_time": "2023-03-04T21:41:04.866Z"
   },
   {
    "duration": 4,
    "start_time": "2023-03-04T21:41:24.954Z"
   },
   {
    "duration": 253,
    "start_time": "2023-03-04T21:41:41.469Z"
   },
   {
    "duration": 4,
    "start_time": "2023-03-04T21:42:01.172Z"
   },
   {
    "duration": 163988,
    "start_time": "2023-03-04T21:42:08.790Z"
   },
   {
    "duration": 4,
    "start_time": "2023-03-04T21:46:09.426Z"
   },
   {
    "duration": 484,
    "start_time": "2023-03-04T21:46:15.241Z"
   },
   {
    "duration": 6,
    "start_time": "2023-03-04T21:46:16.569Z"
   },
   {
    "duration": 102,
    "start_time": "2023-03-04T21:49:21.372Z"
   },
   {
    "duration": 55,
    "start_time": "2023-03-04T21:49:39.157Z"
   },
   {
    "duration": 98,
    "start_time": "2023-03-04T21:50:02.975Z"
   },
   {
    "duration": 112,
    "start_time": "2023-03-04T21:50:37.715Z"
   },
   {
    "duration": 98,
    "start_time": "2023-03-04T21:51:00.191Z"
   },
   {
    "duration": 104,
    "start_time": "2023-03-04T21:51:37.312Z"
   },
   {
    "duration": 122,
    "start_time": "2023-03-04T21:54:52.921Z"
   },
   {
    "duration": 93,
    "start_time": "2023-03-04T21:55:22.906Z"
   },
   {
    "duration": 100,
    "start_time": "2023-03-04T21:59:22.881Z"
   },
   {
    "duration": 107,
    "start_time": "2023-03-04T22:01:58.855Z"
   },
   {
    "duration": 102,
    "start_time": "2023-03-04T22:02:08.698Z"
   },
   {
    "duration": 61,
    "start_time": "2023-03-04T22:03:09.758Z"
   },
   {
    "duration": 40,
    "start_time": "2023-03-04T22:03:51.976Z"
   },
   {
    "duration": 38,
    "start_time": "2023-03-04T22:04:24.692Z"
   },
   {
    "duration": 47,
    "start_time": "2023-03-04T22:05:27.382Z"
   },
   {
    "duration": 121,
    "start_time": "2023-03-04T22:05:33.229Z"
   },
   {
    "duration": 247,
    "start_time": "2023-03-04T22:05:57.575Z"
   },
   {
    "duration": 250,
    "start_time": "2023-03-04T22:06:22.323Z"
   },
   {
    "duration": 3,
    "start_time": "2023-03-04T22:06:48.720Z"
   },
   {
    "duration": 248,
    "start_time": "2023-03-04T22:06:55.987Z"
   },
   {
    "duration": 4,
    "start_time": "2023-03-04T22:07:45.654Z"
   },
   {
    "duration": 231,
    "start_time": "2023-03-04T22:07:52.880Z"
   },
   {
    "duration": 4,
    "start_time": "2023-03-04T22:08:25.813Z"
   },
   {
    "duration": 255,
    "start_time": "2023-03-04T22:08:26.674Z"
   },
   {
    "duration": 4,
    "start_time": "2023-03-04T22:08:51.582Z"
   },
   {
    "duration": 244,
    "start_time": "2023-03-04T22:08:52.585Z"
   },
   {
    "duration": 3,
    "start_time": "2023-03-04T22:09:23.681Z"
   },
   {
    "duration": 272,
    "start_time": "2023-03-04T22:09:25.724Z"
   },
   {
    "duration": 260,
    "start_time": "2023-03-04T22:09:38.705Z"
   },
   {
    "duration": 4,
    "start_time": "2023-03-04T22:10:12.188Z"
   },
   {
    "duration": 271,
    "start_time": "2023-03-04T22:10:12.994Z"
   },
   {
    "duration": 3,
    "start_time": "2023-03-04T22:11:52.653Z"
   },
   {
    "duration": 234,
    "start_time": "2023-03-04T22:11:53.348Z"
   },
   {
    "duration": 3,
    "start_time": "2023-03-04T22:12:51.504Z"
   },
   {
    "duration": 268,
    "start_time": "2023-03-04T22:12:52.091Z"
   },
   {
    "duration": 279,
    "start_time": "2023-03-04T22:13:12.877Z"
   },
   {
    "duration": 3,
    "start_time": "2023-03-04T22:13:54.347Z"
   },
   {
    "duration": 242,
    "start_time": "2023-03-04T22:13:55.120Z"
   },
   {
    "duration": 98,
    "start_time": "2023-03-04T22:14:44.622Z"
   },
   {
    "duration": 58,
    "start_time": "2023-03-04T22:15:39.640Z"
   },
   {
    "duration": 642,
    "start_time": "2023-03-04T22:19:38.866Z"
   },
   {
    "duration": 51,
    "start_time": "2023-03-04T22:20:29.751Z"
   },
   {
    "duration": 563,
    "start_time": "2023-03-04T22:20:42.569Z"
   },
   {
    "duration": 172,
    "start_time": "2023-03-04T22:20:48.634Z"
   },
   {
    "duration": 152204,
    "start_time": "2023-03-04T22:21:20.651Z"
   },
   {
    "duration": 4,
    "start_time": "2023-03-04T22:24:07.816Z"
   },
   {
    "duration": 53,
    "start_time": "2023-03-04T22:24:09.683Z"
   },
   {
    "duration": 5,
    "start_time": "2023-03-04T22:24:10.707Z"
   },
   {
    "duration": 178303,
    "start_time": "2023-03-04T22:24:38.657Z"
   },
   {
    "duration": 4,
    "start_time": "2023-03-04T22:27:36.962Z"
   },
   {
    "duration": 710,
    "start_time": "2023-03-04T22:27:36.968Z"
   },
   {
    "duration": 5,
    "start_time": "2023-03-04T22:27:37.755Z"
   },
   {
    "duration": 15,
    "start_time": "2023-03-04T22:27:49.947Z"
   },
   {
    "duration": 4,
    "start_time": "2023-03-04T22:30:15.806Z"
   },
   {
    "duration": 823,
    "start_time": "2023-03-04T22:30:17.594Z"
   },
   {
    "duration": 13,
    "start_time": "2023-03-04T22:30:18.419Z"
   },
   {
    "duration": 115,
    "start_time": "2023-03-04T22:30:18.433Z"
   },
   {
    "duration": 14,
    "start_time": "2023-03-04T22:30:18.553Z"
   },
   {
    "duration": 297,
    "start_time": "2023-03-04T22:30:18.586Z"
   },
   {
    "duration": 75,
    "start_time": "2023-03-04T22:30:19.003Z"
   },
   {
    "duration": 21,
    "start_time": "2023-03-04T22:30:19.615Z"
   },
   {
    "duration": 161,
    "start_time": "2023-03-04T22:30:20.632Z"
   },
   {
    "duration": 303,
    "start_time": "2023-03-04T22:30:21.120Z"
   },
   {
    "duration": 63,
    "start_time": "2023-03-04T22:30:21.963Z"
   },
   {
    "duration": 277,
    "start_time": "2023-03-04T22:30:23.006Z"
   },
   {
    "duration": 9,
    "start_time": "2023-03-04T22:30:23.284Z"
   },
   {
    "duration": 25,
    "start_time": "2023-03-04T22:30:23.614Z"
   },
   {
    "duration": 171,
    "start_time": "2023-03-04T22:30:24.227Z"
   },
   {
    "duration": 15,
    "start_time": "2023-03-04T22:30:24.425Z"
   },
   {
    "duration": 24,
    "start_time": "2023-03-04T22:30:25.722Z"
   },
   {
    "duration": 16,
    "start_time": "2023-03-04T22:30:26.656Z"
   },
   {
    "duration": 362,
    "start_time": "2023-03-04T22:30:27.643Z"
   },
   {
    "duration": 15,
    "start_time": "2023-03-04T22:30:28.689Z"
   },
   {
    "duration": 29,
    "start_time": "2023-03-04T22:30:31.268Z"
   },
   {
    "duration": 15,
    "start_time": "2023-03-04T22:30:38.336Z"
   },
   {
    "duration": 60,
    "start_time": "2023-03-04T22:30:39.382Z"
   },
   {
    "duration": 14,
    "start_time": "2023-03-04T22:30:40.616Z"
   },
   {
    "duration": 6,
    "start_time": "2023-03-04T22:30:42.087Z"
   },
   {
    "duration": 4,
    "start_time": "2023-03-04T22:30:45.077Z"
   },
   {
    "duration": 587,
    "start_time": "2023-03-04T22:30:48.452Z"
   },
   {
    "duration": 313,
    "start_time": "2023-03-04T22:30:49.040Z"
   },
   {
    "duration": 23,
    "start_time": "2023-03-04T22:30:50.216Z"
   },
   {
    "duration": 52,
    "start_time": "2023-03-04T22:30:51.690Z"
   },
   {
    "duration": 745,
    "start_time": "2023-03-04T22:30:52.820Z"
   },
   {
    "duration": 14,
    "start_time": "2023-03-04T22:30:55.098Z"
   },
   {
    "duration": 3,
    "start_time": "2023-03-04T22:30:59.252Z"
   },
   {
    "duration": 2,
    "start_time": "2023-03-04T22:31:01.245Z"
   },
   {
    "duration": 2,
    "start_time": "2023-03-04T22:31:01.445Z"
   },
   {
    "duration": 2,
    "start_time": "2023-03-04T22:31:01.627Z"
   },
   {
    "duration": 2,
    "start_time": "2023-03-04T22:31:03.527Z"
   },
   {
    "duration": 2,
    "start_time": "2023-03-04T22:31:03.734Z"
   },
   {
    "duration": 3,
    "start_time": "2023-03-04T22:31:03.948Z"
   },
   {
    "duration": 48544,
    "start_time": "2023-03-04T22:31:05.517Z"
   },
   {
    "duration": 396,
    "start_time": "2023-03-04T22:31:54.063Z"
   },
   {
    "duration": 96,
    "start_time": "2023-03-04T22:31:54.463Z"
   },
   {
    "duration": 155699,
    "start_time": "2023-03-04T22:31:54.564Z"
   },
   {
    "duration": 5,
    "start_time": "2023-03-04T22:34:30.265Z"
   },
   {
    "duration": 440,
    "start_time": "2023-03-04T22:34:30.272Z"
   },
   {
    "duration": 5,
    "start_time": "2023-03-04T22:34:30.714Z"
   },
   {
    "duration": 152472,
    "start_time": "2023-03-04T22:34:30.721Z"
   },
   {
    "duration": 5,
    "start_time": "2023-03-04T22:37:03.195Z"
   },
   {
    "duration": 64,
    "start_time": "2023-03-04T22:37:03.203Z"
   },
   {
    "duration": 5,
    "start_time": "2023-03-04T22:37:03.269Z"
   },
   {
    "duration": 178202,
    "start_time": "2023-03-04T22:37:03.275Z"
   },
   {
    "duration": 77,
    "start_time": "2023-03-04T22:40:01.479Z"
   },
   {
    "duration": 703,
    "start_time": "2023-03-04T22:40:01.557Z"
   },
   {
    "duration": 6,
    "start_time": "2023-03-04T22:40:02.262Z"
   },
   {
    "duration": 24,
    "start_time": "2023-03-04T22:40:02.269Z"
   },
   {
    "duration": 124,
    "start_time": "2023-03-04T22:40:02.296Z"
   },
   {
    "duration": 213,
    "start_time": "2023-03-04T22:40:56.750Z"
   },
   {
    "duration": 154198,
    "start_time": "2023-03-04T22:42:00.775Z"
   },
   {
    "duration": 14,
    "start_time": "2023-03-04T22:47:02.831Z"
   },
   {
    "duration": 13,
    "start_time": "2023-03-04T22:49:33.502Z"
   },
   {
    "duration": 4,
    "start_time": "2023-03-04T23:00:01.436Z"
   },
   {
    "duration": 299,
    "start_time": "2023-03-04T23:00:11.134Z"
   },
   {
    "duration": 3,
    "start_time": "2023-03-04T23:01:47.668Z"
   },
   {
    "duration": 155530,
    "start_time": "2023-03-04T23:01:53.012Z"
   },
   {
    "duration": 178,
    "start_time": "2023-03-04T23:07:12.463Z"
   },
   {
    "duration": 153065,
    "start_time": "2023-03-04T23:07:39.375Z"
   },
   {
    "duration": 6851,
    "start_time": "2023-03-05T18:45:58.171Z"
   },
   {
    "duration": 1072,
    "start_time": "2023-03-05T18:46:05.025Z"
   },
   {
    "duration": 1036,
    "start_time": "2023-03-05T18:46:06.100Z"
   },
   {
    "duration": 19,
    "start_time": "2023-03-05T18:46:07.138Z"
   },
   {
    "duration": 130,
    "start_time": "2023-03-05T18:46:07.159Z"
   },
   {
    "duration": 6,
    "start_time": "2023-03-05T18:46:07.291Z"
   },
   {
    "duration": 298,
    "start_time": "2023-03-05T18:46:07.298Z"
   },
   {
    "duration": 88,
    "start_time": "2023-03-05T18:46:07.598Z"
   },
   {
    "duration": 32,
    "start_time": "2023-03-05T18:46:07.688Z"
   },
   {
    "duration": 175,
    "start_time": "2023-03-05T18:46:07.723Z"
   },
   {
    "duration": 357,
    "start_time": "2023-03-05T18:46:07.900Z"
   },
   {
    "duration": 67,
    "start_time": "2023-03-05T18:46:08.258Z"
   },
   {
    "duration": 705,
    "start_time": "2023-03-05T18:46:08.326Z"
   },
   {
    "duration": 13,
    "start_time": "2023-03-05T18:46:09.033Z"
   },
   {
    "duration": 57,
    "start_time": "2023-03-05T18:46:09.048Z"
   },
   {
    "duration": 222,
    "start_time": "2023-03-05T18:46:09.107Z"
   },
   {
    "duration": 18,
    "start_time": "2023-03-05T18:46:09.330Z"
   },
   {
    "duration": 29,
    "start_time": "2023-03-05T18:46:09.350Z"
   },
   {
    "duration": 34,
    "start_time": "2023-03-05T18:46:09.381Z"
   },
   {
    "duration": 258,
    "start_time": "2023-03-05T18:46:09.417Z"
   },
   {
    "duration": 14,
    "start_time": "2023-03-05T18:46:09.677Z"
   },
   {
    "duration": 31,
    "start_time": "2023-03-05T18:46:09.693Z"
   },
   {
    "duration": 12,
    "start_time": "2023-03-05T18:46:09.726Z"
   },
   {
    "duration": 52,
    "start_time": "2023-03-05T18:46:09.739Z"
   },
   {
    "duration": 34,
    "start_time": "2023-03-05T18:46:09.792Z"
   },
   {
    "duration": 21,
    "start_time": "2023-03-05T18:46:09.828Z"
   },
   {
    "duration": 12,
    "start_time": "2023-03-05T18:46:09.850Z"
   },
   {
    "duration": 54,
    "start_time": "2023-03-05T18:46:24.764Z"
   },
   {
    "duration": 650,
    "start_time": "2023-03-05T18:46:25.264Z"
   },
   {
    "duration": 20,
    "start_time": "2023-03-05T18:46:46.900Z"
   },
   {
    "duration": 188,
    "start_time": "2023-03-05T18:47:03.375Z"
   },
   {
    "duration": 77,
    "start_time": "2023-03-05T18:47:27.766Z"
   },
   {
    "duration": 4,
    "start_time": "2023-03-05T18:47:40.231Z"
   },
   {
    "duration": 298,
    "start_time": "2023-03-05T18:47:48.364Z"
   },
   {
    "duration": 122,
    "start_time": "2023-03-05T18:48:15.428Z"
   },
   {
    "duration": 156739,
    "start_time": "2023-03-05T18:48:38.125Z"
   },
   {
    "duration": 4,
    "start_time": "2023-03-05T18:55:28.623Z"
   },
   {
    "duration": 6,
    "start_time": "2023-03-05T18:56:01.173Z"
   }
  ],
  "kernelspec": {
   "display_name": "Python 3 (ipykernel)",
   "language": "python",
   "name": "python3"
  },
  "language_info": {
   "codemirror_mode": {
    "name": "ipython",
    "version": 3
   },
   "file_extension": ".py",
   "mimetype": "text/x-python",
   "name": "python",
   "nbconvert_exporter": "python",
   "pygments_lexer": "ipython3",
   "version": "3.9.12"
  },
  "toc": {
   "base_numbering": 1,
   "nav_menu": {},
   "number_sections": true,
   "sideBar": true,
   "skip_h1_title": true,
   "title_cell": "Table of Contents",
   "title_sidebar": "Contents",
   "toc_cell": false,
   "toc_position": {
    "height": "calc(100% - 180px)",
    "left": "10px",
    "top": "150px",
    "width": "408.878px"
   },
   "toc_section_display": true,
   "toc_window_display": true
  }
 },
 "nbformat": 4,
 "nbformat_minor": 2
}
